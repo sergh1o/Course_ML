{
 "cells": [
  {
   "cell_type": "code",
   "execution_count": 1,
   "metadata": {},
   "outputs": [
    {
     "data": {
      "text/html": [
       "<div>\n",
       "<style scoped>\n",
       "    .dataframe tbody tr th:only-of-type {\n",
       "        vertical-align: middle;\n",
       "    }\n",
       "\n",
       "    .dataframe tbody tr th {\n",
       "        vertical-align: top;\n",
       "    }\n",
       "\n",
       "    .dataframe thead th {\n",
       "        text-align: right;\n",
       "    }\n",
       "</style>\n",
       "<table border=\"1\" class=\"dataframe\">\n",
       "  <thead>\n",
       "    <tr style=\"text-align: right;\">\n",
       "      <th></th>\n",
       "      <th>Id</th>\n",
       "      <th>MSSubClass</th>\n",
       "      <th>MSZoning</th>\n",
       "      <th>LotFrontage</th>\n",
       "      <th>LotArea</th>\n",
       "      <th>Street</th>\n",
       "      <th>Alley</th>\n",
       "      <th>LotShape</th>\n",
       "      <th>LandContour</th>\n",
       "      <th>Utilities</th>\n",
       "      <th>...</th>\n",
       "      <th>PoolArea</th>\n",
       "      <th>PoolQC</th>\n",
       "      <th>Fence</th>\n",
       "      <th>MiscFeature</th>\n",
       "      <th>MiscVal</th>\n",
       "      <th>MoSold</th>\n",
       "      <th>YrSold</th>\n",
       "      <th>SaleType</th>\n",
       "      <th>SaleCondition</th>\n",
       "      <th>SalePrice</th>\n",
       "    </tr>\n",
       "  </thead>\n",
       "  <tbody>\n",
       "    <tr>\n",
       "      <th>0</th>\n",
       "      <td>1</td>\n",
       "      <td>60</td>\n",
       "      <td>RL</td>\n",
       "      <td>65.0</td>\n",
       "      <td>8450</td>\n",
       "      <td>Pave</td>\n",
       "      <td>NaN</td>\n",
       "      <td>Reg</td>\n",
       "      <td>Lvl</td>\n",
       "      <td>AllPub</td>\n",
       "      <td>...</td>\n",
       "      <td>0</td>\n",
       "      <td>NaN</td>\n",
       "      <td>NaN</td>\n",
       "      <td>NaN</td>\n",
       "      <td>0</td>\n",
       "      <td>2</td>\n",
       "      <td>2008</td>\n",
       "      <td>WD</td>\n",
       "      <td>Normal</td>\n",
       "      <td>208500</td>\n",
       "    </tr>\n",
       "    <tr>\n",
       "      <th>1</th>\n",
       "      <td>2</td>\n",
       "      <td>20</td>\n",
       "      <td>RL</td>\n",
       "      <td>80.0</td>\n",
       "      <td>9600</td>\n",
       "      <td>Pave</td>\n",
       "      <td>NaN</td>\n",
       "      <td>Reg</td>\n",
       "      <td>Lvl</td>\n",
       "      <td>AllPub</td>\n",
       "      <td>...</td>\n",
       "      <td>0</td>\n",
       "      <td>NaN</td>\n",
       "      <td>NaN</td>\n",
       "      <td>NaN</td>\n",
       "      <td>0</td>\n",
       "      <td>5</td>\n",
       "      <td>2007</td>\n",
       "      <td>WD</td>\n",
       "      <td>Normal</td>\n",
       "      <td>181500</td>\n",
       "    </tr>\n",
       "    <tr>\n",
       "      <th>2</th>\n",
       "      <td>3</td>\n",
       "      <td>60</td>\n",
       "      <td>RL</td>\n",
       "      <td>68.0</td>\n",
       "      <td>11250</td>\n",
       "      <td>Pave</td>\n",
       "      <td>NaN</td>\n",
       "      <td>IR1</td>\n",
       "      <td>Lvl</td>\n",
       "      <td>AllPub</td>\n",
       "      <td>...</td>\n",
       "      <td>0</td>\n",
       "      <td>NaN</td>\n",
       "      <td>NaN</td>\n",
       "      <td>NaN</td>\n",
       "      <td>0</td>\n",
       "      <td>9</td>\n",
       "      <td>2008</td>\n",
       "      <td>WD</td>\n",
       "      <td>Normal</td>\n",
       "      <td>223500</td>\n",
       "    </tr>\n",
       "    <tr>\n",
       "      <th>3</th>\n",
       "      <td>4</td>\n",
       "      <td>70</td>\n",
       "      <td>RL</td>\n",
       "      <td>60.0</td>\n",
       "      <td>9550</td>\n",
       "      <td>Pave</td>\n",
       "      <td>NaN</td>\n",
       "      <td>IR1</td>\n",
       "      <td>Lvl</td>\n",
       "      <td>AllPub</td>\n",
       "      <td>...</td>\n",
       "      <td>0</td>\n",
       "      <td>NaN</td>\n",
       "      <td>NaN</td>\n",
       "      <td>NaN</td>\n",
       "      <td>0</td>\n",
       "      <td>2</td>\n",
       "      <td>2006</td>\n",
       "      <td>WD</td>\n",
       "      <td>Abnorml</td>\n",
       "      <td>140000</td>\n",
       "    </tr>\n",
       "    <tr>\n",
       "      <th>4</th>\n",
       "      <td>5</td>\n",
       "      <td>60</td>\n",
       "      <td>RL</td>\n",
       "      <td>84.0</td>\n",
       "      <td>14260</td>\n",
       "      <td>Pave</td>\n",
       "      <td>NaN</td>\n",
       "      <td>IR1</td>\n",
       "      <td>Lvl</td>\n",
       "      <td>AllPub</td>\n",
       "      <td>...</td>\n",
       "      <td>0</td>\n",
       "      <td>NaN</td>\n",
       "      <td>NaN</td>\n",
       "      <td>NaN</td>\n",
       "      <td>0</td>\n",
       "      <td>12</td>\n",
       "      <td>2008</td>\n",
       "      <td>WD</td>\n",
       "      <td>Normal</td>\n",
       "      <td>250000</td>\n",
       "    </tr>\n",
       "  </tbody>\n",
       "</table>\n",
       "<p>5 rows × 81 columns</p>\n",
       "</div>"
      ],
      "text/plain": [
       "   Id  MSSubClass MSZoning  LotFrontage  LotArea Street Alley LotShape  \\\n",
       "0   1          60       RL         65.0     8450   Pave   NaN      Reg   \n",
       "1   2          20       RL         80.0     9600   Pave   NaN      Reg   \n",
       "2   3          60       RL         68.0    11250   Pave   NaN      IR1   \n",
       "3   4          70       RL         60.0     9550   Pave   NaN      IR1   \n",
       "4   5          60       RL         84.0    14260   Pave   NaN      IR1   \n",
       "\n",
       "  LandContour Utilities    ...     PoolArea PoolQC Fence MiscFeature MiscVal  \\\n",
       "0         Lvl    AllPub    ...            0    NaN   NaN         NaN       0   \n",
       "1         Lvl    AllPub    ...            0    NaN   NaN         NaN       0   \n",
       "2         Lvl    AllPub    ...            0    NaN   NaN         NaN       0   \n",
       "3         Lvl    AllPub    ...            0    NaN   NaN         NaN       0   \n",
       "4         Lvl    AllPub    ...            0    NaN   NaN         NaN       0   \n",
       "\n",
       "  MoSold YrSold  SaleType  SaleCondition  SalePrice  \n",
       "0      2   2008        WD         Normal     208500  \n",
       "1      5   2007        WD         Normal     181500  \n",
       "2      9   2008        WD         Normal     223500  \n",
       "3      2   2006        WD        Abnorml     140000  \n",
       "4     12   2008        WD         Normal     250000  \n",
       "\n",
       "[5 rows x 81 columns]"
      ]
     },
     "execution_count": 1,
     "metadata": {},
     "output_type": "execute_result"
    }
   ],
   "source": [
    "# импортируем необходимые библиотеки\n",
    "import pandas as pd\n",
    "import numpy as np\n",
    "\n",
    "# записываем CSV-файл в объект DataFrame\n",
    "train = pd.read_csv('https://raw.githubusercontent.com/'\n",
    "                    'DunderData/Machine-Learning-Tutorials/'\n",
    "                    'master/data/housing/train.csv')\n",
    "\n",
    "# выводим первые 5 наблюдений\n",
    "train.head()"
   ]
  },
  {
   "cell_type": "code",
   "execution_count": 2,
   "metadata": {},
   "outputs": [
    {
     "data": {
      "text/plain": [
       "(1460, 81)"
      ]
     },
     "execution_count": 2,
     "metadata": {},
     "output_type": "execute_result"
    }
   ],
   "source": [
    "# смотрим форму обучающего датафрейма\n",
    "train.shape"
   ]
  },
  {
   "cell_type": "code",
   "execution_count": 3,
   "metadata": {},
   "outputs": [],
   "source": [
    "# создаем массив меток\n",
    "y = train.pop('SalePrice').values"
   ]
  },
  {
   "cell_type": "code",
   "execution_count": 4,
   "metadata": {},
   "outputs": [
    {
     "data": {
      "text/plain": [
       "1Story    726\n",
       "2Story    445\n",
       "1.5Fin    154\n",
       "SLvl       65\n",
       "SFoyer     37\n",
       "1.5Unf     14\n",
       "2.5Unf     11\n",
       "2.5Fin      8\n",
       "Name: HouseStyle, dtype: int64"
      ]
     },
     "execution_count": 4,
     "metadata": {},
     "output_type": "execute_result"
    }
   ],
   "source": [
    "# выводим частоты категорий переменной HouseStyle\n",
    "vc = train['HouseStyle'].value_counts()\n",
    "vc"
   ]
  },
  {
   "cell_type": "code",
   "execution_count": 5,
   "metadata": {},
   "outputs": [
    {
     "data": {
      "text/plain": [
       "2"
      ]
     },
     "execution_count": 5,
     "metadata": {},
     "output_type": "execute_result"
    }
   ],
   "source": [
    "# создаем объект DataFrame с одним столбцом\n",
    "hs_train = train[['HouseStyle']].copy()\n",
    "hs_train.ndim"
   ]
  },
  {
   "cell_type": "code",
   "execution_count": 6,
   "metadata": {},
   "outputs": [
    {
     "data": {
      "text/plain": [
       "array([[0., 0., 0., ..., 1., 0., 0.],\n",
       "       [0., 0., 1., ..., 0., 0., 0.],\n",
       "       [0., 0., 0., ..., 1., 0., 0.],\n",
       "       ...,\n",
       "       [0., 0., 0., ..., 1., 0., 0.],\n",
       "       [0., 0., 1., ..., 0., 0., 0.],\n",
       "       [0., 0., 1., ..., 0., 0., 0.]])"
      ]
     },
     "execution_count": 6,
     "metadata": {},
     "output_type": "execute_result"
    }
   ],
   "source": [
    "# импортируем класс OneHotEncoder\n",
    "from sklearn.preprocessing import OneHotEncoder\n",
    "# создаем экземпляр класса OneHotEncoder,\n",
    "# будем возвращать плотный массив\n",
    "ohe = OneHotEncoder(sparse=False)\n",
    "# выполняем дамми-кодирование переменной\n",
    "# HouseStyle в обучающем наборе\n",
    "hs_train_transformed = ohe.fit_transform(hs_train)\n",
    "# смотрим результаты\n",
    "hs_train_transformed"
   ]
  },
  {
   "cell_type": "code",
   "execution_count": 7,
   "metadata": {},
   "outputs": [
    {
     "data": {
      "text/plain": [
       "(1460, 8)"
      ]
     },
     "execution_count": 7,
     "metadata": {},
     "output_type": "execute_result"
    }
   ],
   "source": [
    "# убеждаемся, что каждое уникальное значение\n",
    "# получило свой столбец (8 уникальных значений\n",
    "# даст 8 столбцов)\n",
    "hs_train_transformed.shape"
   ]
  },
  {
   "cell_type": "code",
   "execution_count": 8,
   "metadata": {},
   "outputs": [
    {
     "data": {
      "text/plain": [
       "array(['x0_1.5Fin', 'x0_1.5Unf', 'x0_1Story', 'x0_2.5Fin', 'x0_2.5Unf',\n",
       "       'x0_2Story', 'x0_SFoyer', 'x0_SLvl'], dtype=object)"
      ]
     },
     "execution_count": 8,
     "metadata": {},
     "output_type": "execute_result"
    }
   ],
   "source": [
    "# запишем имена столбцов в объект feature_names\n",
    "feature_names = ohe.get_feature_names()\n",
    "# смотрим имена столбцов\n",
    "feature_names"
   ]
  },
  {
   "cell_type": "code",
   "execution_count": 9,
   "metadata": {},
   "outputs": [
    {
     "data": {
      "text/plain": [
       "array([0., 0., 0., 0., 0., 1., 0., 0.])"
      ]
     },
     "execution_count": 9,
     "metadata": {},
     "output_type": "execute_result"
    }
   ],
   "source": [
    "# выведем первую строку преообразованных данных\n",
    "row0 = hs_train_transformed[0]\n",
    "row0"
   ]
  },
  {
   "cell_type": "code",
   "execution_count": 10,
   "metadata": {},
   "outputs": [
    {
     "data": {
      "text/plain": [
       "array(['x0_2Story'], dtype=object)"
      ]
     },
     "execution_count": 10,
     "metadata": {},
     "output_type": "execute_result"
    }
   ],
   "source": [
    "# выясним имя переменной, которое\n",
    "# в первой строке закодировано 1\n",
    "feature_names[row0 == 1]"
   ]
  },
  {
   "cell_type": "code",
   "execution_count": 11,
   "metadata": {},
   "outputs": [
    {
     "data": {
      "text/plain": [
       "array(['2Story'], dtype=object)"
      ]
     },
     "execution_count": 11,
     "metadata": {},
     "output_type": "execute_result"
    }
   ],
   "source": [
    "# смотрим значение исходного столбца\n",
    "# HouseStyle в строке 0\n",
    "hs_train.values[0]"
   ]
  },
  {
   "cell_type": "code",
   "execution_count": 12,
   "metadata": {},
   "outputs": [
    {
     "data": {
      "text/plain": [
       "array([['2Story']], dtype=object)"
      ]
     },
     "execution_count": 12,
     "metadata": {},
     "output_type": "execute_result"
    }
   ],
   "source": [
    "# выполним обратное преобразование\n",
    "ohe.inverse_transform([row0])"
   ]
  },
  {
   "cell_type": "code",
   "execution_count": 13,
   "metadata": {},
   "outputs": [
    {
     "data": {
      "text/plain": [
       "array([['2Story'],\n",
       "       ['1Story'],\n",
       "       ['2Story'],\n",
       "       ...,\n",
       "       ['2Story'],\n",
       "       ['1Story'],\n",
       "       ['1Story']], dtype=object)"
      ]
     },
     "execution_count": 13,
     "metadata": {},
     "output_type": "execute_result"
    }
   ],
   "source": [
    "# выполняем инвертирование всего \n",
    "# преобразованного массива\n",
    "hs_inv = ohe.inverse_transform(hs_train_transformed)\n",
    "hs_inv"
   ]
  },
  {
   "cell_type": "code",
   "execution_count": 14,
   "metadata": {},
   "outputs": [
    {
     "data": {
      "text/plain": [
       "True"
      ]
     },
     "execution_count": 14,
     "metadata": {},
     "output_type": "execute_result"
    }
   ],
   "source": [
    "# проверяем, совпадают ли массивы\n",
    "np.array_equal(hs_inv, hs_train.values)"
   ]
  },
  {
   "cell_type": "code",
   "execution_count": 15,
   "metadata": {},
   "outputs": [
    {
     "data": {
      "text/plain": [
       "array([[0., 0., 1., ..., 0., 0., 0.],\n",
       "       [0., 0., 1., ..., 0., 0., 0.],\n",
       "       [0., 0., 0., ..., 1., 0., 0.],\n",
       "       ...,\n",
       "       [0., 0., 1., ..., 0., 0., 0.],\n",
       "       [0., 0., 0., ..., 0., 1., 0.],\n",
       "       [0., 0., 0., ..., 1., 0., 0.]])"
      ]
     },
     "execution_count": 15,
     "metadata": {},
     "output_type": "execute_result"
    }
   ],
   "source": [
    "# выполняем дамми-кодирование переменной HouseStyle\n",
    "# в тестовом наборе\n",
    "test = pd.read_csv('https://raw.githubusercontent.com/'\n",
    "                   'DunderData/Machine-Learning-Tutorials/'\n",
    "                   'master/data/housing/test.csv')\n",
    "hs_test = test[['HouseStyle']].copy()\n",
    "hs_test_transformed = ohe.transform(hs_test)\n",
    "hs_test_transformed"
   ]
  },
  {
   "cell_type": "code",
   "execution_count": 16,
   "metadata": {},
   "outputs": [
    {
     "data": {
      "text/plain": [
       "(1459, 8)"
      ]
     },
     "execution_count": 16,
     "metadata": {},
     "output_type": "execute_result"
    }
   ],
   "source": [
    "# убеждаемся, что каждое уникальное значение\n",
    "# получило свой столбец (8 уникальных значений\n",
    "# даст 8 столбцов)\n",
    "hs_test_transformed.shape"
   ]
  },
  {
   "cell_type": "code",
   "execution_count": 17,
   "metadata": {},
   "outputs": [
    {
     "data": {
      "text/html": [
       "<div>\n",
       "<style scoped>\n",
       "    .dataframe tbody tr th:only-of-type {\n",
       "        vertical-align: middle;\n",
       "    }\n",
       "\n",
       "    .dataframe tbody tr th {\n",
       "        vertical-align: top;\n",
       "    }\n",
       "\n",
       "    .dataframe thead th {\n",
       "        text-align: right;\n",
       "    }\n",
       "</style>\n",
       "<table border=\"1\" class=\"dataframe\">\n",
       "  <thead>\n",
       "    <tr style=\"text-align: right;\">\n",
       "      <th></th>\n",
       "      <th>HouseStyle</th>\n",
       "    </tr>\n",
       "  </thead>\n",
       "  <tbody>\n",
       "    <tr>\n",
       "      <th>0</th>\n",
       "      <td>3Story</td>\n",
       "    </tr>\n",
       "    <tr>\n",
       "      <th>1</th>\n",
       "      <td>1Story</td>\n",
       "    </tr>\n",
       "    <tr>\n",
       "      <th>2</th>\n",
       "      <td>2Story</td>\n",
       "    </tr>\n",
       "  </tbody>\n",
       "</table>\n",
       "</div>"
      ],
      "text/plain": [
       "  HouseStyle\n",
       "0     3Story\n",
       "1     1Story\n",
       "2     2Story"
      ]
     },
     "execution_count": 17,
     "metadata": {},
     "output_type": "execute_result"
    }
   ],
   "source": [
    "# копируем переменную HouseStyle\n",
    "# в тестовом наборе\n",
    "hs_test = test[['HouseStyle']].copy()\n",
    "# заменяем значение в переменной HouseStyle\n",
    "hs_test.iloc[0, 0] = '3Story'\n",
    "# выводим первые три наблюдения\n",
    "hs_test.head(3)"
   ]
  },
  {
   "cell_type": "code",
   "execution_count": 18,
   "metadata": {},
   "outputs": [
    {
     "ename": "ValueError",
     "evalue": "Found unknown categories ['3Story'] in column 0 during transform",
     "output_type": "error",
     "traceback": [
      "\u001b[0;31m---------------------------------------------------------------------------\u001b[0m",
      "\u001b[0;31mValueError\u001b[0m                                Traceback (most recent call last)",
      "\u001b[0;32m<ipython-input-18-aac72949f1eb>\u001b[0m in \u001b[0;36m<module>\u001b[0;34m()\u001b[0m\n\u001b[1;32m      1\u001b[0m \u001b[0;31m# выполняем дамми-кодирование переменной\u001b[0m\u001b[0;34m\u001b[0m\u001b[0;34m\u001b[0m\u001b[0m\n\u001b[1;32m      2\u001b[0m \u001b[0;31m# HouseStyle в тестовом наборе\u001b[0m\u001b[0;34m\u001b[0m\u001b[0;34m\u001b[0m\u001b[0m\n\u001b[0;32m----> 3\u001b[0;31m \u001b[0mohe\u001b[0m\u001b[0;34m.\u001b[0m\u001b[0mtransform\u001b[0m\u001b[0;34m(\u001b[0m\u001b[0mhs_test\u001b[0m\u001b[0;34m)\u001b[0m\u001b[0;34m\u001b[0m\u001b[0m\n\u001b[0m",
      "\u001b[0;32m/anaconda3/lib/python3.6/site-packages/sklearn/preprocessing/_encoders.py\u001b[0m in \u001b[0;36mtransform\u001b[0;34m(self, X)\u001b[0m\n\u001b[1;32m    589\u001b[0m                                        copy=True)\n\u001b[1;32m    590\u001b[0m         \u001b[0;32melse\u001b[0m\u001b[0;34m:\u001b[0m\u001b[0;34m\u001b[0m\u001b[0m\n\u001b[0;32m--> 591\u001b[0;31m             \u001b[0;32mreturn\u001b[0m \u001b[0mself\u001b[0m\u001b[0;34m.\u001b[0m\u001b[0m_transform_new\u001b[0m\u001b[0;34m(\u001b[0m\u001b[0mX\u001b[0m\u001b[0;34m)\u001b[0m\u001b[0;34m\u001b[0m\u001b[0m\n\u001b[0m\u001b[1;32m    592\u001b[0m \u001b[0;34m\u001b[0m\u001b[0m\n\u001b[1;32m    593\u001b[0m     \u001b[0;32mdef\u001b[0m \u001b[0minverse_transform\u001b[0m\u001b[0;34m(\u001b[0m\u001b[0mself\u001b[0m\u001b[0;34m,\u001b[0m \u001b[0mX\u001b[0m\u001b[0;34m)\u001b[0m\u001b[0;34m:\u001b[0m\u001b[0;34m\u001b[0m\u001b[0m\n",
      "\u001b[0;32m/anaconda3/lib/python3.6/site-packages/sklearn/preprocessing/_encoders.py\u001b[0m in \u001b[0;36m_transform_new\u001b[0;34m(self, X)\u001b[0m\n\u001b[1;32m    551\u001b[0m         \u001b[0mn_samples\u001b[0m\u001b[0;34m,\u001b[0m \u001b[0mn_features\u001b[0m \u001b[0;34m=\u001b[0m \u001b[0mX\u001b[0m\u001b[0;34m.\u001b[0m\u001b[0mshape\u001b[0m\u001b[0;34m\u001b[0m\u001b[0m\n\u001b[1;32m    552\u001b[0m \u001b[0;34m\u001b[0m\u001b[0m\n\u001b[0;32m--> 553\u001b[0;31m         \u001b[0mX_int\u001b[0m\u001b[0;34m,\u001b[0m \u001b[0mX_mask\u001b[0m \u001b[0;34m=\u001b[0m \u001b[0mself\u001b[0m\u001b[0;34m.\u001b[0m\u001b[0m_transform\u001b[0m\u001b[0;34m(\u001b[0m\u001b[0mX\u001b[0m\u001b[0;34m,\u001b[0m \u001b[0mhandle_unknown\u001b[0m\u001b[0;34m=\u001b[0m\u001b[0mself\u001b[0m\u001b[0;34m.\u001b[0m\u001b[0mhandle_unknown\u001b[0m\u001b[0;34m)\u001b[0m\u001b[0;34m\u001b[0m\u001b[0m\n\u001b[0m\u001b[1;32m    554\u001b[0m \u001b[0;34m\u001b[0m\u001b[0m\n\u001b[1;32m    555\u001b[0m         \u001b[0mmask\u001b[0m \u001b[0;34m=\u001b[0m \u001b[0mX_mask\u001b[0m\u001b[0;34m.\u001b[0m\u001b[0mravel\u001b[0m\u001b[0;34m(\u001b[0m\u001b[0;34m)\u001b[0m\u001b[0;34m\u001b[0m\u001b[0m\n",
      "\u001b[0;32m/anaconda3/lib/python3.6/site-packages/sklearn/preprocessing/_encoders.py\u001b[0m in \u001b[0;36m_transform\u001b[0;34m(self, X, handle_unknown)\u001b[0m\n\u001b[1;32m    107\u001b[0m                     msg = (\"Found unknown categories {0} in column {1}\"\n\u001b[1;32m    108\u001b[0m                            \" during transform\".format(diff, i))\n\u001b[0;32m--> 109\u001b[0;31m                     \u001b[0;32mraise\u001b[0m \u001b[0mValueError\u001b[0m\u001b[0;34m(\u001b[0m\u001b[0mmsg\u001b[0m\u001b[0;34m)\u001b[0m\u001b[0;34m\u001b[0m\u001b[0m\n\u001b[0m\u001b[1;32m    110\u001b[0m                 \u001b[0;32melse\u001b[0m\u001b[0;34m:\u001b[0m\u001b[0;34m\u001b[0m\u001b[0m\n\u001b[1;32m    111\u001b[0m                     \u001b[0;31m# Set the problematic rows to an acceptable value and\u001b[0m\u001b[0;34m\u001b[0m\u001b[0;34m\u001b[0m\u001b[0m\n",
      "\u001b[0;31mValueError\u001b[0m: Found unknown categories ['3Story'] in column 0 during transform"
     ]
    }
   ],
   "source": [
    "# выполняем дамми-кодирование переменной \n",
    "# HouseStyle в тестовом наборе\n",
    "ohe.transform(hs_test)"
   ]
  },
  {
   "cell_type": "code",
   "execution_count": 19,
   "metadata": {},
   "outputs": [
    {
     "data": {
      "text/plain": [
       "array([[0., 0., 0., ..., 0., 0., 0.],\n",
       "       [0., 0., 1., ..., 0., 0., 0.],\n",
       "       [0., 0., 0., ..., 1., 0., 0.],\n",
       "       ...,\n",
       "       [0., 0., 1., ..., 0., 0., 0.],\n",
       "       [0., 0., 0., ..., 0., 1., 0.],\n",
       "       [0., 0., 0., ..., 1., 0., 0.]])"
      ]
     },
     "execution_count": 19,
     "metadata": {},
     "output_type": "execute_result"
    }
   ],
   "source": [
    "# создаем экземпляр класса OneHotEncoder, задав \n",
    "# для параметра handle_unknown значение ignore\n",
    "ohe = OneHotEncoder(sparse=False, handle_unknown='ignore')\n",
    "# обучаем модель\n",
    "ohe.fit(hs_train)\n",
    "# выполняем дамми-кодирование переменной \n",
    "# HouseStyle в тестовом наборе\n",
    "hs_test_transformed = ohe.transform(hs_test)\n",
    "hs_test_transformed"
   ]
  },
  {
   "cell_type": "code",
   "execution_count": 20,
   "metadata": {},
   "outputs": [
    {
     "data": {
      "text/plain": [
       "array([0., 0., 0., 0., 0., 0., 0., 0.])"
      ]
     },
     "execution_count": 20,
     "metadata": {},
     "output_type": "execute_result"
    }
   ],
   "source": [
    "# проверим, состоит ли первая строка из одних нулей\n",
    "hs_test_transformed[0]"
   ]
  },
  {
   "cell_type": "code",
   "execution_count": 21,
   "metadata": {},
   "outputs": [
    {
     "data": {
      "text/html": [
       "<div>\n",
       "<style scoped>\n",
       "    .dataframe tbody tr th:only-of-type {\n",
       "        vertical-align: middle;\n",
       "    }\n",
       "\n",
       "    .dataframe tbody tr th {\n",
       "        vertical-align: top;\n",
       "    }\n",
       "\n",
       "    .dataframe thead th {\n",
       "        text-align: right;\n",
       "    }\n",
       "</style>\n",
       "<table border=\"1\" class=\"dataframe\">\n",
       "  <thead>\n",
       "    <tr style=\"text-align: right;\">\n",
       "      <th></th>\n",
       "      <th>HouseStyle</th>\n",
       "    </tr>\n",
       "  </thead>\n",
       "  <tbody>\n",
       "    <tr>\n",
       "      <th>0</th>\n",
       "      <td>NaN</td>\n",
       "    </tr>\n",
       "    <tr>\n",
       "      <th>1</th>\n",
       "      <td>None</td>\n",
       "    </tr>\n",
       "    <tr>\n",
       "      <th>2</th>\n",
       "      <td>2Story</td>\n",
       "    </tr>\n",
       "    <tr>\n",
       "      <th>3</th>\n",
       "      <td>2Story</td>\n",
       "    </tr>\n",
       "  </tbody>\n",
       "</table>\n",
       "</div>"
      ],
      "text/plain": [
       "  HouseStyle\n",
       "0        NaN\n",
       "1       None\n",
       "2     2Story\n",
       "3     2Story"
      ]
     },
     "execution_count": 21,
     "metadata": {},
     "output_type": "execute_result"
    }
   ],
   "source": [
    "# копируем переменную HouseStyle\n",
    "# в тестовом наборе\n",
    "hs_test = test[['HouseStyle']].copy()\n",
    "# заменяем первые два значения\n",
    "# на пропуски\n",
    "hs_test.iloc[0, 0] = np.nan\n",
    "hs_test.iloc[1, 0] = None\n",
    "# выводим первые четыре наблюдения\n",
    "hs_test.head(4)"
   ]
  },
  {
   "cell_type": "code",
   "execution_count": 22,
   "metadata": {},
   "outputs": [
    {
     "ename": "ValueError",
     "evalue": "Input contains NaN",
     "output_type": "error",
     "traceback": [
      "\u001b[0;31m---------------------------------------------------------------------------\u001b[0m",
      "\u001b[0;31mValueError\u001b[0m                                Traceback (most recent call last)",
      "\u001b[0;32m<ipython-input-22-dd17d2b83254>\u001b[0m in \u001b[0;36m<module>\u001b[0;34m()\u001b[0m\n\u001b[1;32m      8\u001b[0m \u001b[0;31m# выполняем дамми-кодирование переменной\u001b[0m\u001b[0;34m\u001b[0m\u001b[0;34m\u001b[0m\u001b[0m\n\u001b[1;32m      9\u001b[0m \u001b[0;31m# HouseStyle в обучающем наборе\u001b[0m\u001b[0;34m\u001b[0m\u001b[0;34m\u001b[0m\u001b[0m\n\u001b[0;32m---> 10\u001b[0;31m \u001b[0mohe\u001b[0m\u001b[0;34m.\u001b[0m\u001b[0mfit_transform\u001b[0m\u001b[0;34m(\u001b[0m\u001b[0mhs_train\u001b[0m\u001b[0;34m)\u001b[0m\u001b[0;34m\u001b[0m\u001b[0m\n\u001b[0m",
      "\u001b[0;32m/anaconda3/lib/python3.6/site-packages/sklearn/preprocessing/_encoders.py\u001b[0m in \u001b[0;36mfit_transform\u001b[0;34m(self, X, y)\u001b[0m\n\u001b[1;32m    499\u001b[0m                 self._categorical_features, copy=True)\n\u001b[1;32m    500\u001b[0m         \u001b[0;32melse\u001b[0m\u001b[0;34m:\u001b[0m\u001b[0;34m\u001b[0m\u001b[0m\n\u001b[0;32m--> 501\u001b[0;31m             \u001b[0;32mreturn\u001b[0m \u001b[0mself\u001b[0m\u001b[0;34m.\u001b[0m\u001b[0mfit\u001b[0m\u001b[0;34m(\u001b[0m\u001b[0mX\u001b[0m\u001b[0;34m)\u001b[0m\u001b[0;34m.\u001b[0m\u001b[0mtransform\u001b[0m\u001b[0;34m(\u001b[0m\u001b[0mX\u001b[0m\u001b[0;34m)\u001b[0m\u001b[0;34m\u001b[0m\u001b[0m\n\u001b[0m\u001b[1;32m    502\u001b[0m \u001b[0;34m\u001b[0m\u001b[0m\n\u001b[1;32m    503\u001b[0m     \u001b[0;32mdef\u001b[0m \u001b[0m_legacy_transform\u001b[0m\u001b[0;34m(\u001b[0m\u001b[0mself\u001b[0m\u001b[0;34m,\u001b[0m \u001b[0mX\u001b[0m\u001b[0;34m)\u001b[0m\u001b[0;34m:\u001b[0m\u001b[0;34m\u001b[0m\u001b[0m\n",
      "\u001b[0;32m/anaconda3/lib/python3.6/site-packages/sklearn/preprocessing/_encoders.py\u001b[0m in \u001b[0;36mfit\u001b[0;34m(self, X, y)\u001b[0m\n\u001b[1;32m    414\u001b[0m             \u001b[0;32mreturn\u001b[0m \u001b[0mself\u001b[0m\u001b[0;34m\u001b[0m\u001b[0m\n\u001b[1;32m    415\u001b[0m         \u001b[0;32melse\u001b[0m\u001b[0;34m:\u001b[0m\u001b[0;34m\u001b[0m\u001b[0m\n\u001b[0;32m--> 416\u001b[0;31m             \u001b[0mself\u001b[0m\u001b[0;34m.\u001b[0m\u001b[0m_fit\u001b[0m\u001b[0;34m(\u001b[0m\u001b[0mX\u001b[0m\u001b[0;34m,\u001b[0m \u001b[0mhandle_unknown\u001b[0m\u001b[0;34m=\u001b[0m\u001b[0mself\u001b[0m\u001b[0;34m.\u001b[0m\u001b[0mhandle_unknown\u001b[0m\u001b[0;34m)\u001b[0m\u001b[0;34m\u001b[0m\u001b[0m\n\u001b[0m\u001b[1;32m    417\u001b[0m             \u001b[0;32mreturn\u001b[0m \u001b[0mself\u001b[0m\u001b[0;34m\u001b[0m\u001b[0m\n\u001b[1;32m    418\u001b[0m \u001b[0;34m\u001b[0m\u001b[0m\n",
      "\u001b[0;32m/anaconda3/lib/python3.6/site-packages/sklearn/preprocessing/_encoders.py\u001b[0m in \u001b[0;36m_fit\u001b[0;34m(self, X, handle_unknown)\u001b[0m\n\u001b[1;32m     61\u001b[0m \u001b[0;34m\u001b[0m\u001b[0m\n\u001b[1;32m     62\u001b[0m     \u001b[0;32mdef\u001b[0m \u001b[0m_fit\u001b[0m\u001b[0;34m(\u001b[0m\u001b[0mself\u001b[0m\u001b[0;34m,\u001b[0m \u001b[0mX\u001b[0m\u001b[0;34m,\u001b[0m \u001b[0mhandle_unknown\u001b[0m\u001b[0;34m=\u001b[0m\u001b[0;34m'error'\u001b[0m\u001b[0;34m)\u001b[0m\u001b[0;34m:\u001b[0m\u001b[0;34m\u001b[0m\u001b[0m\n\u001b[0;32m---> 63\u001b[0;31m         \u001b[0mX\u001b[0m \u001b[0;34m=\u001b[0m \u001b[0mself\u001b[0m\u001b[0;34m.\u001b[0m\u001b[0m_check_X\u001b[0m\u001b[0;34m(\u001b[0m\u001b[0mX\u001b[0m\u001b[0;34m)\u001b[0m\u001b[0;34m\u001b[0m\u001b[0m\n\u001b[0m\u001b[1;32m     64\u001b[0m \u001b[0;34m\u001b[0m\u001b[0m\n\u001b[1;32m     65\u001b[0m         \u001b[0mn_samples\u001b[0m\u001b[0;34m,\u001b[0m \u001b[0mn_features\u001b[0m \u001b[0;34m=\u001b[0m \u001b[0mX\u001b[0m\u001b[0;34m.\u001b[0m\u001b[0mshape\u001b[0m\u001b[0;34m\u001b[0m\u001b[0m\n",
      "\u001b[0;32m/anaconda3/lib/python3.6/site-packages/sklearn/preprocessing/_encoders.py\u001b[0m in \u001b[0;36m_check_X\u001b[0;34m(self, X)\u001b[0m\n\u001b[1;32m     56\u001b[0m             \u001b[0;32mif\u001b[0m \u001b[0;32mnot\u001b[0m \u001b[0m_get_config\u001b[0m\u001b[0;34m(\u001b[0m\u001b[0;34m)\u001b[0m\u001b[0;34m[\u001b[0m\u001b[0;34m'assume_finite'\u001b[0m\u001b[0;34m]\u001b[0m\u001b[0;34m:\u001b[0m\u001b[0;34m\u001b[0m\u001b[0m\n\u001b[1;32m     57\u001b[0m                 \u001b[0;32mif\u001b[0m \u001b[0m_object_dtype_isnan\u001b[0m\u001b[0;34m(\u001b[0m\u001b[0mX\u001b[0m\u001b[0;34m)\u001b[0m\u001b[0;34m.\u001b[0m\u001b[0many\u001b[0m\u001b[0;34m(\u001b[0m\u001b[0;34m)\u001b[0m\u001b[0;34m:\u001b[0m\u001b[0;34m\u001b[0m\u001b[0m\n\u001b[0;32m---> 58\u001b[0;31m                     \u001b[0;32mraise\u001b[0m \u001b[0mValueError\u001b[0m\u001b[0;34m(\u001b[0m\u001b[0;34m\"Input contains NaN\"\u001b[0m\u001b[0;34m)\u001b[0m\u001b[0;34m\u001b[0m\u001b[0m\n\u001b[0m\u001b[1;32m     59\u001b[0m \u001b[0;34m\u001b[0m\u001b[0m\n\u001b[1;32m     60\u001b[0m         \u001b[0;32mreturn\u001b[0m \u001b[0mX\u001b[0m\u001b[0;34m\u001b[0m\u001b[0m\n",
      "\u001b[0;31mValueError\u001b[0m: Input contains NaN"
     ]
    }
   ],
   "source": [
    "# копируем переменную HouseStyle\n",
    "# в обучающем наборе\n",
    "hs_train = hs_train.copy()\n",
    "# заменяем первое значение на пропуск\n",
    "hs_train.iloc[0, 0] = np.nan\n",
    "# создаем экземпляр класса OneHotEncoder\n",
    "ohe = OneHotEncoder(sparse=False, handle_unknown='ignore')\n",
    "# выполняем дамми-кодирование переменной \n",
    "# HouseStyle в обучающем наборе\n",
    "ohe.fit_transform(hs_train)"
   ]
  },
  {
   "cell_type": "code",
   "execution_count": 23,
   "metadata": {
    "scrolled": true
   },
   "outputs": [
    {
     "data": {
      "text/plain": [
       "array([['MISSING'],\n",
       "       ['1Story'],\n",
       "       ['2Story'],\n",
       "       ...,\n",
       "       ['2Story'],\n",
       "       ['1Story'],\n",
       "       ['1Story']], dtype=object)"
      ]
     },
     "execution_count": 23,
     "metadata": {},
     "output_type": "execute_result"
    }
   ],
   "source": [
    "# копируем переменную HouseStyle\n",
    "# в обучающем наборе\n",
    "hs_train = train[['HouseStyle']].copy()\n",
    "# заменяем первое значение на пропуск\n",
    "hs_train.iloc[0, 0] = np.nan\n",
    "# импортируем класс SimpleImputer\n",
    "from sklearn.impute import SimpleImputer\n",
    "# создаем экземпляр класса SimpleImputer\n",
    "si = SimpleImputer(strategy='constant', fill_value='MISSING')\n",
    "# выполняем импутацию\n",
    "hs_train_imputed = si.fit_transform(hs_train)\n",
    "hs_train_imputed"
   ]
  },
  {
   "cell_type": "code",
   "execution_count": 24,
   "metadata": {},
   "outputs": [
    {
     "data": {
      "text/plain": [
       "array([[0., 0., 0., ..., 1., 0., 0.],\n",
       "       [0., 0., 1., ..., 0., 0., 0.],\n",
       "       [0., 0., 0., ..., 0., 0., 0.],\n",
       "       ...,\n",
       "       [0., 0., 0., ..., 0., 0., 0.],\n",
       "       [0., 0., 1., ..., 0., 0., 0.],\n",
       "       [0., 0., 1., ..., 0., 0., 0.]])"
      ]
     },
     "execution_count": 24,
     "metadata": {},
     "output_type": "execute_result"
    }
   ],
   "source": [
    "# выполняем дамми-кодирование переменной HouseStyle \n",
    "# в импутированном обучающем наборе\n",
    "hs_train_transformed = ohe.fit_transform(hs_train_imputed)\n",
    "hs_train_transformed"
   ]
  },
  {
   "cell_type": "code",
   "execution_count": 25,
   "metadata": {},
   "outputs": [
    {
     "data": {
      "text/plain": [
       "(1459, 9)"
      ]
     },
     "execution_count": 25,
     "metadata": {},
     "output_type": "execute_result"
    }
   ],
   "source": [
    "# копируем переменную HouseStyle\n",
    "# в тестовом наборе\n",
    "hs_test = test[['HouseStyle']].copy()\n",
    "# заменяем первые два значения на новое \n",
    "# строковое значение и пропуск\n",
    "hs_test.iloc[0, 0] = 'unique value to test set'\n",
    "hs_test.iloc[1, 0] = np.nan\n",
    "# выполняем импутацию\n",
    "hs_test_imputed = si.transform(hs_test)\n",
    "# выполняем дамми-кодирование\n",
    "hs_test_transformed = ohe.transform(hs_test_imputed)\n",
    "# убеждаемся, что каждое уникальное значение\n",
    "# получило свой столбец (8 уникальных значений плюс\n",
    "# 1 новое unique value to test set даст 9 столбцов)\n",
    "hs_test_transformed.shape"
   ]
  },
  {
   "cell_type": "code",
   "execution_count": 26,
   "metadata": {},
   "outputs": [],
   "source": [
    "# импортируем класс Pipeline\n",
    "from sklearn.pipeline import Pipeline"
   ]
  },
  {
   "cell_type": "code",
   "execution_count": 27,
   "metadata": {},
   "outputs": [
    {
     "data": {
      "text/plain": [
       "(1460, 9)"
      ]
     },
     "execution_count": 27,
     "metadata": {},
     "output_type": "execute_result"
    }
   ],
   "source": [
    "# задаем этап импутации\n",
    "si_step = ('si', SimpleImputer(strategy='constant',\n",
    "                               fill_value='MISSING'))\n",
    "# задаем этап дамми-кодирования\n",
    "ohe_step = ('ohe', OneHotEncoder(sparse=False,\n",
    "                                 handle_unknown='ignore'))\n",
    "# создаем список этапов\n",
    "steps = [si_step, ohe_step]\n",
    "# создаем конвейер, передав список этапов\n",
    "pipe = Pipeline(steps)\n",
    "# копируем переменную HouseStyle\n",
    "# в обучающем наборе\n",
    "hs_train = train[['HouseStyle']].copy()\n",
    "# заменяем первое значение на пропуск\n",
    "hs_train.iloc[0, 0] = np.nan\n",
    "# выполняем импутацию и дамми-кодирование\n",
    "# переменной HouseStyle в обучающем наборе\n",
    "# с помощью каждого этапа конвейера\n",
    "hs_transformed = pipe.fit_transform(hs_train)\n",
    "# убеждаемся, что каждое уникальное значение\n",
    "# получило свой столбец (8 уникальных значений\n",
    "# плюс 1 новое MISSING даст 9 столбцов)\n",
    "hs_transformed.shape"
   ]
  },
  {
   "cell_type": "code",
   "execution_count": 28,
   "metadata": {},
   "outputs": [
    {
     "data": {
      "text/plain": [
       "(1459, 9)"
      ]
     },
     "execution_count": 28,
     "metadata": {},
     "output_type": "execute_result"
    }
   ],
   "source": [
    "# копируем переменную HouseStyle\n",
    "# в тестовом наборе\n",
    "hs_test = test[['HouseStyle']].copy()\n",
    "# выполняем импутацию и дамми-кодирование\n",
    "# переменной HouseStyle в тестовом наборе\n",
    "# с помощью каждого этапа конвейера\n",
    "hs_test_transformed = pipe.transform(hs_test)\n",
    "# убеждаемся, что каждое уникальное значение\n",
    "# получило свой столбец (8 уникальных значений\n",
    "# плюс 1 новое MISSING даст 9 столбцов)\n",
    "hs_test_transformed.shape"
   ]
  },
  {
   "cell_type": "code",
   "execution_count": 29,
   "metadata": {},
   "outputs": [
    {
     "data": {
      "text/html": [
       "<div>\n",
       "<style scoped>\n",
       "    .dataframe tbody tr th:only-of-type {\n",
       "        vertical-align: middle;\n",
       "    }\n",
       "\n",
       "    .dataframe tbody tr th {\n",
       "        vertical-align: top;\n",
       "    }\n",
       "\n",
       "    .dataframe thead th {\n",
       "        text-align: right;\n",
       "    }\n",
       "</style>\n",
       "<table border=\"1\" class=\"dataframe\">\n",
       "  <thead>\n",
       "    <tr style=\"text-align: right;\">\n",
       "      <th></th>\n",
       "      <th>RoofMatl</th>\n",
       "      <th>HouseStyle</th>\n",
       "    </tr>\n",
       "  </thead>\n",
       "  <tbody>\n",
       "    <tr>\n",
       "      <th>0</th>\n",
       "      <td>CompShg</td>\n",
       "      <td>2Story</td>\n",
       "    </tr>\n",
       "    <tr>\n",
       "      <th>1</th>\n",
       "      <td>CompShg</td>\n",
       "      <td>1Story</td>\n",
       "    </tr>\n",
       "    <tr>\n",
       "      <th>2</th>\n",
       "      <td>CompShg</td>\n",
       "      <td>2Story</td>\n",
       "    </tr>\n",
       "  </tbody>\n",
       "</table>\n",
       "</div>"
      ],
      "text/plain": [
       "  RoofMatl HouseStyle\n",
       "0  CompShg     2Story\n",
       "1  CompShg     1Story\n",
       "2  CompShg     2Story"
      ]
     },
     "execution_count": 29,
     "metadata": {},
     "output_type": "execute_result"
    }
   ],
   "source": [
    "# создаем список столбцов RoofMatl и HouseStyle\n",
    "# со строковыми значениями\n",
    "string_cols = ['RoofMatl', 'HouseStyle']\n",
    "# создаем датафрейм из двух столбцов\n",
    "# RoofMatl и HouseStyle\n",
    "string_train = train[string_cols]\n",
    "# выводим первые три наблюдения\n",
    "string_train.head(3)"
   ]
  },
  {
   "cell_type": "code",
   "execution_count": 30,
   "metadata": {},
   "outputs": [
    {
     "data": {
      "text/plain": [
       "array(['x0_1.5Fin', 'x0_1.5Unf', 'x0_1Story', 'x0_2.5Fin', 'x0_2.5Unf',\n",
       "       'x0_2Story', 'x0_MISSING', 'x0_SFoyer', 'x0_SLvl'], dtype=object)"
      ]
     },
     "execution_count": 30,
     "metadata": {},
     "output_type": "execute_result"
    }
   ],
   "source": [
    "# обращаемся к этапу ohe\n",
    "ohe = pipe.named_steps['ohe']\n",
    "# извлекаем названия признаков\n",
    "ohe.get_feature_names()"
   ]
  },
  {
   "cell_type": "code",
   "execution_count": 31,
   "metadata": {},
   "outputs": [],
   "source": [
    "# импортируем класс ColumnTransformer\n",
    "from sklearn.compose import ColumnTransformer\n",
    "# задаем этап импутации\n",
    "cat_si_step = ('si', SimpleImputer(strategy='constant',\n",
    "                                   fill_value='MISSING'))\n",
    "# задаем этап дамми-кодирования\n",
    "cat_ohe_step = ('ohe', OneHotEncoder(sparse=False,\n",
    "                                     handle_unknown='ignore'))\n",
    "# создаем список этапов\n",
    "cat_steps = [cat_si_step, cat_ohe_step]\n",
    "# создаем конвейер, передав список этапов\n",
    "cat_pipe = Pipeline(cat_steps)\n",
    "# создаем список столбцов RoofMatl и HouseStyle\n",
    "# со строковыми значениями\n",
    "cat_cols = ['RoofMatl', 'HouseStyle']\n",
    "# создаем список с трехэлементным кортежем\n",
    "cat_transformers = [('cat', cat_pipe, cat_cols)]\n",
    "# передаем список в ColumnTransformer\n",
    "ct = ColumnTransformer(transformers=cat_transformers)"
   ]
  },
  {
   "cell_type": "code",
   "execution_count": 32,
   "metadata": {},
   "outputs": [
    {
     "data": {
      "text/plain": [
       "(1460, 16)"
      ]
     },
     "execution_count": 32,
     "metadata": {},
     "output_type": "execute_result"
    }
   ],
   "source": [
    "# передаем обучающий набор в ColumnTransformer\n",
    "X_cat_transformed = ct.fit_transform(train)\n",
    "# убеждаемся, что преобразования выполнены\n",
    "X_cat_transformed.shape"
   ]
  },
  {
   "cell_type": "code",
   "execution_count": 33,
   "metadata": {},
   "outputs": [
    {
     "data": {
      "text/plain": [
       "(1459, 16)"
      ]
     },
     "execution_count": 33,
     "metadata": {},
     "output_type": "execute_result"
    }
   ],
   "source": [
    "# выполняем преобразование тестового набора\n",
    "X_cat_transformed_test = ct.transform(test)\n",
    "# убеждаемся, что преобразования выполнены\n",
    "X_cat_transformed_test.shape"
   ]
  },
  {
   "cell_type": "code",
   "execution_count": 34,
   "metadata": {},
   "outputs": [],
   "source": [
    "# выбираем трансформер\n",
    "pl = ct.named_transformers_['cat']"
   ]
  },
  {
   "cell_type": "code",
   "execution_count": 35,
   "metadata": {},
   "outputs": [
    {
     "data": {
      "text/plain": [
       "array(['x0_ClyTile', 'x0_CompShg', 'x0_Membran', 'x0_Metal', 'x0_Roll',\n",
       "       'x0_Tar&Grv', 'x0_WdShake', 'x0_WdShngl', 'x1_1.5Fin', 'x1_1.5Unf',\n",
       "       'x1_1Story', 'x1_2.5Fin', 'x1_2.5Unf', 'x1_2Story', 'x1_SFoyer',\n",
       "       'x1_SLvl'], dtype=object)"
      ]
     },
     "execution_count": 35,
     "metadata": {},
     "output_type": "execute_result"
    }
   ],
   "source": [
    "# извлекаем объект OneHotEncoder\n",
    "ohe = pl.named_steps['ohe']\n",
    "# извлекаем имена признаков\n",
    "ohe.get_feature_names()"
   ]
  },
  {
   "cell_type": "code",
   "execution_count": 36,
   "metadata": {},
   "outputs": [
    {
     "data": {
      "text/plain": [
       "Id               int64\n",
       "MSSubClass       int64\n",
       "MSZoning        object\n",
       "LotFrontage    float64\n",
       "LotArea          int64\n",
       "dtype: object"
      ]
     },
     "execution_count": 36,
     "metadata": {},
     "output_type": "execute_result"
    }
   ],
   "source": [
    "# смотрим типы первых 5 признаков\n",
    "train.dtypes.head()"
   ]
  },
  {
   "cell_type": "code",
   "execution_count": 37,
   "metadata": {},
   "outputs": [
    {
     "data": {
      "text/plain": [
       "array(['i', 'i', 'O', 'f', 'i'], dtype='<U1')"
      ]
     },
     "execution_count": 37,
     "metadata": {},
     "output_type": "execute_result"
    }
   ],
   "source": [
    "# выводим тип каждой переменной в виде одной буквы\n",
    "kinds = np.array([dt.kind for dt in train.dtypes])\n",
    "kinds[:5]"
   ]
  },
  {
   "cell_type": "code",
   "execution_count": 38,
   "metadata": {},
   "outputs": [
    {
     "data": {
      "text/plain": [
       "array(['Id', 'MSSubClass', 'LotFrontage', 'LotArea', 'OverallQual'],\n",
       "      dtype=object)"
      ]
     },
     "execution_count": 38,
     "metadata": {},
     "output_type": "execute_result"
    }
   ],
   "source": [
    "# создаем массив из всех признаков\n",
    "all_columns = train.columns.values\n",
    "# создаем массив из количественных признаков\n",
    "is_num = kinds != 'O'\n",
    "# отбираем только количественные признаки\n",
    "num_cols = all_columns[is_num]\n",
    "# выводим первые 5 количественных признаков\n",
    "num_cols[:5]"
   ]
  },
  {
   "cell_type": "code",
   "execution_count": 39,
   "metadata": {},
   "outputs": [
    {
     "data": {
      "text/plain": [
       "array(['MSZoning', 'Street', 'Alley', 'LotShape', 'LandContour'],\n",
       "      dtype=object)"
      ]
     },
     "execution_count": 39,
     "metadata": {},
     "output_type": "execute_result"
    }
   ],
   "source": [
    "# отбираем только категориальные признаки\n",
    "cat_cols = all_columns[~is_num]\n",
    "# выводим первые 5 категориальных признаков\n",
    "cat_cols[:5]"
   ]
  },
  {
   "cell_type": "code",
   "execution_count": 40,
   "metadata": {},
   "outputs": [
    {
     "data": {
      "text/plain": [
       "(1460, 37)"
      ]
     },
     "execution_count": 40,
     "metadata": {},
     "output_type": "execute_result"
    }
   ],
   "source": [
    "# импортируем класс StandardScaler\n",
    "from sklearn.preprocessing import StandardScaler\n",
    "# задаем этап импутации\n",
    "num_si_step = ('si', SimpleImputer(strategy='median'))\n",
    "# задаем этап стандартизации\n",
    "num_ss_step = ('ss', StandardScaler())\n",
    "# создаем список этапов\n",
    "num_steps = [num_si_step, num_ss_step]\n",
    "# создаем конвейер, передав список этапов\n",
    "num_pipe = Pipeline(num_steps)\n",
    "# создаем список с трехэлементным кортежем\n",
    "num_transformers = [('num', num_pipe, num_cols)]\n",
    "# создаем трансформер, передав список\n",
    "ct = ColumnTransformer(transformers=num_transformers)\n",
    "# выполняем преобразования обучающего\n",
    "# набора с помощью трансформера\n",
    "X_num_transformed = ct.fit_transform(train)\n",
    "# убеждаемся, что преобразования выполнены\n",
    "X_num_transformed.shape"
   ]
  },
  {
   "cell_type": "code",
   "execution_count": 41,
   "metadata": {},
   "outputs": [
    {
     "data": {
      "text/plain": [
       "(1460, 305)"
      ]
     },
     "execution_count": 41,
     "metadata": {},
     "output_type": "execute_result"
    }
   ],
   "source": [
    "# создаем список трехэлементных кортежей, в котором\n",
    "# первый элемент кортежа - название конвейера с\n",
    "# преобразованиями для определенного типа признаков\n",
    "transformers = [('cat', cat_pipe, cat_cols),\n",
    "                ('num', num_pipe, num_cols)]\n",
    "# передаем список в ColumnTransformer\n",
    "ct = ColumnTransformer(transformers=transformers)\n",
    "# выполняем преобразования для категориальных\n",
    "# и количественных признаков\n",
    "X = ct.fit_transform(train)\n",
    "# убеждаемся, что преобразования выполнены\n",
    "X.shape"
   ]
  },
  {
   "cell_type": "code",
   "execution_count": 42,
   "metadata": {},
   "outputs": [
    {
     "data": {
      "text/plain": [
       "Pipeline(memory=None,\n",
       "     steps=[('transform', ColumnTransformer(n_jobs=None, remainder='drop', sparse_threshold=0.3,\n",
       "         transformer_weights=None,\n",
       "         transformers=[('cat', Pipeline(memory=None,\n",
       "     steps=[('si', SimpleImputer(copy=True, fill_value='MISSING', missing_values=nan,\n",
       "       strategy='constant', verbos...it_intercept=True, max_iter=None,\n",
       "   normalize=False, random_state=None, solver='auto', tol=0.001))])"
      ]
     },
     "execution_count": 42,
     "metadata": {},
     "output_type": "execute_result"
    }
   ],
   "source": [
    "# импортируем класс Ridge\n",
    "from sklearn.linear_model import Ridge\n",
    "# добавляем в конвейер новый этап - модель машинного обучения\n",
    "# (модель гребневой регрессии)\n",
    "ml_pipe = Pipeline([('transform', ct), ('ridge', Ridge())])\n",
    "# выполняем преобразования и обучаем модель гребневой регрессии\n",
    "ml_pipe.fit(train, y)"
   ]
  },
  {
   "cell_type": "code",
   "execution_count": 43,
   "metadata": {},
   "outputs": [
    {
     "data": {
      "text/plain": [
       "0.9220545988101002"
      ]
     },
     "execution_count": 43,
     "metadata": {},
     "output_type": "execute_result"
    }
   ],
   "source": [
    "# оцениваем качество модели\n",
    "ml_pipe.score(train, y)"
   ]
  },
  {
   "cell_type": "code",
   "execution_count": 44,
   "metadata": {},
   "outputs": [
    {
     "data": {
      "text/plain": [
       "0.813392001956967"
      ]
     },
     "execution_count": 44,
     "metadata": {},
     "output_type": "execute_result"
    }
   ],
   "source": [
    "# импортируем класс KFold, функцию cross_val_score()\n",
    "from sklearn.model_selection import KFold, cross_val_score\n",
    "# создаем экземпляр класса KFold\n",
    "kf = KFold(n_splits=5, shuffle=True, random_state=123)\n",
    "# выполняем перекрестную проверку, конвейер размещен\n",
    "# внутри цикла перекрестной проверки\n",
    "cross_val_score(ml_pipe, train, y, cv=kf).mean()"
   ]
  },
  {
   "cell_type": "code",
   "execution_count": 45,
   "metadata": {},
   "outputs": [
    {
     "data": {
      "text/plain": [
       "{'ridge__alpha': 10, 'transform__num__si__strategy': 'median'}"
      ]
     },
     "execution_count": 45,
     "metadata": {},
     "output_type": "execute_result"
    }
   ],
   "source": [
    "# импортируем класс GridSearchCV\n",
    "from sklearn.model_selection import GridSearchCV\n",
    "# задаем сетку гиперпараметров\n",
    "param_grid = {\n",
    "    'transform__num__si__strategy': ['mean', 'median'],\n",
    "    'ridge__alpha': [.001, 0.1, 1.0, 5, 10, 50, 100, 1000]\n",
    "}\n",
    "# передаем конвейер в объект GridSearchCV\n",
    "gs = GridSearchCV(ml_pipe, param_grid, cv=kf, return_train_score=True)\n",
    "# выполняем решетчатый поиск\n",
    "gs.fit(train, y)\n",
    "# смотрим наилучшие значения гиперпараметров\n",
    "gs.best_params_"
   ]
  },
  {
   "cell_type": "code",
   "execution_count": 46,
   "metadata": {},
   "outputs": [
    {
     "data": {
      "text/plain": [
       "0.8190367464419682"
      ]
     },
     "execution_count": 46,
     "metadata": {},
     "output_type": "execute_result"
    }
   ],
   "source": [
    "# смотрим наилучшее значение R-квадрат\n",
    "gs.best_score_"
   ]
  },
  {
   "cell_type": "code",
   "execution_count": 47,
   "metadata": {},
   "outputs": [
    {
     "data": {
      "text/html": [
       "<div>\n",
       "<style scoped>\n",
       "    .dataframe tbody tr th:only-of-type {\n",
       "        vertical-align: middle;\n",
       "    }\n",
       "\n",
       "    .dataframe tbody tr th {\n",
       "        vertical-align: top;\n",
       "    }\n",
       "\n",
       "    .dataframe thead th {\n",
       "        text-align: right;\n",
       "    }\n",
       "</style>\n",
       "<table border=\"1\" class=\"dataframe\">\n",
       "  <thead>\n",
       "    <tr style=\"text-align: right;\">\n",
       "      <th></th>\n",
       "      <th>mean_fit_time</th>\n",
       "      <th>std_fit_time</th>\n",
       "      <th>mean_score_time</th>\n",
       "      <th>std_score_time</th>\n",
       "      <th>param_ridge__alpha</th>\n",
       "      <th>param_transform__num__si__strategy</th>\n",
       "      <th>params</th>\n",
       "      <th>split0_test_score</th>\n",
       "      <th>split1_test_score</th>\n",
       "      <th>split2_test_score</th>\n",
       "      <th>...</th>\n",
       "      <th>mean_test_score</th>\n",
       "      <th>std_test_score</th>\n",
       "      <th>rank_test_score</th>\n",
       "      <th>split0_train_score</th>\n",
       "      <th>split1_train_score</th>\n",
       "      <th>split2_train_score</th>\n",
       "      <th>split3_train_score</th>\n",
       "      <th>split4_train_score</th>\n",
       "      <th>mean_train_score</th>\n",
       "      <th>std_train_score</th>\n",
       "    </tr>\n",
       "  </thead>\n",
       "  <tbody>\n",
       "    <tr>\n",
       "      <th>0</th>\n",
       "      <td>0.025202</td>\n",
       "      <td>0.003471</td>\n",
       "      <td>0.007229</td>\n",
       "      <td>0.001507</td>\n",
       "      <td>0.001</td>\n",
       "      <td>mean</td>\n",
       "      <td>{'ridge__alpha': 0.001, 'transform__num__si__s...</td>\n",
       "      <td>0.898019</td>\n",
       "      <td>0.024032</td>\n",
       "      <td>0.775950</td>\n",
       "      <td>...</td>\n",
       "      <td>0.648872</td>\n",
       "      <td>0.323738</td>\n",
       "      <td>16</td>\n",
       "      <td>0.935225</td>\n",
       "      <td>0.945623</td>\n",
       "      <td>0.945871</td>\n",
       "      <td>0.938929</td>\n",
       "      <td>0.933276</td>\n",
       "      <td>0.939785</td>\n",
       "      <td>0.005197</td>\n",
       "    </tr>\n",
       "    <tr>\n",
       "      <th>1</th>\n",
       "      <td>0.026631</td>\n",
       "      <td>0.001660</td>\n",
       "      <td>0.006821</td>\n",
       "      <td>0.001156</td>\n",
       "      <td>0.001</td>\n",
       "      <td>median</td>\n",
       "      <td>{'ridge__alpha': 0.001, 'transform__num__si__s...</td>\n",
       "      <td>0.898015</td>\n",
       "      <td>0.024086</td>\n",
       "      <td>0.775946</td>\n",
       "      <td>...</td>\n",
       "      <td>0.648897</td>\n",
       "      <td>0.323717</td>\n",
       "      <td>15</td>\n",
       "      <td>0.935224</td>\n",
       "      <td>0.945617</td>\n",
       "      <td>0.945872</td>\n",
       "      <td>0.938929</td>\n",
       "      <td>0.933274</td>\n",
       "      <td>0.939783</td>\n",
       "      <td>0.005196</td>\n",
       "    </tr>\n",
       "    <tr>\n",
       "      <th>2</th>\n",
       "      <td>0.021862</td>\n",
       "      <td>0.001261</td>\n",
       "      <td>0.007994</td>\n",
       "      <td>0.001876</td>\n",
       "      <td>0.1</td>\n",
       "      <td>mean</td>\n",
       "      <td>{'ridge__alpha': 0.1, 'transform__num__si__str...</td>\n",
       "      <td>0.897111</td>\n",
       "      <td>0.779393</td>\n",
       "      <td>0.800366</td>\n",
       "      <td>...</td>\n",
       "      <td>0.802965</td>\n",
       "      <td>0.087697</td>\n",
       "      <td>12</td>\n",
       "      <td>0.934181</td>\n",
       "      <td>0.942736</td>\n",
       "      <td>0.944092</td>\n",
       "      <td>0.937660</td>\n",
       "      <td>0.933105</td>\n",
       "      <td>0.938355</td>\n",
       "      <td>0.004418</td>\n",
       "    </tr>\n",
       "    <tr>\n",
       "      <th>3</th>\n",
       "      <td>0.024888</td>\n",
       "      <td>0.001535</td>\n",
       "      <td>0.006165</td>\n",
       "      <td>0.000547</td>\n",
       "      <td>0.1</td>\n",
       "      <td>median</td>\n",
       "      <td>{'ridge__alpha': 0.1, 'transform__num__si__str...</td>\n",
       "      <td>0.897114</td>\n",
       "      <td>0.779408</td>\n",
       "      <td>0.800366</td>\n",
       "      <td>...</td>\n",
       "      <td>0.802984</td>\n",
       "      <td>0.087672</td>\n",
       "      <td>11</td>\n",
       "      <td>0.934181</td>\n",
       "      <td>0.942731</td>\n",
       "      <td>0.944092</td>\n",
       "      <td>0.937660</td>\n",
       "      <td>0.933104</td>\n",
       "      <td>0.938354</td>\n",
       "      <td>0.004417</td>\n",
       "    </tr>\n",
       "    <tr>\n",
       "      <th>4</th>\n",
       "      <td>0.023044</td>\n",
       "      <td>0.001917</td>\n",
       "      <td>0.006949</td>\n",
       "      <td>0.000775</td>\n",
       "      <td>1</td>\n",
       "      <td>mean</td>\n",
       "      <td>{'ridge__alpha': 1.0, 'transform__num__si__str...</td>\n",
       "      <td>0.891715</td>\n",
       "      <td>0.809381</td>\n",
       "      <td>0.822107</td>\n",
       "      <td>...</td>\n",
       "      <td>0.813364</td>\n",
       "      <td>0.079720</td>\n",
       "      <td>8</td>\n",
       "      <td>0.922745</td>\n",
       "      <td>0.931678</td>\n",
       "      <td>0.928385</td>\n",
       "      <td>0.925259</td>\n",
       "      <td>0.929545</td>\n",
       "      <td>0.927523</td>\n",
       "      <td>0.003164</td>\n",
       "    </tr>\n",
       "    <tr>\n",
       "      <th>5</th>\n",
       "      <td>0.024625</td>\n",
       "      <td>0.001367</td>\n",
       "      <td>0.006439</td>\n",
       "      <td>0.000518</td>\n",
       "      <td>1</td>\n",
       "      <td>median</td>\n",
       "      <td>{'ridge__alpha': 1.0, 'transform__num__si__str...</td>\n",
       "      <td>0.891728</td>\n",
       "      <td>0.809413</td>\n",
       "      <td>0.822128</td>\n",
       "      <td>...</td>\n",
       "      <td>0.813392</td>\n",
       "      <td>0.079704</td>\n",
       "      <td>7</td>\n",
       "      <td>0.922745</td>\n",
       "      <td>0.931680</td>\n",
       "      <td>0.928385</td>\n",
       "      <td>0.925261</td>\n",
       "      <td>0.929545</td>\n",
       "      <td>0.927523</td>\n",
       "      <td>0.003164</td>\n",
       "    </tr>\n",
       "    <tr>\n",
       "      <th>6</th>\n",
       "      <td>0.024263</td>\n",
       "      <td>0.002288</td>\n",
       "      <td>0.006281</td>\n",
       "      <td>0.000792</td>\n",
       "      <td>5</td>\n",
       "      <td>mean</td>\n",
       "      <td>{'ridge__alpha': 5, 'transform__num__si__strat...</td>\n",
       "      <td>0.889795</td>\n",
       "      <td>0.820456</td>\n",
       "      <td>0.820334</td>\n",
       "      <td>...</td>\n",
       "      <td>0.817382</td>\n",
       "      <td>0.071892</td>\n",
       "      <td>4</td>\n",
       "      <td>0.906954</td>\n",
       "      <td>0.916934</td>\n",
       "      <td>0.912647</td>\n",
       "      <td>0.909262</td>\n",
       "      <td>0.920456</td>\n",
       "      <td>0.913251</td>\n",
       "      <td>0.004928</td>\n",
       "    </tr>\n",
       "    <tr>\n",
       "      <th>7</th>\n",
       "      <td>0.025529</td>\n",
       "      <td>0.001706</td>\n",
       "      <td>0.007652</td>\n",
       "      <td>0.000813</td>\n",
       "      <td>5</td>\n",
       "      <td>median</td>\n",
       "      <td>{'ridge__alpha': 5, 'transform__num__si__strat...</td>\n",
       "      <td>0.889804</td>\n",
       "      <td>0.820471</td>\n",
       "      <td>0.820383</td>\n",
       "      <td>...</td>\n",
       "      <td>0.817402</td>\n",
       "      <td>0.071905</td>\n",
       "      <td>3</td>\n",
       "      <td>0.906956</td>\n",
       "      <td>0.916942</td>\n",
       "      <td>0.912647</td>\n",
       "      <td>0.909265</td>\n",
       "      <td>0.920460</td>\n",
       "      <td>0.913254</td>\n",
       "      <td>0.004929</td>\n",
       "    </tr>\n",
       "    <tr>\n",
       "      <th>8</th>\n",
       "      <td>0.023567</td>\n",
       "      <td>0.001679</td>\n",
       "      <td>0.007452</td>\n",
       "      <td>0.001302</td>\n",
       "      <td>10</td>\n",
       "      <td>mean</td>\n",
       "      <td>{'ridge__alpha': 10, 'transform__num__si__stra...</td>\n",
       "      <td>0.890470</td>\n",
       "      <td>0.824359</td>\n",
       "      <td>0.819779</td>\n",
       "      <td>...</td>\n",
       "      <td>0.819024</td>\n",
       "      <td>0.070385</td>\n",
       "      <td>2</td>\n",
       "      <td>0.899419</td>\n",
       "      <td>0.909901</td>\n",
       "      <td>0.905999</td>\n",
       "      <td>0.901841</td>\n",
       "      <td>0.915168</td>\n",
       "      <td>0.906466</td>\n",
       "      <td>0.005635</td>\n",
       "    </tr>\n",
       "    <tr>\n",
       "      <th>9</th>\n",
       "      <td>0.024530</td>\n",
       "      <td>0.001616</td>\n",
       "      <td>0.006650</td>\n",
       "      <td>0.000801</td>\n",
       "      <td>10</td>\n",
       "      <td>median</td>\n",
       "      <td>{'ridge__alpha': 10, 'transform__num__si__stra...</td>\n",
       "      <td>0.890488</td>\n",
       "      <td>0.824358</td>\n",
       "      <td>0.819844</td>\n",
       "      <td>...</td>\n",
       "      <td>0.819037</td>\n",
       "      <td>0.070422</td>\n",
       "      <td>1</td>\n",
       "      <td>0.899421</td>\n",
       "      <td>0.909908</td>\n",
       "      <td>0.905997</td>\n",
       "      <td>0.901841</td>\n",
       "      <td>0.915177</td>\n",
       "      <td>0.906469</td>\n",
       "      <td>0.005639</td>\n",
       "    </tr>\n",
       "    <tr>\n",
       "      <th>10</th>\n",
       "      <td>0.023101</td>\n",
       "      <td>0.002250</td>\n",
       "      <td>0.006265</td>\n",
       "      <td>0.000417</td>\n",
       "      <td>50</td>\n",
       "      <td>mean</td>\n",
       "      <td>{'ridge__alpha': 50, 'transform__num__si__stra...</td>\n",
       "      <td>0.888784</td>\n",
       "      <td>0.829182</td>\n",
       "      <td>0.812185</td>\n",
       "      <td>...</td>\n",
       "      <td>0.816893</td>\n",
       "      <td>0.071497</td>\n",
       "      <td>5</td>\n",
       "      <td>0.877225</td>\n",
       "      <td>0.889170</td>\n",
       "      <td>0.886337</td>\n",
       "      <td>0.880315</td>\n",
       "      <td>0.899480</td>\n",
       "      <td>0.886505</td>\n",
       "      <td>0.007745</td>\n",
       "    </tr>\n",
       "    <tr>\n",
       "      <th>11</th>\n",
       "      <td>0.026178</td>\n",
       "      <td>0.003850</td>\n",
       "      <td>0.007427</td>\n",
       "      <td>0.001092</td>\n",
       "      <td>50</td>\n",
       "      <td>median</td>\n",
       "      <td>{'ridge__alpha': 50, 'transform__num__si__stra...</td>\n",
       "      <td>0.888869</td>\n",
       "      <td>0.829144</td>\n",
       "      <td>0.812289</td>\n",
       "      <td>...</td>\n",
       "      <td>0.816892</td>\n",
       "      <td>0.071607</td>\n",
       "      <td>6</td>\n",
       "      <td>0.877204</td>\n",
       "      <td>0.889163</td>\n",
       "      <td>0.886321</td>\n",
       "      <td>0.880295</td>\n",
       "      <td>0.899514</td>\n",
       "      <td>0.886499</td>\n",
       "      <td>0.007764</td>\n",
       "    </tr>\n",
       "    <tr>\n",
       "      <th>12</th>\n",
       "      <td>0.026077</td>\n",
       "      <td>0.003741</td>\n",
       "      <td>0.007534</td>\n",
       "      <td>0.001725</td>\n",
       "      <td>100</td>\n",
       "      <td>mean</td>\n",
       "      <td>{'ridge__alpha': 100, 'transform__num__si__str...</td>\n",
       "      <td>0.883419</td>\n",
       "      <td>0.828564</td>\n",
       "      <td>0.805405</td>\n",
       "      <td>...</td>\n",
       "      <td>0.813134</td>\n",
       "      <td>0.070990</td>\n",
       "      <td>9</td>\n",
       "      <td>0.864599</td>\n",
       "      <td>0.877075</td>\n",
       "      <td>0.875010</td>\n",
       "      <td>0.867937</td>\n",
       "      <td>0.890745</td>\n",
       "      <td>0.875073</td>\n",
       "      <td>0.009058</td>\n",
       "    </tr>\n",
       "    <tr>\n",
       "      <th>13</th>\n",
       "      <td>0.023665</td>\n",
       "      <td>0.001448</td>\n",
       "      <td>0.006671</td>\n",
       "      <td>0.000741</td>\n",
       "      <td>100</td>\n",
       "      <td>median</td>\n",
       "      <td>{'ridge__alpha': 100, 'transform__num__si__str...</td>\n",
       "      <td>0.883538</td>\n",
       "      <td>0.828526</td>\n",
       "      <td>0.805521</td>\n",
       "      <td>...</td>\n",
       "      <td>0.813128</td>\n",
       "      <td>0.071129</td>\n",
       "      <td>10</td>\n",
       "      <td>0.864563</td>\n",
       "      <td>0.877062</td>\n",
       "      <td>0.874983</td>\n",
       "      <td>0.867906</td>\n",
       "      <td>0.890793</td>\n",
       "      <td>0.875061</td>\n",
       "      <td>0.009088</td>\n",
       "    </tr>\n",
       "    <tr>\n",
       "      <th>14</th>\n",
       "      <td>0.024206</td>\n",
       "      <td>0.004322</td>\n",
       "      <td>0.007380</td>\n",
       "      <td>0.000926</td>\n",
       "      <td>1000</td>\n",
       "      <td>mean</td>\n",
       "      <td>{'ridge__alpha': 1000, 'transform__num__si__st...</td>\n",
       "      <td>0.827384</td>\n",
       "      <td>0.802843</td>\n",
       "      <td>0.770604</td>\n",
       "      <td>...</td>\n",
       "      <td>0.786933</td>\n",
       "      <td>0.043982</td>\n",
       "      <td>13</td>\n",
       "      <td>0.804761</td>\n",
       "      <td>0.815626</td>\n",
       "      <td>0.816331</td>\n",
       "      <td>0.806766</td>\n",
       "      <td>0.837717</td>\n",
       "      <td>0.816240</td>\n",
       "      <td>0.011689</td>\n",
       "    </tr>\n",
       "    <tr>\n",
       "      <th>15</th>\n",
       "      <td>0.031789</td>\n",
       "      <td>0.003413</td>\n",
       "      <td>0.007993</td>\n",
       "      <td>0.001086</td>\n",
       "      <td>1000</td>\n",
       "      <td>median</td>\n",
       "      <td>{'ridge__alpha': 1000, 'transform__num__si__st...</td>\n",
       "      <td>0.827546</td>\n",
       "      <td>0.802913</td>\n",
       "      <td>0.770733</td>\n",
       "      <td>...</td>\n",
       "      <td>0.786930</td>\n",
       "      <td>0.044168</td>\n",
       "      <td>14</td>\n",
       "      <td>0.804700</td>\n",
       "      <td>0.815616</td>\n",
       "      <td>0.816307</td>\n",
       "      <td>0.806755</td>\n",
       "      <td>0.837821</td>\n",
       "      <td>0.816240</td>\n",
       "      <td>0.011741</td>\n",
       "    </tr>\n",
       "  </tbody>\n",
       "</table>\n",
       "<p>16 rows × 22 columns</p>\n",
       "</div>"
      ],
      "text/plain": [
       "    mean_fit_time  std_fit_time  mean_score_time  std_score_time  \\\n",
       "0        0.025202      0.003471         0.007229        0.001507   \n",
       "1        0.026631      0.001660         0.006821        0.001156   \n",
       "2        0.021862      0.001261         0.007994        0.001876   \n",
       "3        0.024888      0.001535         0.006165        0.000547   \n",
       "4        0.023044      0.001917         0.006949        0.000775   \n",
       "5        0.024625      0.001367         0.006439        0.000518   \n",
       "6        0.024263      0.002288         0.006281        0.000792   \n",
       "7        0.025529      0.001706         0.007652        0.000813   \n",
       "8        0.023567      0.001679         0.007452        0.001302   \n",
       "9        0.024530      0.001616         0.006650        0.000801   \n",
       "10       0.023101      0.002250         0.006265        0.000417   \n",
       "11       0.026178      0.003850         0.007427        0.001092   \n",
       "12       0.026077      0.003741         0.007534        0.001725   \n",
       "13       0.023665      0.001448         0.006671        0.000741   \n",
       "14       0.024206      0.004322         0.007380        0.000926   \n",
       "15       0.031789      0.003413         0.007993        0.001086   \n",
       "\n",
       "   param_ridge__alpha param_transform__num__si__strategy  \\\n",
       "0               0.001                               mean   \n",
       "1               0.001                             median   \n",
       "2                 0.1                               mean   \n",
       "3                 0.1                             median   \n",
       "4                   1                               mean   \n",
       "5                   1                             median   \n",
       "6                   5                               mean   \n",
       "7                   5                             median   \n",
       "8                  10                               mean   \n",
       "9                  10                             median   \n",
       "10                 50                               mean   \n",
       "11                 50                             median   \n",
       "12                100                               mean   \n",
       "13                100                             median   \n",
       "14               1000                               mean   \n",
       "15               1000                             median   \n",
       "\n",
       "                                               params  split0_test_score  \\\n",
       "0   {'ridge__alpha': 0.001, 'transform__num__si__s...           0.898019   \n",
       "1   {'ridge__alpha': 0.001, 'transform__num__si__s...           0.898015   \n",
       "2   {'ridge__alpha': 0.1, 'transform__num__si__str...           0.897111   \n",
       "3   {'ridge__alpha': 0.1, 'transform__num__si__str...           0.897114   \n",
       "4   {'ridge__alpha': 1.0, 'transform__num__si__str...           0.891715   \n",
       "5   {'ridge__alpha': 1.0, 'transform__num__si__str...           0.891728   \n",
       "6   {'ridge__alpha': 5, 'transform__num__si__strat...           0.889795   \n",
       "7   {'ridge__alpha': 5, 'transform__num__si__strat...           0.889804   \n",
       "8   {'ridge__alpha': 10, 'transform__num__si__stra...           0.890470   \n",
       "9   {'ridge__alpha': 10, 'transform__num__si__stra...           0.890488   \n",
       "10  {'ridge__alpha': 50, 'transform__num__si__stra...           0.888784   \n",
       "11  {'ridge__alpha': 50, 'transform__num__si__stra...           0.888869   \n",
       "12  {'ridge__alpha': 100, 'transform__num__si__str...           0.883419   \n",
       "13  {'ridge__alpha': 100, 'transform__num__si__str...           0.883538   \n",
       "14  {'ridge__alpha': 1000, 'transform__num__si__st...           0.827384   \n",
       "15  {'ridge__alpha': 1000, 'transform__num__si__st...           0.827546   \n",
       "\n",
       "    split1_test_score  split2_test_score       ...         mean_test_score  \\\n",
       "0            0.024032           0.775950       ...                0.648872   \n",
       "1            0.024086           0.775946       ...                0.648897   \n",
       "2            0.779393           0.800366       ...                0.802965   \n",
       "3            0.779408           0.800366       ...                0.802984   \n",
       "4            0.809381           0.822107       ...                0.813364   \n",
       "5            0.809413           0.822128       ...                0.813392   \n",
       "6            0.820456           0.820334       ...                0.817382   \n",
       "7            0.820471           0.820383       ...                0.817402   \n",
       "8            0.824359           0.819779       ...                0.819024   \n",
       "9            0.824358           0.819844       ...                0.819037   \n",
       "10           0.829182           0.812185       ...                0.816893   \n",
       "11           0.829144           0.812289       ...                0.816892   \n",
       "12           0.828564           0.805405       ...                0.813134   \n",
       "13           0.828526           0.805521       ...                0.813128   \n",
       "14           0.802843           0.770604       ...                0.786933   \n",
       "15           0.802913           0.770733       ...                0.786930   \n",
       "\n",
       "    std_test_score  rank_test_score  split0_train_score  split1_train_score  \\\n",
       "0         0.323738               16            0.935225            0.945623   \n",
       "1         0.323717               15            0.935224            0.945617   \n",
       "2         0.087697               12            0.934181            0.942736   \n",
       "3         0.087672               11            0.934181            0.942731   \n",
       "4         0.079720                8            0.922745            0.931678   \n",
       "5         0.079704                7            0.922745            0.931680   \n",
       "6         0.071892                4            0.906954            0.916934   \n",
       "7         0.071905                3            0.906956            0.916942   \n",
       "8         0.070385                2            0.899419            0.909901   \n",
       "9         0.070422                1            0.899421            0.909908   \n",
       "10        0.071497                5            0.877225            0.889170   \n",
       "11        0.071607                6            0.877204            0.889163   \n",
       "12        0.070990                9            0.864599            0.877075   \n",
       "13        0.071129               10            0.864563            0.877062   \n",
       "14        0.043982               13            0.804761            0.815626   \n",
       "15        0.044168               14            0.804700            0.815616   \n",
       "\n",
       "    split2_train_score  split3_train_score  split4_train_score  \\\n",
       "0             0.945871            0.938929            0.933276   \n",
       "1             0.945872            0.938929            0.933274   \n",
       "2             0.944092            0.937660            0.933105   \n",
       "3             0.944092            0.937660            0.933104   \n",
       "4             0.928385            0.925259            0.929545   \n",
       "5             0.928385            0.925261            0.929545   \n",
       "6             0.912647            0.909262            0.920456   \n",
       "7             0.912647            0.909265            0.920460   \n",
       "8             0.905999            0.901841            0.915168   \n",
       "9             0.905997            0.901841            0.915177   \n",
       "10            0.886337            0.880315            0.899480   \n",
       "11            0.886321            0.880295            0.899514   \n",
       "12            0.875010            0.867937            0.890745   \n",
       "13            0.874983            0.867906            0.890793   \n",
       "14            0.816331            0.806766            0.837717   \n",
       "15            0.816307            0.806755            0.837821   \n",
       "\n",
       "    mean_train_score  std_train_score  \n",
       "0           0.939785         0.005197  \n",
       "1           0.939783         0.005196  \n",
       "2           0.938355         0.004418  \n",
       "3           0.938354         0.004417  \n",
       "4           0.927523         0.003164  \n",
       "5           0.927523         0.003164  \n",
       "6           0.913251         0.004928  \n",
       "7           0.913254         0.004929  \n",
       "8           0.906466         0.005635  \n",
       "9           0.906469         0.005639  \n",
       "10          0.886505         0.007745  \n",
       "11          0.886499         0.007764  \n",
       "12          0.875073         0.009058  \n",
       "13          0.875061         0.009088  \n",
       "14          0.816240         0.011689  \n",
       "15          0.816240         0.011741  \n",
       "\n",
       "[16 rows x 22 columns]"
      ]
     },
     "execution_count": 47,
     "metadata": {},
     "output_type": "execute_result"
    }
   ],
   "source": [
    "# представляем результаты решетчатого поиска\n",
    "# в виде датафрейма pandas\n",
    "pd.DataFrame(gs.cv_results_)"
   ]
  },
  {
   "cell_type": "code",
   "execution_count": 48,
   "metadata": {},
   "outputs": [],
   "source": [
    "# импортируем класс BaseEstimator\n",
    "from sklearn.base import BaseEstimator\n",
    "\n",
    "# создаем класс BasicTransformer\n",
    "class BasicTransformer(BaseEstimator):\n",
    "    \n",
    "    def __init__(self, cat_threshold=None, num_strategy='median', return_df=False):\n",
    "        # храним параметры как публичные аттрибуты\n",
    "        self.cat_threshold = cat_threshold\n",
    "        \n",
    "        if num_strategy not in ['mean', 'median']:\n",
    "            raise ValueError('num_strategy must be either \"mean\" or \"median\"')\n",
    "        self.num_strategy = num_strategy\n",
    "        self.return_df = return_df\n",
    "        \n",
    "    def fit(self, X, y=None):\n",
    "        # подразумевает, что X - это объект DataFrame\n",
    "        self._columns = X.columns.values\n",
    "        \n",
    "        # разбиваем данные на категориальные и количественные признаки\n",
    "        self._dtypes = X.dtypes.values\n",
    "        self._kinds = np.array([dt.kind for dt in X.dtypes])\n",
    "        self._column_dtypes = {}\n",
    "        is_cat = self._kinds == 'O'\n",
    "        self._column_dtypes['cat'] = self._columns[is_cat]\n",
    "        self._column_dtypes['num'] = self._columns[~is_cat]\n",
    "        self._feature_names = self._column_dtypes['num']\n",
    "        \n",
    "        # создаем словарь на основе категориального признака, \n",
    "        # где ключом будет уникальное значение выше порога\n",
    "        self._cat_cols = {}\n",
    "        for col in self._column_dtypes['cat']:\n",
    "            vc = X[col].value_counts()\n",
    "            if self.cat_threshold is not None:\n",
    "                vc = vc[vc > self.cat_threshold]\n",
    "            vals = vc.index.values\n",
    "            self._cat_cols[col] = vals\n",
    "            self._feature_names = np.append(self._feature_names, col + '_' + vals)\n",
    "            \n",
    "        # вычисляем общее количество новых категориальных признаков    \n",
    "        self._total_cat_cols = sum([len(v) for col, v in self._cat_cols.items()])\n",
    "        \n",
    "        # вычисляем среднее или медиану\n",
    "        self._num_fill = X[self._column_dtypes['num']].agg(self.num_strategy)\n",
    "        return self    \n",
    "        \n",
    "    def transform(self, X):\n",
    "        # проверяем, есть ли у нас объект DataFrame с теми же именами столбцов, \n",
    "        # что и в том объекте DataFrame, который использовался для обучения\n",
    "        if set(self._columns) != set(X.columns):\n",
    "            raise ValueError('Passed DataFrame has diff cols than fit DataFrame')\n",
    "        elif len(self._columns) != len(X.columns):\n",
    "            raise ValueError('Passed DataFrame has diff number of cols than fit DataFrame')\n",
    "            \n",
    "        # заполняем пропуски \n",
    "        X_num = X[self._column_dtypes['num']].fillna(self._num_fill)            \n",
    "            \n",
    "        # стандартизируем количественные признаки\n",
    "        std = X_num.std()\n",
    "        X_num = (X_num - X_num.mean()) / std\n",
    "        zero_std = np.where(std == 0)[0]             \n",
    "        \n",
    "        # Если стандартное отклонение 0, то все значения идентичны. Задаем их равными 0.\n",
    "        if len(zero_std) > 0:\n",
    "            X_num.iloc[:, zero_std] = 0\n",
    "        X_num = X_num.values\n",
    "        \n",
    "        # создаем отдельный массив для преобразованных категориальных признаков\n",
    "        X_cat = np.empty((len(X), self._total_cat_cols), dtype='int')\n",
    "        i = 0\n",
    "        for col in self._column_dtypes['cat']:\n",
    "            vals = self._cat_cols[col]\n",
    "            for val in vals:\n",
    "                X_cat[:, i] = X[col] == val\n",
    "                i += 1\n",
    "                \n",
    "        # конкатенируем преобразованные количественные и категориальные признаки\n",
    "        data = np.column_stack((X_num, X_cat))\n",
    "        \n",
    "        # возвращаем либо DataFrame, либо массив\n",
    "        if self.return_df:\n",
    "            return pd.DataFrame(data=data, columns=self._feature_names)\n",
    "        else:\n",
    "            return data\n",
    "    \n",
    "    def fit_transform(self, X, y=None):\n",
    "        return self.fit(X).transform(X)\n",
    "    \n",
    "    def get_feature_names(self):\n",
    "        return self._feature_names"
   ]
  },
  {
   "cell_type": "code",
   "execution_count": 49,
   "metadata": {},
   "outputs": [
    {
     "data": {
      "text/html": [
       "<div>\n",
       "<style scoped>\n",
       "    .dataframe tbody tr th:only-of-type {\n",
       "        vertical-align: middle;\n",
       "    }\n",
       "\n",
       "    .dataframe tbody tr th {\n",
       "        vertical-align: top;\n",
       "    }\n",
       "\n",
       "    .dataframe thead th {\n",
       "        text-align: right;\n",
       "    }\n",
       "</style>\n",
       "<table border=\"1\" class=\"dataframe\">\n",
       "  <thead>\n",
       "    <tr style=\"text-align: right;\">\n",
       "      <th></th>\n",
       "      <th>Id</th>\n",
       "      <th>MSSubClass</th>\n",
       "      <th>LotFrontage</th>\n",
       "      <th>LotArea</th>\n",
       "      <th>OverallQual</th>\n",
       "      <th>OverallCond</th>\n",
       "      <th>YearBuilt</th>\n",
       "      <th>YearRemodAdd</th>\n",
       "      <th>MasVnrArea</th>\n",
       "      <th>BsmtFinSF1</th>\n",
       "      <th>...</th>\n",
       "      <th>SaleType_ConLD</th>\n",
       "      <th>SaleType_ConLw</th>\n",
       "      <th>SaleType_ConLI</th>\n",
       "      <th>SaleType_CWD</th>\n",
       "      <th>SaleCondition_Normal</th>\n",
       "      <th>SaleCondition_Partial</th>\n",
       "      <th>SaleCondition_Abnorml</th>\n",
       "      <th>SaleCondition_Family</th>\n",
       "      <th>SaleCondition_Alloca</th>\n",
       "      <th>SaleCondition_AdjLand</th>\n",
       "    </tr>\n",
       "  </thead>\n",
       "  <tbody>\n",
       "    <tr>\n",
       "      <th>0</th>\n",
       "      <td>-1.730272</td>\n",
       "      <td>0.073350</td>\n",
       "      <td>-0.220799</td>\n",
       "      <td>-0.207071</td>\n",
       "      <td>0.651256</td>\n",
       "      <td>-0.517023</td>\n",
       "      <td>1.050634</td>\n",
       "      <td>0.878367</td>\n",
       "      <td>0.513928</td>\n",
       "      <td>0.575228</td>\n",
       "      <td>...</td>\n",
       "      <td>0.0</td>\n",
       "      <td>0.0</td>\n",
       "      <td>0.0</td>\n",
       "      <td>0.0</td>\n",
       "      <td>1.0</td>\n",
       "      <td>0.0</td>\n",
       "      <td>0.0</td>\n",
       "      <td>0.0</td>\n",
       "      <td>0.0</td>\n",
       "      <td>0.0</td>\n",
       "    </tr>\n",
       "    <tr>\n",
       "      <th>1</th>\n",
       "      <td>-1.727900</td>\n",
       "      <td>-0.872264</td>\n",
       "      <td>0.460162</td>\n",
       "      <td>-0.091855</td>\n",
       "      <td>-0.071812</td>\n",
       "      <td>2.178881</td>\n",
       "      <td>0.156680</td>\n",
       "      <td>-0.429430</td>\n",
       "      <td>-0.570555</td>\n",
       "      <td>1.171591</td>\n",
       "      <td>...</td>\n",
       "      <td>0.0</td>\n",
       "      <td>0.0</td>\n",
       "      <td>0.0</td>\n",
       "      <td>0.0</td>\n",
       "      <td>1.0</td>\n",
       "      <td>0.0</td>\n",
       "      <td>0.0</td>\n",
       "      <td>0.0</td>\n",
       "      <td>0.0</td>\n",
       "      <td>0.0</td>\n",
       "    </tr>\n",
       "    <tr>\n",
       "      <th>2</th>\n",
       "      <td>-1.725528</td>\n",
       "      <td>0.073350</td>\n",
       "      <td>-0.084607</td>\n",
       "      <td>0.073455</td>\n",
       "      <td>0.651256</td>\n",
       "      <td>-0.517023</td>\n",
       "      <td>0.984415</td>\n",
       "      <td>0.829930</td>\n",
       "      <td>0.325803</td>\n",
       "      <td>0.092875</td>\n",
       "      <td>...</td>\n",
       "      <td>0.0</td>\n",
       "      <td>0.0</td>\n",
       "      <td>0.0</td>\n",
       "      <td>0.0</td>\n",
       "      <td>1.0</td>\n",
       "      <td>0.0</td>\n",
       "      <td>0.0</td>\n",
       "      <td>0.0</td>\n",
       "      <td>0.0</td>\n",
       "      <td>0.0</td>\n",
       "    </tr>\n",
       "  </tbody>\n",
       "</table>\n",
       "<p>3 rows × 246 columns</p>\n",
       "</div>"
      ],
      "text/plain": [
       "         Id  MSSubClass  LotFrontage   LotArea  OverallQual  OverallCond  \\\n",
       "0 -1.730272    0.073350    -0.220799 -0.207071     0.651256    -0.517023   \n",
       "1 -1.727900   -0.872264     0.460162 -0.091855    -0.071812     2.178881   \n",
       "2 -1.725528    0.073350    -0.084607  0.073455     0.651256    -0.517023   \n",
       "\n",
       "   YearBuilt  YearRemodAdd  MasVnrArea  BsmtFinSF1          ...            \\\n",
       "0   1.050634      0.878367    0.513928    0.575228          ...             \n",
       "1   0.156680     -0.429430   -0.570555    1.171591          ...             \n",
       "2   0.984415      0.829930    0.325803    0.092875          ...             \n",
       "\n",
       "   SaleType_ConLD  SaleType_ConLw  SaleType_ConLI  SaleType_CWD  \\\n",
       "0             0.0             0.0             0.0           0.0   \n",
       "1             0.0             0.0             0.0           0.0   \n",
       "2             0.0             0.0             0.0           0.0   \n",
       "\n",
       "   SaleCondition_Normal  SaleCondition_Partial  SaleCondition_Abnorml  \\\n",
       "0                   1.0                    0.0                    0.0   \n",
       "1                   1.0                    0.0                    0.0   \n",
       "2                   1.0                    0.0                    0.0   \n",
       "\n",
       "   SaleCondition_Family  SaleCondition_Alloca  SaleCondition_AdjLand  \n",
       "0                   0.0                   0.0                    0.0  \n",
       "1                   0.0                   0.0                    0.0  \n",
       "2                   0.0                   0.0                    0.0  \n",
       "\n",
       "[3 rows x 246 columns]"
      ]
     },
     "execution_count": 49,
     "metadata": {},
     "output_type": "execute_result"
    }
   ],
   "source": [
    "# создаем экземпляр класса BasicTransformer\n",
    "bt = BasicTransformer(cat_threshold=3, return_df=True)\n",
    "# выполняем преобразование обучающего\n",
    "# набора с помощью BasicTransformer\n",
    "train_transformed = bt.fit_transform(train)\n",
    "# выводим первые 3 наблюдения\n",
    "train_transformed.head(3)"
   ]
  },
  {
   "cell_type": "code",
   "execution_count": 50,
   "metadata": {},
   "outputs": [
    {
     "data": {
      "text/plain": [
       "0.9035633239411639"
      ]
     },
     "execution_count": 50,
     "metadata": {},
     "output_type": "execute_result"
    }
   ],
   "source": [
    "# передаем наш BasicTransformer в конвейер\n",
    "basic_pipe = Pipeline([('bt', bt), ('ridge', Ridge())])\n",
    "# выполняем преобразования и строим модель гребневой регрессии\n",
    "basic_pipe.fit(train, y)\n",
    "# оцениваем качество модели\n",
    "basic_pipe.score(train, y)"
   ]
  },
  {
   "cell_type": "code",
   "execution_count": 51,
   "metadata": {},
   "outputs": [
    {
     "data": {
      "text/plain": [
       "0.8157670129480052"
      ]
     },
     "execution_count": 51,
     "metadata": {},
     "output_type": "execute_result"
    }
   ],
   "source": [
    "# передаем наш конвейер в цикл перекрестной проверки\n",
    "cross_val_score(basic_pipe, train, y, cv=kf).mean()"
   ]
  },
  {
   "cell_type": "code",
   "execution_count": 52,
   "metadata": {},
   "outputs": [
    {
     "data": {
      "text/plain": [
       "{'bt__cat_threshold': 0, 'ridge__alpha': 10}"
      ]
     },
     "execution_count": 52,
     "metadata": {},
     "output_type": "execute_result"
    }
   ],
   "source": [
    "# задаем сетку гиперпараметров\n",
    "param_grid = {\n",
    "    'bt__cat_threshold': [0, 1, 2, 3, 5],\n",
    "    'ridge__alpha': [.1, 1, 10, 100]\n",
    "}\n",
    "# передаем наш конвейер в объект GridSearchCV\n",
    "gs = GridSearchCV(basic_pipe, param_grid, cv=kf)\n",
    "# выполняем решетчатый поиск\n",
    "gs.fit(train, y)\n",
    "# смотрим наилучшие значения гиперпараметров\n",
    "gs.best_params_"
   ]
  },
  {
   "cell_type": "code",
   "execution_count": 53,
   "metadata": {},
   "outputs": [
    {
     "data": {
      "text/plain": [
       "0.8297473585998103"
      ]
     },
     "execution_count": 53,
     "metadata": {},
     "output_type": "execute_result"
    }
   ],
   "source": [
    "# смотрим наилучшее значение R-квадрат\n",
    "gs.best_score_"
   ]
  },
  {
   "cell_type": "code",
   "execution_count": 54,
   "metadata": {},
   "outputs": [
    {
     "data": {
      "text/plain": [
       "array([[0., 0., 0., 0., 1.],\n",
       "       [0., 0., 1., 0., 0.],\n",
       "       [0., 0., 0., 1., 0.],\n",
       "       ...,\n",
       "       [1., 0., 0., 0., 0.],\n",
       "       [0., 1., 0., 0., 0.],\n",
       "       [0., 0., 1., 0., 0.]])"
      ]
     },
     "execution_count": 54,
     "metadata": {},
     "output_type": "execute_result"
    }
   ],
   "source": [
    "# импортируем класс KBinsDiscretizer\n",
    "from sklearn.preprocessing import KBinsDiscretizer\n",
    "# создаем экземпляр класса KBinsDiscretizer\n",
    "kbd = KBinsDiscretizer(encode='onehot-dense')\n",
    "# выполняем биннинг\n",
    "year_built_transformed = kbd.fit_transform(train[['YearBuilt']])\n",
    "# смотрим результаты\n",
    "year_built_transformed"
   ]
  },
  {
   "cell_type": "code",
   "execution_count": 55,
   "metadata": {},
   "outputs": [
    {
     "data": {
      "text/plain": [
       "array([292., 274., 307., 266., 321.])"
      ]
     },
     "execution_count": 55,
     "metadata": {},
     "output_type": "execute_result"
    }
   ],
   "source": [
    "# убедимся, что бины содержать примерно\n",
    "# одинаковое количество наблюдений\n",
    "year_built_transformed.sum(axis=0)"
   ]
  },
  {
   "cell_type": "code",
   "execution_count": 56,
   "metadata": {},
   "outputs": [
    {
     "data": {
      "text/plain": [
       "array([array([1872. , 1947.8, 1965. , 1984. , 2003. , 2010. ])],\n",
       "      dtype=object)"
      ]
     },
     "execution_count": 56,
     "metadata": {},
     "output_type": "execute_result"
    }
   ],
   "source": [
    "# посмотрим на границы бинов\n",
    "kbd.bin_edges_"
   ]
  },
  {
   "cell_type": "code",
   "execution_count": 57,
   "metadata": {},
   "outputs": [
    {
     "data": {
      "text/plain": [
       "(1460, 320)"
      ]
     },
     "execution_count": 57,
     "metadata": {},
     "output_type": "execute_result"
    }
   ],
   "source": [
    "# выделяем переменные с годами в отдельный список\n",
    "year_cols = ['YearBuilt', 'YearRemodAdd', 'GarageYrBlt', \n",
    "             'YrSold']\n",
    "# создаем булев массив\n",
    "not_year = ~np.isin(num_cols, year_cols + ['Id'])\n",
    "# выделяем количественные переменные, исключив\n",
    "# переменные с годами и Id\n",
    "num_cols2 = num_cols[not_year]\n",
    "# создаем этап импутации\n",
    "year_si_step = ('si', SimpleImputer(strategy='median'))\n",
    "# создаем этап биннинга\n",
    "year_kbd_step = ('kbd', KBinsDiscretizer(n_bins=5, \n",
    "                                         encode='onehot-dense'))\n",
    "# создаем список этапов\n",
    "year_steps = [year_si_step, year_kbd_step]\n",
    "# создаем конвейер, передав список этапов\n",
    "year_pipe = Pipeline(year_steps)\n",
    "# создаем список трехэлементный кортежей, в котором\n",
    "# первый элемент кортежа - название конвейера с\n",
    "# преобразованиями для определенного типа признаков\n",
    "transformers = [('cat', cat_pipe, cat_cols),\n",
    "                ('num', num_pipe, num_cols2),\n",
    "                ('year', year_pipe, year_cols)]\n",
    "# создаем трансформер, передав список\n",
    "ct = ColumnTransformer(transformers=transformers)\n",
    "# выполняем преобразования обучающего\n",
    "# набора с помощью трансформера\n",
    "X = ct.fit_transform(train)\n",
    "# убеждаемся, что преобразования выполнены\n",
    "X.shape"
   ]
  },
  {
   "cell_type": "code",
   "execution_count": 58,
   "metadata": {},
   "outputs": [
    {
     "data": {
      "text/plain": [
       "0.8127854010155339"
      ]
     },
     "execution_count": 58,
     "metadata": {},
     "output_type": "execute_result"
    }
   ],
   "source": [
    "# добавляем в конвейер новый этап - модель машинного обучения\n",
    "# (модель гребневой регрессии)\n",
    "ml_pipe = Pipeline([('transform', ct), ('ridge', Ridge())])\n",
    "# выполняем перекрестную проверку, конвейер размещен\n",
    "# внутри цикла перекрестной проверки\n",
    "cross_val_score(ml_pipe, train, y, cv=kf).mean()"
   ]
  },
  {
   "cell_type": "code",
   "execution_count": 59,
   "metadata": {},
   "outputs": [
    {
     "data": {
      "text/plain": [
       "{'ridge__alpha': 10, 'transform__year__kbd__n_bins': 6}"
      ]
     },
     "execution_count": 59,
     "metadata": {},
     "output_type": "execute_result"
    }
   ],
   "source": [
    "# задаем сетку гиперпараметров\n",
    "param_grid = {\n",
    "    'transform__year__kbd__n_bins': [4, 6, 8, 10],\n",
    "    'ridge__alpha': [.1, .5, 1, 5, 10, 100]\n",
    "}\n",
    "# передаем наш конвейер в объект GridSearchCV\n",
    "gs = GridSearchCV(ml_pipe, param_grid, cv=kf)\n",
    "# выполняем решетчатый поиск\n",
    "gs.fit(train, y)\n",
    "# смотрим наилучшие значения гиперпараметров\n",
    "gs.best_params_"
   ]
  },
  {
   "cell_type": "code",
   "execution_count": 60,
   "metadata": {},
   "outputs": [
    {
     "data": {
      "text/plain": [
       "0.8198372622112804"
      ]
     },
     "execution_count": 60,
     "metadata": {},
     "output_type": "execute_result"
    }
   ],
   "source": [
    "# смотрим наилучшее значение R-квадрат\n",
    "gs.best_score_"
   ]
  },
  {
   "cell_type": "code",
   "execution_count": 61,
   "metadata": {
    "scrolled": true
   },
   "outputs": [],
   "source": [
    "# заново записываем CSV-файл в объект DataFrame\n",
    "train = pd.read_csv('https://raw.githubusercontent.com/'\n",
    "                    'DunderData/Machine-Learning-Tutorials/'\n",
    "                    'master/data/housing/train.csv')\n",
    "\n",
    "# создаем массив меток\n",
    "y = train.pop('SalePrice').values\n",
    "\n",
    "# удаляем переменную Id\n",
    "train.drop('Id', axis=1, inplace=True)"
   ]
  },
  {
   "cell_type": "code",
   "execution_count": 62,
   "metadata": {},
   "outputs": [],
   "source": [
    "# выделим категориальные и количественные признаки\n",
    "cat_columns = train.dtypes[train.dtypes == 'object'].index\n",
    "num_columns = train.dtypes[train.dtypes != 'object'].index"
   ]
  },
  {
   "cell_type": "code",
   "execution_count": 63,
   "metadata": {
    "scrolled": false
   },
   "outputs": [
    {
     "name": "stdout",
     "output_type": "stream",
     "text": [
      "MSSubClass 1.4076567471495591\n",
      "LotFrontage 2.163569142324884\n",
      "LotArea 12.207687851233496\n",
      "OverallQual 0.2169439277628693\n",
      "OverallCond 0.6930674724842182\n",
      "YearBuilt -0.613461172488183\n",
      "YearRemodAdd -0.5035620027004709\n",
      "MasVnrArea 2.669084210182863\n",
      "BsmtFinSF1 1.685503071910789\n",
      "BsmtFinSF2 4.255261108933303\n",
      "BsmtUnfSF 0.9202684528039037\n",
      "TotalBsmtSF 1.5242545490627664\n",
      "1stFlrSF 1.3767566220336365\n",
      "2ndFlrSF 0.8130298163023265\n",
      "LowQualFinSF 9.011341288465387\n",
      "GrLivArea 1.3665603560164552\n",
      "BsmtFullBath 0.596066609663168\n",
      "BsmtHalfBath 4.103402697955168\n",
      "FullBath 0.036561558402727165\n",
      "HalfBath 0.675897448233722\n",
      "BedroomAbvGr 0.21179009627507137\n",
      "KitchenAbvGr 4.488396777072859\n",
      "TotRmsAbvGrd 0.6763408364355531\n",
      "Fireplaces 0.6495651830548841\n",
      "GarageYrBlt -0.6494146238714679\n",
      "GarageCars -0.3425489297486655\n",
      "GarageArea 0.17998090674623907\n",
      "WoodDeckSF 1.5413757571931312\n",
      "OpenPorchSF 2.3643417403694404\n",
      "EnclosedPorch 3.08987190371177\n",
      "3SsnPorch 10.304342032693112\n",
      "ScreenPorch 4.122213743143115\n",
      "PoolArea 14.828373640750588\n",
      "MiscVal 24.476794188821916\n",
      "MoSold 0.21205298505146022\n",
      "YrSold 0.09626851386568028\n"
     ]
    }
   ],
   "source": [
    "# вычислим коэффициент асимметрии для\n",
    "# количественных признаков\n",
    "for i in num_columns:\n",
    "    print(i, train[i].skew())"
   ]
  },
  {
   "cell_type": "code",
   "execution_count": 64,
   "metadata": {},
   "outputs": [],
   "source": [
    "# импортируем классы FunctionTransformer, RobustScaler\n",
    "from sklearn.preprocessing import FunctionTransformer, RobustScaler"
   ]
  },
  {
   "cell_type": "code",
   "execution_count": 65,
   "metadata": {},
   "outputs": [],
   "source": [
    "# выделяем список признаков с небольшой отрицательной асимметрией\n",
    "neg_skew_num_columns = ['YearBuilt', 'YearRemodAdd', 'GarageYrBlt', 'GarageCars']\n",
    "# выделяем список признаков с высокой положительной асимметрией\n",
    "high_pos_skew_num_columns = ['MiscVal', 'PoolArea', '3SsnPorch', 'LotArea', 'LowQualFinSF']\n",
    "# создадим булев массив\n",
    "not_neg_high_pos_skew_num_columns = ~np.isin(\n",
    "    num_columns, high_pos_skew_num_columns + neg_skew_num_columns)\n",
    "# из списка количественных признаков удалим количественные признаки \n",
    "# с небольшой отрицательной и высокой положительной асимметрией\n",
    "num_columns = num_columns[not_neg_high_pos_skew_num_columns]"
   ]
  },
  {
   "cell_type": "code",
   "execution_count": 66,
   "metadata": {},
   "outputs": [
    {
     "data": {
      "text/plain": [
       "0.8307940999181337"
      ]
     },
     "execution_count": 66,
     "metadata": {},
     "output_type": "execute_result"
    }
   ],
   "source": [
    "# создаем конвейер преобразований для количественных признаков \n",
    "# с небольшой отрицательной асимметрией\n",
    "num_negskew_pipe = Pipeline([\n",
    "    ('imputer', SimpleImputer(strategy='mean')),\n",
    "    ('square', FunctionTransformer(np.square, validate=False)),\n",
    "    ('scaler', StandardScaler())\n",
    "])\n",
    "\n",
    "# создаем конвейер преобразований для количественных признаков \n",
    "# с небольшой и средней положительной асимметрией\n",
    "num_pipe = Pipeline([\n",
    "    ('imputer', SimpleImputer(strategy='mean')),\n",
    "    ('log', FunctionTransformer(np.log1p, validate=False)),\n",
    "    ('scaler', RobustScaler())\n",
    "])\n",
    "\n",
    "# создаем конвейер преобразований для количественных\n",
    "# признаков с высокой асимметрией\n",
    "num_highposskew_pipe = Pipeline([\n",
    "    ('imputer', SimpleImputer(strategy='mean')),\n",
    "    ('sqrt', FunctionTransformer(np.sqrt, validate=False)),\n",
    "    ('kbd', KBinsDiscretizer(n_bins=5, encode='onehot-dense'))\n",
    "])\n",
    "\n",
    "# создаем конвейер преобразований для категориальных\n",
    "# признаков\n",
    "cat_pipe = Pipeline([\n",
    "    ('imputer', SimpleImputer(strategy='constant', fill_value='MISSING')),\n",
    "    ('ohe', OneHotEncoder(sparse=False, handle_unknown='ignore'))\n",
    "])\n",
    "\n",
    "transformers = [('num_negskew', num_negskew_pipe, neg_skew_num_columns),\n",
    "                ('num', num_pipe, num_columns),\n",
    "                ('num_highposskew', num_highposskew_pipe, high_pos_skew_num_columns),\n",
    "                ('cat', cat_pipe, cat_columns)]\n",
    "\n",
    "transformer = ColumnTransformer(transformers=transformers)\n",
    "\n",
    "# добавляем в конвейер новый этап - модель машинного обучения\n",
    "# (модель гребневой регрессии)\n",
    "ml_pipe = Pipeline([('transform', transformer), ('ridge', Ridge())])\n",
    "# выполняем перекрестную проверку, конвейер размещен\n",
    "# внутри цикла перекрестной проверки\n",
    "cross_val_score(ml_pipe, train, y, cv=kf).mean()"
   ]
  },
  {
   "cell_type": "code",
   "execution_count": 67,
   "metadata": {},
   "outputs": [
    {
     "data": {
      "text/plain": [
       "{'ridge__alpha': 10, 'transform__num_highposskew__kbd__n_bins': 7}"
      ]
     },
     "execution_count": 67,
     "metadata": {},
     "output_type": "execute_result"
    }
   ],
   "source": [
    "# задаем сетку гиперпараметров\n",
    "param_grid = {\n",
    "    'ridge__alpha': [.1, .5, 1, 5, 10, 100],\n",
    "    'transform__num_highposskew__kbd__n_bins': [3, 4, 5, 6, 7]\n",
    "}\n",
    "# передаем наш конвейер в объект GridSearchCV\n",
    "gs = GridSearchCV(ml_pipe, param_grid, cv=kf)\n",
    "# выполняем решетчатый поиск\n",
    "gs.fit(train, y)\n",
    "# смотрим наилучшие значения гиперпараметров\n",
    "gs.best_params_"
   ]
  },
  {
   "cell_type": "code",
   "execution_count": 68,
   "metadata": {
    "scrolled": true
   },
   "outputs": [
    {
     "data": {
      "text/plain": [
       "0.8474547753257715"
      ]
     },
     "execution_count": 68,
     "metadata": {},
     "output_type": "execute_result"
    }
   ],
   "source": [
    "# смотрим наилучшее значение R-квадрат\n",
    "gs.best_score_"
   ]
  },
  {
   "cell_type": "markdown",
   "metadata": {},
   "source": [
    "#### Больше материалов о машинном обучении и информацию о курсах по машинному обучению можно найти в нашей группе в Facebook https://www.facebook.com/groups/gewissta"
   ]
  }
 ],
 "metadata": {
  "kernelspec": {
   "display_name": "Python 3",
   "language": "python",
   "name": "python3"
  },
  "language_info": {
   "codemirror_mode": {
    "name": "ipython",
    "version": 3
   },
   "file_extension": ".py",
   "mimetype": "text/x-python",
   "name": "python",
   "nbconvert_exporter": "python",
   "pygments_lexer": "ipython3",
   "version": "3.7.1"
  }
 },
 "nbformat": 4,
 "nbformat_minor": 2
}
