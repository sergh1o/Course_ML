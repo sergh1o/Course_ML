{
 "cells": [
  {
   "cell_type": "code",
   "execution_count": 1,
   "metadata": {},
   "outputs": [],
   "source": [
    "# импортируем необходимые библиотеки\n",
    "import numpy as np\n",
    "import pandas as pd"
   ]
  },
  {
   "cell_type": "code",
   "execution_count": 2,
   "metadata": {},
   "outputs": [],
   "source": [
    "# записываем CSV-файл в объект DataFrame\n",
    "data = pd.read_csv('Data/Bankloan.csv', encoding = 'cp1251', sep = ';')"
   ]
  },
  {
   "cell_type": "code",
   "execution_count": 3,
   "metadata": {},
   "outputs": [
    {
     "data": {
      "text/html": [
       "<div>\n",
       "<style scoped>\n",
       "    .dataframe tbody tr th:only-of-type {\n",
       "        vertical-align: middle;\n",
       "    }\n",
       "\n",
       "    .dataframe tbody tr th {\n",
       "        vertical-align: top;\n",
       "    }\n",
       "\n",
       "    .dataframe thead th {\n",
       "        text-align: right;\n",
       "    }\n",
       "</style>\n",
       "<table border=\"1\" class=\"dataframe\">\n",
       "  <thead>\n",
       "    <tr style=\"text-align: right;\">\n",
       "      <th></th>\n",
       "      <th>age</th>\n",
       "      <th>job</th>\n",
       "      <th>employ</th>\n",
       "      <th>address</th>\n",
       "      <th>income</th>\n",
       "      <th>debtinc</th>\n",
       "      <th>creddebt</th>\n",
       "      <th>othdebt</th>\n",
       "      <th>default</th>\n",
       "    </tr>\n",
       "  </thead>\n",
       "  <tbody>\n",
       "    <tr>\n",
       "      <th>0</th>\n",
       "      <td>28</td>\n",
       "      <td>working - other</td>\n",
       "      <td>7</td>\n",
       "      <td>2</td>\n",
       "      <td>44</td>\n",
       "      <td>17,7</td>\n",
       "      <td>2,990592</td>\n",
       "      <td>4,797408</td>\n",
       "      <td>0</td>\n",
       "    </tr>\n",
       "    <tr>\n",
       "      <th>1</th>\n",
       "      <td>64</td>\n",
       "      <td>working - production</td>\n",
       "      <td>34</td>\n",
       "      <td>17</td>\n",
       "      <td>116</td>\n",
       "      <td>14,7</td>\n",
       "      <td>5,047392</td>\n",
       "      <td>12,004608</td>\n",
       "      <td>0</td>\n",
       "    </tr>\n",
       "    <tr>\n",
       "      <th>2</th>\n",
       "      <td>40</td>\n",
       "      <td>working - IT</td>\n",
       "      <td>20</td>\n",
       "      <td>12</td>\n",
       "      <td>61</td>\n",
       "      <td>4,8</td>\n",
       "      <td>1,042368</td>\n",
       "      <td>1,885632</td>\n",
       "      <td>0</td>\n",
       "    </tr>\n",
       "    <tr>\n",
       "      <th>3</th>\n",
       "      <td>30</td>\n",
       "      <td>working - IT</td>\n",
       "      <td>11</td>\n",
       "      <td>3</td>\n",
       "      <td>27</td>\n",
       "      <td>34,5</td>\n",
       "      <td>1,75122</td>\n",
       "      <td>7,56378</td>\n",
       "      <td>0</td>\n",
       "    </tr>\n",
       "    <tr>\n",
       "      <th>4</th>\n",
       "      <td>25</td>\n",
       "      <td>working - IT</td>\n",
       "      <td>2</td>\n",
       "      <td>2</td>\n",
       "      <td>30</td>\n",
       "      <td>22,4</td>\n",
       "      <td>0,75936</td>\n",
       "      <td>5,96064</td>\n",
       "      <td>1</td>\n",
       "    </tr>\n",
       "    <tr>\n",
       "      <th>5</th>\n",
       "      <td>35</td>\n",
       "      <td>working - IT</td>\n",
       "      <td>2</td>\n",
       "      <td>9</td>\n",
       "      <td>38</td>\n",
       "      <td>10,9</td>\n",
       "      <td>1,462126</td>\n",
       "      <td>2,679874</td>\n",
       "      <td>1</td>\n",
       "    </tr>\n",
       "    <tr>\n",
       "      <th>6</th>\n",
       "      <td>26</td>\n",
       "      <td>own business</td>\n",
       "      <td>2</td>\n",
       "      <td>4</td>\n",
       "      <td>38</td>\n",
       "      <td>11,9</td>\n",
       "      <td>0,954142</td>\n",
       "      <td>3,567858</td>\n",
       "      <td>1</td>\n",
       "    </tr>\n",
       "    <tr>\n",
       "      <th>7</th>\n",
       "      <td>25</td>\n",
       "      <td>working - IT</td>\n",
       "      <td>4</td>\n",
       "      <td>2</td>\n",
       "      <td>30</td>\n",
       "      <td>14,4</td>\n",
       "      <td>1,04544</td>\n",
       "      <td>3,27456</td>\n",
       "      <td>0</td>\n",
       "    </tr>\n",
       "    <tr>\n",
       "      <th>8</th>\n",
       "      <td>65</td>\n",
       "      <td>civil service</td>\n",
       "      <td>29</td>\n",
       "      <td>14</td>\n",
       "      <td>189</td>\n",
       "      <td>5</td>\n",
       "      <td>3,3642</td>\n",
       "      <td>6,0858</td>\n",
       "      <td>0</td>\n",
       "    </tr>\n",
       "    <tr>\n",
       "      <th>9</th>\n",
       "      <td>21</td>\n",
       "      <td>own business</td>\n",
       "      <td>0</td>\n",
       "      <td>0</td>\n",
       "      <td>23</td>\n",
       "      <td>3,9</td>\n",
       "      <td>0,305877</td>\n",
       "      <td>0,591123</td>\n",
       "      <td>0</td>\n",
       "    </tr>\n",
       "  </tbody>\n",
       "</table>\n",
       "</div>"
      ],
      "text/plain": [
       "   age                   job  employ  address  income debtinc  creddebt  \\\n",
       "0   28       working - other       7        2      44    17,7  2,990592   \n",
       "1   64  working - production      34       17     116    14,7  5,047392   \n",
       "2   40          working - IT      20       12      61     4,8  1,042368   \n",
       "3   30          working - IT      11        3      27    34,5   1,75122   \n",
       "4   25          working - IT       2        2      30    22,4   0,75936   \n",
       "5   35          working - IT       2        9      38    10,9  1,462126   \n",
       "6   26          own business       2        4      38    11,9  0,954142   \n",
       "7   25          working - IT       4        2      30    14,4   1,04544   \n",
       "8   65         civil service      29       14     189       5    3,3642   \n",
       "9   21          own business       0        0      23     3,9  0,305877   \n",
       "\n",
       "     othdebt  default  \n",
       "0   4,797408        0  \n",
       "1  12,004608        0  \n",
       "2   1,885632        0  \n",
       "3    7,56378        0  \n",
       "4    5,96064        1  \n",
       "5   2,679874        1  \n",
       "6   3,567858        1  \n",
       "7    3,27456        0  \n",
       "8     6,0858        0  \n",
       "9   0,591123        0  "
      ]
     },
     "execution_count": 3,
     "metadata": {},
     "output_type": "execute_result"
    }
   ],
   "source": [
    "# выводим первые 10 наблюдений датафрейма\n",
    "data.head(10)"
   ]
  },
  {
   "cell_type": "code",
   "execution_count": 4,
   "metadata": {},
   "outputs": [
    {
     "name": "stdout",
     "output_type": "stream",
     "text": [
      "<class 'pandas.core.frame.DataFrame'>\n",
      "RangeIndex: 1500 entries, 0 to 1499\n",
      "Data columns (total 9 columns):\n",
      "age         1500 non-null int64\n",
      "job         1500 non-null object\n",
      "employ      1500 non-null int64\n",
      "address     1500 non-null int64\n",
      "income      1500 non-null int64\n",
      "debtinc     1500 non-null object\n",
      "creddebt    1500 non-null object\n",
      "othdebt     1500 non-null object\n",
      "default     1500 non-null int64\n",
      "dtypes: int64(5), object(4)\n",
      "memory usage: 105.5+ KB\n"
     ]
    }
   ],
   "source": [
    "# смотрим типы переменных\n",
    "data.info()"
   ]
  },
  {
   "cell_type": "code",
   "execution_count": 5,
   "metadata": {
    "scrolled": true
   },
   "outputs": [
    {
     "name": "stdout",
     "output_type": "stream",
     "text": [
      "   age                   job  employ  address  income  debtinc  creddebt  \\\n",
      "0   28       working - other       7        2      44     17.7  2.990592   \n",
      "1   64  working - production      34       17     116     14.7  5.047392   \n",
      "2   40          working - IT      20       12      61      4.8  1.042368   \n",
      "3   30          working - IT      11        3      27     34.5  1.751220   \n",
      "4   25          working - IT       2        2      30     22.4  0.759360   \n",
      "\n",
      "     othdebt  default  \n",
      "0   4.797408        0  \n",
      "1  12.004608        0  \n",
      "2   1.885632        0  \n",
      "3   7.563780        0  \n",
      "4   5.960640        1  \n",
      "\n",
      "<class 'pandas.core.frame.DataFrame'>\n",
      "RangeIndex: 1500 entries, 0 to 1499\n",
      "Data columns (total 9 columns):\n",
      "age         1500 non-null int64\n",
      "job         1500 non-null object\n",
      "employ      1500 non-null int64\n",
      "address     1500 non-null int64\n",
      "income      1500 non-null int64\n",
      "debtinc     1500 non-null float64\n",
      "creddebt    1500 non-null float64\n",
      "othdebt     1500 non-null float64\n",
      "default     1500 non-null int64\n",
      "dtypes: float64(3), int64(5), object(1)\n",
      "memory usage: 105.5+ KB\n",
      "None\n"
     ]
    }
   ],
   "source": [
    "# заменяем запятые на точки и преобразуем в тип float\n",
    "for i in ['debtinc', 'creddebt', 'othdebt']:\n",
    "    data[i] = data[i].str.replace(',', '.').astype('float')\n",
    "    \n",
    "# выводим первые 5 наблюдений и смотрим типы переменных\n",
    "print(data.head())\n",
    "print('')\n",
    "print(data.info())"
   ]
  },
  {
   "cell_type": "code",
   "execution_count": 6,
   "metadata": {},
   "outputs": [],
   "source": [
    "# создаем массив признаков и массив меток\n",
    "y = data['default']\n",
    "X = pd.get_dummies(data.loc[:, data.columns != 'default'])"
   ]
  },
  {
   "cell_type": "markdown",
   "metadata": {},
   "source": [
    "## Обычная k-блочная перекрестная проверка"
   ]
  },
  {
   "cell_type": "code",
   "execution_count": 7,
   "metadata": {},
   "outputs": [
    {
     "name": "stdout",
     "output_type": "stream",
     "text": [
      "Среднее значение правильности: 0.71\n"
     ]
    }
   ],
   "source": [
    "# импортируем функцию cross_val_score() и класс StratifiedKFold\n",
    "from sklearn.model_selection import cross_val_score, StratifiedKFold\n",
    "# создаем экземпляр класса StratifiedKFold\n",
    "strat = StratifiedKFold(n_splits=10, shuffle=True, \n",
    "                        random_state=42)\n",
    "# импортируем класс DecisionTreeClassifier \n",
    "from sklearn.tree import DecisionTreeClassifier\n",
    "# создаем экземляр класса DecisionTreeClassifier\n",
    "tree = DecisionTreeClassifier(random_state=152, max_depth=8)\n",
    "# вычисляем значение правильности, усредненное по контрольным\n",
    "# блокам обычной перекрестной проверки\n",
    "scores_acc_tr = cross_val_score(tree, \n",
    "                                X, \n",
    "                                y, \n",
    "                                cv=strat)\n",
    "print(\"Среднее значение правильности: {:.2f}\".format(\n",
    "    scores_acc_tr.mean()))"
   ]
  },
  {
   "cell_type": "code",
   "execution_count": 8,
   "metadata": {},
   "outputs": [
    {
     "name": "stdout",
     "output_type": "stream",
     "text": [
      "Среднее значение AUC: 0.72\n"
     ]
    }
   ],
   "source": [
    "# вычисляем значение правильности, усредненное по\n",
    "# контрольным блокам повторной \n",
    "# перекрестной проверки\n",
    "scores_auc_tr = cross_val_score(tree, \n",
    "                                X, y, \n",
    "                                scoring='roc_auc', \n",
    "                                cv=strat)\n",
    "print(\"Среднее значение AUC: {:.2f}\".format(\n",
    "    scores_auc_tr.mean()))"
   ]
  },
  {
   "cell_type": "markdown",
   "metadata": {},
   "source": [
    "## Повторная k-блочная перекрестная проверка"
   ]
  },
  {
   "cell_type": "code",
   "execution_count": 9,
   "metadata": {},
   "outputs": [
    {
     "name": "stdout",
     "output_type": "stream",
     "text": [
      "Среднее значение правильности: 0.71\n"
     ]
    }
   ],
   "source": [
    "# импортируем класс RepeatedKFold\n",
    "from sklearn.model_selection import RepeatedKFold\n",
    "# создаем экземпляр класса RepeatedKFold\n",
    "rkf = RepeatedKFold(n_splits=10, n_repeats=10, \n",
    "                    random_state=42)\n",
    "# вычисляем значение правильности, усредненное по контрольным\n",
    "# блокам повторной перекрестной проверки\n",
    "scores_acc_tr = cross_val_score(tree, \n",
    "                                X, \n",
    "                                y, \n",
    "                                cv=rkf)\n",
    "print(\"Среднее значение правильности: {:.2f}\".format(\n",
    "    scores_acc_tr.mean()))"
   ]
  },
  {
   "cell_type": "markdown",
   "metadata": {},
   "source": [
    "## Перекрестная проверка с исключением по одному"
   ]
  },
  {
   "cell_type": "code",
   "execution_count": 10,
   "metadata": {
    "scrolled": false
   },
   "outputs": [
    {
     "name": "stdout",
     "output_type": "stream",
     "text": [
      "Количество итераций cv:  1500\n",
      "Среднее значение правильности: 0.71\n"
     ]
    }
   ],
   "source": [
    "# импортируем класс LeaveOneOut\n",
    "from sklearn.model_selection import LeaveOneOut\n",
    "# создаем экземпляр класса LeaveOneOut \n",
    "loo = LeaveOneOut()\n",
    "# вычисляем значение правильности, усредненное по контрольным\n",
    "# блокам перекрестной проверки c исключением по одному\n",
    "scores_acc_tr = cross_val_score(tree, \n",
    "                                X, \n",
    "                                y, \n",
    "                                cv=loo)\n",
    "print(\"Количество итераций cv: \", len(scores_acc_tr))\n",
    "print(\"Среднее значение правильности: {:.2f}\".format(\n",
    "     scores_acc_tr.mean()))"
   ]
  },
  {
   "cell_type": "markdown",
   "metadata": {},
   "source": [
    "## Комбинированная проверка в ручном режиме"
   ]
  },
  {
   "cell_type": "code",
   "execution_count": 11,
   "metadata": {},
   "outputs": [
    {
     "name": "stdout",
     "output_type": "stream",
     "text": [
      "Наилучшие значения гиперпараметров:  {'max_features': 9, 'max_depth': 4}\n",
      "Лучшее усредненное значение AUC cv: 0.79\n",
      "AUC модели с наилучшими значениями гиперпараметров на тестовой выборке: 0.78\n"
     ]
    }
   ],
   "source": [
    "# импортируем функцию train_test_split()\n",
    "from sklearn.model_selection import train_test_split\n",
    "# импортируем функцию roc_auc_score()\n",
    "from sklearn.metrics import roc_auc_score\n",
    "# создаем обучающий и тестовый массивы признаков и меток\n",
    "X_train, X_test, y_train, y_test = train_test_split(X, y, test_size=.3, \n",
    "                                                    stratify=y, random_state=42)\n",
    "# создаем экземпляр класса StratifiedKFold, 5-блочную\n",
    "# перекрестную проверку со случайным перемешиванием данных\n",
    "strat = StratifiedKFold(n_splits=5, shufﬂe=True, random_state=42)\n",
    "best_score = 0\n",
    "for max_depth in [4, 6, 8, 10]:\n",
    "    for max_features in [3, 6, 9, 12]:\n",
    "        # для каждой из 16 комбинаций значений гиперпараметров создаем экземпляр\n",
    "        # класса DecisionTreeClassifier - модель дерева CART\n",
    "        tree = DecisionTreeClassifier(max_depth=max_depth, max_features=max_features,  \n",
    "                                      random_state=42)\n",
    "        # для каждой из 16 комбинаций значений гиперпараметров будем строить 5 моделей дерева \n",
    "        # CART (5 раз на 4 обучающих блоках перекрестной проверки будем строить модель,\n",
    "        # на 1 контрольном блоке - проверять, вычисляя AUC)\n",
    "        scores = cross_val_score(tree, X_train, y_train, scoring='roc_auc', cv=strat)\n",
    "        # для каждой из 16 комбинаций значений гиперпараметров вычисляем значение AUC, \n",
    "        # усредненное по 5 контрольным блокам перекрестной проверки \n",
    "        auc_score = np.mean(scores)\n",
    "        # если получаем максимальное усредненное значение AUC, \n",
    "        # сохраняем его и комбинацию значений гиперпараметров\n",
    "        if auc_score > best_score:\n",
    "            best_score = auc_score\n",
    "            best_parameters = {'max_features': max_features, 'max_depth': max_depth}\n",
    "# строим модель с комбинацией значений гиперпараметров, давшей максимальное \n",
    "# усредненное значение AUC, на обучающей выборке\n",
    "tree_best = DecisionTreeClassifier(**best_parameters, random_state=42)\n",
    "tree_best.fit(X_train, y_train)\n",
    "# проверяем качество модели с комбинацией значений гиперпараметров, \n",
    "# давшей максимальное усредненное значение AUC, на тестовой выборке\n",
    "test_score = roc_auc_score(y_test, tree_best.predict_proba(X_test)[:, 1])\n",
    "print(\"Наилучшие значения гиперпараметров: \", best_parameters)\n",
    "print(\"Лучшее усредненное значение AUC cv: {:.2f}\".format(best_score))\n",
    "print(\"AUC модели с наилучшими значениями гиперпараметров на тестовой выборке: {:.2f}\".format(test_score))"
   ]
  },
  {
   "cell_type": "markdown",
   "metadata": {},
   "source": [
    "## Комбинированная проверка с помощью класса GridSearchCV"
   ]
  },
  {
   "cell_type": "code",
   "execution_count": 12,
   "metadata": {},
   "outputs": [
    {
     "name": "stdout",
     "output_type": "stream",
     "text": [
      "Наилучшие значения гиперпараметров: {'max_depth': 4, 'max_features': 9}\n",
      "Лучшее усредненное значение AUC cv: 0.79\n",
      "AUC модели с наилучшими значениями гиперпараметров на тестовой выборке: 0.78\n"
     ]
    }
   ],
   "source": [
    "# создаем экземпляр класса DecisionTreeClassifier\n",
    "tree_grid = DecisionTreeClassifier(random_state=42)\n",
    "# импортируем класс GridSearchCV\n",
    "from sklearn.model_selection import GridSearchCV\n",
    "# задаем сетку параметров, будем перебирать разные значения штрафа\n",
    "param_grid = {'max_depth': [4, 6, 8, 10], \n",
    "              'max_features': [3, 6, 9, 12]}\n",
    "# создаем экземпляр класса GridSearchCV\n",
    "grid_search = GridSearchCV(tree_grid, \n",
    "                           param_grid, \n",
    "                           scoring='roc_auc', \n",
    "                           return_train_score=True,\n",
    "                           n_jobs=-1, cv=strat)\n",
    "# запускаем решетчатый поиск\n",
    "grid_search.fit(X_train, y_train)\n",
    "# проверяем качество модели с комбинацией значений гиперпараметров, \n",
    "# давшей максимальное усредненное значение AUC, на тестовой выборке\n",
    "test_score = roc_auc_score(y_test, grid_search.predict_proba(X_test)[:, 1])\n",
    "# смотрим результаты решетчатого поиска\n",
    "print(\"Наилучшие значения гиперпараметров: {}\".format(grid_search.best_params_))\n",
    "print(\"Лучшее усредненное значение AUC cv: {:.2f}\".format(grid_search.best_score_))\n",
    "print(\"AUC модели с наилучшими значениями гиперпараметров на тестовой выборке: {:.2f}\".format(test_score))"
   ]
  },
  {
   "cell_type": "markdown",
   "metadata": {},
   "source": [
    "## Бутстреп"
   ]
  },
  {
   "cell_type": "code",
   "execution_count": 13,
   "metadata": {},
   "outputs": [
    {
     "name": "stdout",
     "output_type": "stream",
     "text": [
      "Среднее значение правильности: 0.67\n",
      "Среднее значение AUC: 0.65\n"
     ]
    }
   ],
   "source": [
    "# импортируем необходимые функции\n",
    "from sklearn.utils import resample\n",
    "from sklearn.metrics import accuracy_score\n",
    "# конкатенируем массив признаков и массив меток\n",
    "data = pd.concat([X, y], axis=1)\n",
    "# преобразовываем датафрейм в массив NumPy\n",
    "values = data.values\n",
    "# задаем количество итераций\n",
    "n_iterations = 100\n",
    "n_size = int(len(data) * 0.50)\n",
    "# создаем список, в котором будем \n",
    "# хранить значения правильности\n",
    "acc_stats = list()\n",
    "# создаем список, в котором будем \n",
    "# хранить значения AUC\n",
    "auc_stats = list()\n",
    "# запускаем бутстреп\n",
    "for i in range(n_iterations):\n",
    "    # подготавливаем обучающий и тестовый наборы\n",
    "    train = resample(values, n_samples=n_size)\n",
    "    test = np.array([x for x in values if x.tolist() not in train.tolist()])\n",
    "    # обучаем модель дерева\n",
    "    model = DecisionTreeClassifier()\n",
    "    model.fit(train[:,:-1], train[:,-1])\n",
    "    # оцениваем правильность модели\n",
    "    predictions = model.predict(test[:,:-1])\n",
    "    acc_score = accuracy_score(test[:,-1], predictions)\n",
    "    acc_stats.append(acc_score)\n",
    "    # оцениваем AUC модели\n",
    "    probabilities = model.predict_proba(test[:,:-1])[:, 1]\n",
    "    auc_score = roc_auc_score(test[:,-1], probabilities)\n",
    "    auc_stats.append(auc_score)\n",
    "# печатаем среднее значение правильности\n",
    "print(\"Среднее значение правильности: {:.2f}\".format(np.mean(acc_stats)))\n",
    "# печатаем среднее значение AUC\n",
    "print(\"Среднее значение AUC: {:.2f}\".format(np.mean(auc_stats)))"
   ]
  },
  {
   "cell_type": "markdown",
   "metadata": {},
   "source": [
    "## Доверительный интервал"
   ]
  },
  {
   "cell_type": "markdown",
   "metadata": {},
   "source": [
    "### Асимптотический метод"
   ]
  },
  {
   "cell_type": "markdown",
   "metadata": {},
   "source": [
    "#### Учимся вычислять асимптотический 90%-ный доверительный интервал среднего"
   ]
  },
  {
   "cell_type": "code",
   "execution_count": 14,
   "metadata": {
    "scrolled": true
   },
   "outputs": [],
   "source": [
    "# импортируем модуль random\n",
    "import random\n",
    "# задаем стартовое значение\n",
    "# генератора случайных чисел\n",
    "random.seed(444)\n",
    "# генеририруем 50 случайных чисел\n",
    "# в диапазоне от 45 до 100\n",
    "income = np.random.uniform(45, 100, size=(50,))"
   ]
  },
  {
   "cell_type": "code",
   "execution_count": 15,
   "metadata": {},
   "outputs": [
    {
     "data": {
      "text/plain": [
       "73.7432251233859"
      ]
     },
     "execution_count": 15,
     "metadata": {},
     "output_type": "execute_result"
    }
   ],
   "source": [
    "# вычисляем среднее значение дохода\n",
    "mean_income = np.mean(income)\n",
    "mean_income"
   ]
  },
  {
   "cell_type": "code",
   "execution_count": 16,
   "metadata": {},
   "outputs": [],
   "source": [
    "# записываем информацию о размере выборки\n",
    "N = 50"
   ]
  },
  {
   "cell_type": "code",
   "execution_count": 17,
   "metadata": {},
   "outputs": [],
   "source": [
    "# вычисляем предел погрешности \n",
    "err = 1.645 * (np.std(income) / np.sqrt(N))"
   ]
  },
  {
   "cell_type": "code",
   "execution_count": 18,
   "metadata": {},
   "outputs": [
    {
     "data": {
      "text/plain": [
       "70.0359399671963"
      ]
     },
     "execution_count": 18,
     "metadata": {},
     "output_type": "execute_result"
    }
   ],
   "source": [
    "# вычисляем нижнюю границу 90%-ного\n",
    "# доверительного интервала \n",
    "mean_income - err"
   ]
  },
  {
   "cell_type": "code",
   "execution_count": 19,
   "metadata": {},
   "outputs": [
    {
     "data": {
      "text/plain": [
       "77.4505102795755"
      ]
     },
     "execution_count": 19,
     "metadata": {},
     "output_type": "execute_result"
    }
   ],
   "source": [
    "# вычисляем верхнюю границу 90%-ного\n",
    "# доверительного интервала \n",
    "mean_income + err"
   ]
  },
  {
   "cell_type": "markdown",
   "metadata": {},
   "source": [
    "### Бутстреп-метод"
   ]
  },
  {
   "cell_type": "markdown",
   "metadata": {},
   "source": [
    "#### Учимся вычислять бутстрепированный 95%-ный доверительный интервал среднего"
   ]
  },
  {
   "cell_type": "code",
   "execution_count": 20,
   "metadata": {},
   "outputs": [],
   "source": [
    "# импортируем модуль stats\n",
    "from scipy import stats\n",
    "\n",
    "# пишем функцию, извлекающую бутстреп-выборки\n",
    "def get_bootstrap_samples(data, n_samples):\n",
    "    indices = np.random.randint(0, len(data), (n_samples, len(data)))\n",
    "    samples = data[indices]\n",
    "    return samples\n",
    "\n",
    "# пишем функцию, вычисляющую нижнюю и верхнюю границы доверительного \n",
    "# интервала для полученного распределения оценок\n",
    "def stat_intervals(stat, alpha):\n",
    "    boundaries = np.percentile(stat, [100 * alpha / 2., 100 * (1 - alpha / 2.)])\n",
    "    return boundaries\n",
    "\n",
    "# пишем итоговую функцию, в которой объединяем первые две\n",
    "def bootstrap_conf_int(data, stat_func, alpha=0.05, n_samples=1000):\n",
    "    ''' \n",
    "    a = np.random.normal(size=1000)\n",
    "    conf_int(a, np.median)\n",
    "    '''\n",
    "    scores = [stat_func(sample) for sample in get_bootstrap_samples(data, n_samples)]\n",
    "    return stat_intervals(scores, alpha)"
   ]
  },
  {
   "cell_type": "code",
   "execution_count": 21,
   "metadata": {},
   "outputs": [
    {
     "data": {
      "text/plain": [
       "array([69.2450439 , 77.96877399])"
      ]
     },
     "execution_count": 21,
     "metadata": {},
     "output_type": "execute_result"
    }
   ],
   "source": [
    "# вычисляем бутстрепированный 95%-ный \n",
    "# доверительный интервал среднего\n",
    "bootstrap_conf_int(income, np.mean, alpha=0.05, n_samples=1000)"
   ]
  },
  {
   "cell_type": "markdown",
   "metadata": {},
   "source": [
    "### Доверительный интервал метрики качества (на примере AUC)"
   ]
  },
  {
   "cell_type": "markdown",
   "metadata": {},
   "source": [
    "#### Учимся вычислять бутстрепированный 95%-ный доверительный интервал AUC и правильности"
   ]
  },
  {
   "cell_type": "code",
   "execution_count": 22,
   "metadata": {},
   "outputs": [
    {
     "name": "stdout",
     "output_type": "stream",
     "text": [
      "95.0 доверительный интервал правильности 63.8% и 70.0%\n",
      "95.0 доверительный интервал AUC 61.2% и 67.7%\n"
     ]
    }
   ],
   "source": [
    "# вычисляем бутстрепированные доверительные интервалы\n",
    "# правильности и AUC\n",
    "alpha = 0.95\n",
    "# задаем процентиль 2,5\n",
    "p = ((1.0 - alpha) / 2.0) * 100\n",
    "# вычисляем нижнюю границу доверительного интервала правильности\n",
    "lower_acc = max(0.0, np.percentile(acc_stats, p))\n",
    "# вычисляем нижнюю границу доверительного интервала AUC\n",
    "lower_auc = max(0.0, np.percentile(auc_stats, p))\n",
    "# задаем процентиль 97,5\n",
    "p = (alpha + ((1.0 - alpha) / 2.0)) * 100\n",
    "# вычисляем верхнюю границу доверительного интервала правильности\n",
    "upper_acc = min(1.0, np.percentile(acc_stats, p))\n",
    "# вычисляем верхнюю границу доверительного интервала AUC\n",
    "upper_auc = min(1.0, np.percentile(auc_stats, p))\n",
    "# печатаем доверительный интервал правильности\n",
    "print(\"%.1f доверительный интервал правильности %.1f%% и %.1f%%\" % (\n",
    "    alpha * 100, lower_acc * 100, upper_acc * 100))\n",
    "# печатаем доверительный интервал AUC\n",
    "print(\"%.1f доверительный интервал AUC %.1f%% и %.1f%%\" % (\n",
    "    alpha * 100, lower_auc * 100, upper_auc * 100))"
   ]
  },
  {
   "cell_type": "code",
   "execution_count": null,
   "metadata": {},
   "outputs": [],
   "source": []
  }
 ],
 "metadata": {
  "kernelspec": {
   "display_name": "Python 3",
   "language": "python",
   "name": "python3"
  },
  "language_info": {
   "codemirror_mode": {
    "name": "ipython",
    "version": 3
   },
   "file_extension": ".py",
   "mimetype": "text/x-python",
   "name": "python",
   "nbconvert_exporter": "python",
   "pygments_lexer": "ipython3",
   "version": "3.7.1"
  }
 },
 "nbformat": 4,
 "nbformat_minor": 2
}
