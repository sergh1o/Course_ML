{
 "cells": [
  {
   "cell_type": "code",
   "execution_count": 1,
   "metadata": {},
   "outputs": [],
   "source": [
    "# импортируем необходимые библиотеки\n",
    "import pandas as pd\n",
    "import numpy as np\n",
    "# из модуля sklearn.metrics импортируем\n",
    "# функцию confusion_matrix()\n",
    "from sklearn.metrics import confusion_matrix"
   ]
  },
  {
   "cell_type": "code",
   "execution_count": 2,
   "metadata": {},
   "outputs": [
    {
     "data": {
      "text/html": [
       "<div>\n",
       "<style scoped>\n",
       "    .dataframe tbody tr th:only-of-type {\n",
       "        vertical-align: middle;\n",
       "    }\n",
       "\n",
       "    .dataframe tbody tr th {\n",
       "        vertical-align: top;\n",
       "    }\n",
       "\n",
       "    .dataframe thead th {\n",
       "        text-align: right;\n",
       "    }\n",
       "</style>\n",
       "<table border=\"1\" class=\"dataframe\">\n",
       "  <thead>\n",
       "    <tr style=\"text-align: right;\">\n",
       "      <th></th>\n",
       "      <th>fact</th>\n",
       "      <th>predict</th>\n",
       "      <th>probability</th>\n",
       "    </tr>\n",
       "  </thead>\n",
       "  <tbody>\n",
       "    <tr>\n",
       "      <th>0</th>\n",
       "      <td>1</td>\n",
       "      <td>1</td>\n",
       "      <td>0.556452</td>\n",
       "    </tr>\n",
       "    <tr>\n",
       "      <th>1</th>\n",
       "      <td>1</td>\n",
       "      <td>1</td>\n",
       "      <td>0.556452</td>\n",
       "    </tr>\n",
       "    <tr>\n",
       "      <th>2</th>\n",
       "      <td>0</td>\n",
       "      <td>1</td>\n",
       "      <td>0.556452</td>\n",
       "    </tr>\n",
       "    <tr>\n",
       "      <th>3</th>\n",
       "      <td>1</td>\n",
       "      <td>1</td>\n",
       "      <td>0.921147</td>\n",
       "    </tr>\n",
       "    <tr>\n",
       "      <th>4</th>\n",
       "      <td>1</td>\n",
       "      <td>1</td>\n",
       "      <td>0.921147</td>\n",
       "    </tr>\n",
       "  </tbody>\n",
       "</table>\n",
       "</div>"
      ],
      "text/plain": [
       "   fact  predict  probability\n",
       "0     1        1     0.556452\n",
       "1     1        1     0.556452\n",
       "2     0        1     0.556452\n",
       "3     1        1     0.921147\n",
       "4     1        1     0.921147"
      ]
     },
     "execution_count": 2,
     "metadata": {},
     "output_type": "execute_result"
    }
   ],
   "source": [
    "# записываем CSV-файл в объект DataFrame\n",
    "data = pd.read_csv('Data/results.csv', sep=';')\n",
    "data.head(5)"
   ]
  },
  {
   "cell_type": "code",
   "execution_count": 3,
   "metadata": {},
   "outputs": [
    {
     "name": "stdout",
     "output_type": "stream",
     "text": [
      "Матрица ошибок:\n",
      "[[464 282]\n",
      " [ 73 525]]\n"
     ]
    }
   ],
   "source": [
    "# вычисляем матрицу ошибок\n",
    "confusion = confusion_matrix(data['fact'], data['predict'])\n",
    "# печатаем матрицу ошибок\n",
    "print('Матрица ошибок:\\n{}'.format(confusion))"
   ]
  },
  {
   "cell_type": "code",
   "execution_count": 4,
   "metadata": {},
   "outputs": [
    {
     "data": {
      "text/plain": [
       "0.7358630952380952"
      ]
     },
     "execution_count": 4,
     "metadata": {},
     "output_type": "execute_result"
    }
   ],
   "source": [
    "# из модуля sklearn.metrics импортируем \n",
    "# функцию accuracy_score()\n",
    "from sklearn.metrics import accuracy_score\n",
    "# вычисляем правильность\n",
    "accuracy_score(data['fact'], data['predict'])"
   ]
  },
  {
   "cell_type": "code",
   "execution_count": 5,
   "metadata": {},
   "outputs": [
    {
     "data": {
      "text/plain": [
       "0.48315979669565445"
      ]
     },
     "execution_count": 5,
     "metadata": {},
     "output_type": "execute_result"
    }
   ],
   "source": [
    "# из модуля sklearn.metrics импортируем \n",
    "# функцию cohen_kappa_score()\n",
    "from sklearn.metrics import cohen_kappa_score\n",
    "# вычисляем каппу Коэна\n",
    "cohen_kappa_score(data['fact'], data['predict'])"
   ]
  },
  {
   "cell_type": "code",
   "execution_count": 6,
   "metadata": {},
   "outputs": [
    {
     "name": "stdout",
     "output_type": "stream",
     "text": [
      "Чувствительность: 0.878\n"
     ]
    }
   ],
   "source": [
    "# вычисляем tn, fp, fn, tp\n",
    "tn, fp, fn, tp = confusion_matrix(\n",
    "    data['fact'], data['predict']).ravel()\n",
    "# вычисляем чувствительность\n",
    "sensitivity = tp / (tp + fn)\n",
    "# печатаем значение чувствительности\n",
    "print('Чувствительность: {:.3f}'.format(sensitivity))"
   ]
  },
  {
   "cell_type": "code",
   "execution_count": 7,
   "metadata": {},
   "outputs": [
    {
     "name": "stdout",
     "output_type": "stream",
     "text": [
      "Специфичность: 0.622\n"
     ]
    }
   ],
   "source": [
    "# вычисляем специфичность\n",
    "specificity = tn / (tn + fp)\n",
    "# печатаем значение специфичности\n",
    "print('Специфичность: {:.3f}'.format(specificity))"
   ]
  },
  {
   "cell_type": "code",
   "execution_count": 8,
   "metadata": {},
   "outputs": [
    {
     "name": "stdout",
     "output_type": "stream",
     "text": [
      "1 - специфичность: 0.378\n"
     ]
    }
   ],
   "source": [
    "# вычисляем 1 - специфичность\n",
    "one_minus_specificity = fp / (fp + tn)\n",
    "# печатаем значение 1 - специфичности\n",
    "print('1 - специфичность: {:.3f}'.format(one_minus_specificity))"
   ]
  },
  {
   "cell_type": "code",
   "execution_count": 9,
   "metadata": {},
   "outputs": [
    {
     "name": "stdout",
     "output_type": "stream",
     "text": [
      "Точность: 0.651\n"
     ]
    }
   ],
   "source": [
    "# вычисляем точность\n",
    "precision = tp / (tp + fp)\n",
    "# печатаем значение точности\n",
    "print('Точность: {:.3f}'.format(precision))"
   ]
  },
  {
   "cell_type": "code",
   "execution_count": 10,
   "metadata": {},
   "outputs": [
    {
     "data": {
      "text/plain": [
       "0.7499551678068987"
      ]
     },
     "execution_count": 10,
     "metadata": {},
     "output_type": "execute_result"
    }
   ],
   "source": [
    "# из модуля sklearn.metrics импортируем \n",
    "# функцию balanced_accuracy_score()\n",
    "from sklearn.metrics import balanced_accuracy_score\n",
    "# вычисляем сбалансированную правильность\n",
    "balanced_accuracy_score(data['fact'], data['predict'])"
   ]
  },
  {
   "cell_type": "code",
   "execution_count": 11,
   "metadata": {},
   "outputs": [
    {
     "data": {
      "text/plain": [
       "0.7473309608540926"
      ]
     },
     "execution_count": 11,
     "metadata": {},
     "output_type": "execute_result"
    }
   ],
   "source": [
    "# из модуля sklearn.metrics импортируем \n",
    "# функцию f1_score()\n",
    "from sklearn.metrics import f1_score\n",
    "# вычисляем F1-меру\n",
    "f1_score(data['fact'], data['predict'])"
   ]
  },
  {
   "cell_type": "code",
   "execution_count": 12,
   "metadata": {},
   "outputs": [
    {
     "name": "stdout",
     "output_type": "stream",
     "text": [
      "Матрица ошибок:\n",
      "[[413 333]\n",
      " [ 49 549]]\n"
     ]
    }
   ],
   "source": [
    "# задаем порог\n",
    "mythreshold = 0.3\n",
    "# получаем прогнозы согласно новому порогу\n",
    "predictions = (data['probability'] >= mythreshold).astype(int)\n",
    "# вычисляем матрицу ошибок\n",
    "confusion = confusion_matrix(data['fact'], predictions)\n",
    "# печатаем матрицу ошибок\n",
    "print('Матрица ошибок:\\n{}'.format(confusion))"
   ]
  },
  {
   "cell_type": "code",
   "execution_count": 13,
   "metadata": {},
   "outputs": [
    {
     "name": "stdout",
     "output_type": "stream",
     "text": [
      "Матрица ошибок:\n",
      "[[729  17]\n",
      " [492 106]]\n"
     ]
    }
   ],
   "source": [
    "# задаем порог\n",
    "mythreshold = 0.7\n",
    "# получаем прогнозы согласно новому порогу\n",
    "predictions = (data['probability'] >= mythreshold).astype(int)\n",
    "# вычисляем матрицу ошибок\n",
    "confusion = confusion_matrix(data['fact'], predictions)\n",
    "# печатаем матрицу ошибок\n",
    "print('Матрица ошибок:\\n{}'.format(confusion))"
   ]
  },
  {
   "cell_type": "code",
   "execution_count": null,
   "metadata": {},
   "outputs": [],
   "source": []
  }
 ],
 "metadata": {
  "kernelspec": {
   "display_name": "Python 3",
   "language": "python",
   "name": "python3"
  },
  "language_info": {
   "codemirror_mode": {
    "name": "ipython",
    "version": 3
   },
   "file_extension": ".py",
   "mimetype": "text/x-python",
   "name": "python",
   "nbconvert_exporter": "python",
   "pygments_lexer": "ipython3",
   "version": "3.7.1"
  }
 },
 "nbformat": 4,
 "nbformat_minor": 2
}
