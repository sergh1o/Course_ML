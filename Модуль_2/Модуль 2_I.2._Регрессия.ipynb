{
 "cells": [
  {
   "cell_type": "code",
   "execution_count": 1,
   "metadata": {},
   "outputs": [],
   "source": [
    "# импортируем необходимые библиотеки\n",
    "import numpy as np\n",
    "import pandas as pd"
   ]
  },
  {
   "cell_type": "code",
   "execution_count": 2,
   "metadata": {},
   "outputs": [
    {
     "data": {
      "text/html": [
       "<div>\n",
       "<style scoped>\n",
       "    .dataframe tbody tr th:only-of-type {\n",
       "        vertical-align: middle;\n",
       "    }\n",
       "\n",
       "    .dataframe tbody tr th {\n",
       "        vertical-align: top;\n",
       "    }\n",
       "\n",
       "    .dataframe thead th {\n",
       "        text-align: right;\n",
       "    }\n",
       "</style>\n",
       "<table border=\"1\" class=\"dataframe\">\n",
       "  <thead>\n",
       "    <tr style=\"text-align: right;\">\n",
       "      <th></th>\n",
       "      <th>fact</th>\n",
       "      <th>pred</th>\n",
       "    </tr>\n",
       "  </thead>\n",
       "  <tbody>\n",
       "    <tr>\n",
       "      <th>0</th>\n",
       "      <td>1.21</td>\n",
       "      <td>0.888070</td>\n",
       "    </tr>\n",
       "    <tr>\n",
       "      <th>1</th>\n",
       "      <td>7.09</td>\n",
       "      <td>7.903147</td>\n",
       "    </tr>\n",
       "    <tr>\n",
       "      <th>2</th>\n",
       "      <td>1.88</td>\n",
       "      <td>1.200113</td>\n",
       "    </tr>\n",
       "    <tr>\n",
       "      <th>3</th>\n",
       "      <td>0.24</td>\n",
       "      <td>1.053039</td>\n",
       "    </tr>\n",
       "    <tr>\n",
       "      <th>4</th>\n",
       "      <td>0.55</td>\n",
       "      <td>0.867723</td>\n",
       "    </tr>\n",
       "    <tr>\n",
       "      <th>5</th>\n",
       "      <td>0.08</td>\n",
       "      <td>0.139170</td>\n",
       "    </tr>\n",
       "    <tr>\n",
       "      <th>6</th>\n",
       "      <td>1.06</td>\n",
       "      <td>0.911489</td>\n",
       "    </tr>\n",
       "    <tr>\n",
       "      <th>7</th>\n",
       "      <td>0.12</td>\n",
       "      <td>1.113673</td>\n",
       "    </tr>\n",
       "    <tr>\n",
       "      <th>8</th>\n",
       "      <td>1.19</td>\n",
       "      <td>0.918506</td>\n",
       "    </tr>\n",
       "    <tr>\n",
       "      <th>9</th>\n",
       "      <td>1.63</td>\n",
       "      <td>0.948829</td>\n",
       "    </tr>\n",
       "  </tbody>\n",
       "</table>\n",
       "</div>"
      ],
      "text/plain": [
       "   fact      pred\n",
       "0  1.21  0.888070\n",
       "1  7.09  7.903147\n",
       "2  1.88  1.200113\n",
       "3  0.24  1.053039\n",
       "4  0.55  0.867723\n",
       "5  0.08  0.139170\n",
       "6  1.06  0.911489\n",
       "7  0.12  1.113673\n",
       "8  1.19  0.918506\n",
       "9  1.63  0.948829"
      ]
     },
     "execution_count": 2,
     "metadata": {},
     "output_type": "execute_result"
    }
   ],
   "source": [
    "# записываем CSV-файл в объект DataFrame\n",
    "data = pd.read_csv('Data/results2.csv', sep=';')\n",
    "data"
   ]
  },
  {
   "cell_type": "code",
   "execution_count": 3,
   "metadata": {},
   "outputs": [
    {
     "data": {
      "text/plain": [
       "0.907322249223145"
      ]
     },
     "execution_count": 3,
     "metadata": {},
     "output_type": "execute_result"
    }
   ],
   "source": [
    "# вычисляем сумму квадратов отклонений \n",
    "# фактических значений зависимой переменной \n",
    "# от ее среднего значения\n",
    "TSS = ((data['fact'] - data['fact'].mean()) ** 2).sum()\n",
    "# вычисляем сумму квадратов отклонений фактических \n",
    "# значений зависимой переменной от спрогнозированных\n",
    "RSS = ((data['fact'] - data['pred']) ** 2).sum()\n",
    "# вычисляем R-квадрат\n",
    "r_squared = 1 - (RSS / TSS)\n",
    "r_squared"
   ]
  },
  {
   "cell_type": "code",
   "execution_count": 4,
   "metadata": {},
   "outputs": [
    {
     "name": "stdout",
     "output_type": "stream",
     "text": [
      "MSE 0.3539720111508583\n"
     ]
    }
   ],
   "source": [
    "# вручную вычисляем MSE\n",
    "MSE = ((data['fact'] - data['pred']) ** 2).sum() / len(data)\n",
    "print('MSE', MSE)"
   ]
  },
  {
   "cell_type": "code",
   "execution_count": 5,
   "metadata": {},
   "outputs": [
    {
     "name": "stdout",
     "output_type": "stream",
     "text": [
      "MSE 0.3539720111508583\n"
     ]
    }
   ],
   "source": [
    "# автоматически вычисляем MSE\n",
    "from sklearn.metrics import mean_squared_error\n",
    "MSE = mean_squared_error(data['fact'], data['pred'])\n",
    "print('MSE', MSE)"
   ]
  },
  {
   "cell_type": "code",
   "execution_count": 6,
   "metadata": {},
   "outputs": [
    {
     "name": "stdout",
     "output_type": "stream",
     "text": [
      "RMSE 0.5949554698890147\n"
     ]
    }
   ],
   "source": [
    "# вручную вычисляем RMSE\n",
    "RMSE = np.sqrt(((data['fact'] - data['pred']) ** 2).sum() / len(data))\n",
    "print('RMSE', RMSE)"
   ]
  },
  {
   "cell_type": "code",
   "execution_count": 7,
   "metadata": {},
   "outputs": [
    {
     "name": "stdout",
     "output_type": "stream",
     "text": [
      "RMSE 0.5949554698890147\n"
     ]
    }
   ],
   "source": [
    "# автоматически вычисляем RMSE\n",
    "RMSE = np.sqrt(mean_squared_error(data['fact'], data['pred']))\n",
    "print('RMSE', RMSE)"
   ]
  },
  {
   "cell_type": "code",
   "execution_count": 8,
   "metadata": {},
   "outputs": [
    {
     "name": "stdout",
     "output_type": "stream",
     "text": [
      "MAE 0.5099745483185893\n"
     ]
    }
   ],
   "source": [
    "# вручную вычисляем MAE\n",
    "MAE = ((data['fact'] - data['pred']).abs()).sum() / len(data)\n",
    "print('MAE', MAE)"
   ]
  },
  {
   "cell_type": "code",
   "execution_count": 9,
   "metadata": {},
   "outputs": [
    {
     "name": "stdout",
     "output_type": "stream",
     "text": [
      "MAE 0.5099745483185893\n"
     ]
    }
   ],
   "source": [
    "# автоматически вычисляем MAE\n",
    "from sklearn.metrics import mean_absolute_error\n",
    "MAE = mean_absolute_error(data['fact'], data['pred'])\n",
    "print('MAE', MAE)"
   ]
  },
  {
   "cell_type": "code",
   "execution_count": 10,
   "metadata": {},
   "outputs": [
    {
     "data": {
      "text/plain": [
       "0.3024290954867646"
      ]
     },
     "execution_count": 10,
     "metadata": {},
     "output_type": "execute_result"
    }
   ],
   "source": [
    "# вручную вычисляем RMSLE\n",
    "np.sqrt(np.sum((np.log(data['pred'] + 1) - \n",
    "                np.log(data['fact'] + 1)) ** 2) / len(data))"
   ]
  },
  {
   "cell_type": "code",
   "execution_count": 11,
   "metadata": {},
   "outputs": [
    {
     "name": "stdout",
     "output_type": "stream",
     "text": [
      "RMSLE 0.30242909548676467\n"
     ]
    }
   ],
   "source": [
    "# автоматически вычисляем RMSLE\n",
    "from sklearn.metrics import mean_squared_log_error\n",
    "RMSLE = np.sqrt(mean_squared_log_error(data['fact'], data['pred']))\n",
    "print('RMSLE', RMSLE)"
   ]
  },
  {
   "cell_type": "code",
   "execution_count": 12,
   "metadata": {},
   "outputs": [
    {
     "name": "stdout",
     "output_type": "stream",
     "text": [
      "RMSE (фактическое больше спрогнозированного) 400.0\n",
      "RMSLE (фактическое больше спрогнозированного) 0.5101598447800129\n",
      "RMSE (фактическое меньше спрогнозированного) 400.0\n",
      "RMSLE (фактическое меньше спрогнозированного) 0.3361867670217862\n"
     ]
    }
   ],
   "source": [
    "# сравним поведение RMSE и RMSLE \n",
    "# в случаях недоценки и переоценки\n",
    "actual1 = 1000\n",
    "predicted1 = 600\n",
    "\n",
    "actual2 = 1000\n",
    "predicted2 = 1400\n",
    "\n",
    "RMSE1 = np.sqrt(np.sum((actual1 - predicted1) ** 2))\n",
    "RMSLE1 = np.sqrt(np.sum((np.log(predicted1 + 1) - \n",
    "                         np.log(actual1 + 1)) ** 2))\n",
    "RMSE2 = np.sqrt(np.sum((actual2 - predicted2) ** 2))\n",
    "RMSLE2 = np.sqrt(np.sum((np.log(predicted2 + 1) - \n",
    "                         np.log(actual2 + 1)) ** 2))\n",
    "print('RMSE (фактическое больше спрогнозированного)', RMSE1)\n",
    "print('RMSLE (фактическое больше спрогнозированного)', RMSLE1)\n",
    "print('RMSE (фактическое меньше спрогнозированного)', RMSE2)\n",
    "print('RMSLE (фактическое меньше спрогнозированного)', RMSLE2)"
   ]
  },
  {
   "cell_type": "code",
   "execution_count": 13,
   "metadata": {},
   "outputs": [
    {
     "name": "stdout",
     "output_type": "stream",
     "text": [
      "MAPE 145.14106903880005\n"
     ]
    }
   ],
   "source": [
    "# вручную вычисляем MAPE\n",
    "MAPE = np.mean(\n",
    "    np.abs((data['fact'] - data['pred']) / data['fact'])) * 100\n",
    "print('MAPE', MAPE)"
   ]
  },
  {
   "cell_type": "code",
   "execution_count": null,
   "metadata": {},
   "outputs": [],
   "source": []
  }
 ],
 "metadata": {
  "kernelspec": {
   "display_name": "Python 3",
   "language": "python",
   "name": "python3"
  },
  "language_info": {
   "codemirror_mode": {
    "name": "ipython",
    "version": 3
   },
   "file_extension": ".py",
   "mimetype": "text/x-python",
   "name": "python",
   "nbconvert_exporter": "python",
   "pygments_lexer": "ipython3",
   "version": "3.7.1"
  }
 },
 "nbformat": 4,
 "nbformat_minor": 2
}
