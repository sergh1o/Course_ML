{
 "cells": [
  {
   "cell_type": "code",
   "execution_count": 1,
   "metadata": {},
   "outputs": [],
   "source": [
    "# импортируем необходимые библиотеки\n",
    "import numpy as np\n",
    "import pandas as pd"
   ]
  },
  {
   "cell_type": "code",
   "execution_count": 2,
   "metadata": {},
   "outputs": [],
   "source": [
    "# записываем CSV-файл в объект DataFrame\n",
    "data = pd.read_csv('Data/Bankloan.csv', \n",
    "                   encoding='cp1251', \n",
    "                   sep=';', decimal=',')"
   ]
  },
  {
   "cell_type": "code",
   "execution_count": 3,
   "metadata": {},
   "outputs": [
    {
     "data": {
      "text/html": [
       "<div>\n",
       "<style scoped>\n",
       "    .dataframe tbody tr th:only-of-type {\n",
       "        vertical-align: middle;\n",
       "    }\n",
       "\n",
       "    .dataframe tbody tr th {\n",
       "        vertical-align: top;\n",
       "    }\n",
       "\n",
       "    .dataframe thead th {\n",
       "        text-align: right;\n",
       "    }\n",
       "</style>\n",
       "<table border=\"1\" class=\"dataframe\">\n",
       "  <thead>\n",
       "    <tr style=\"text-align: right;\">\n",
       "      <th></th>\n",
       "      <th>age</th>\n",
       "      <th>job</th>\n",
       "      <th>employ</th>\n",
       "      <th>address</th>\n",
       "      <th>income</th>\n",
       "      <th>debtinc</th>\n",
       "      <th>creddebt</th>\n",
       "      <th>othdebt</th>\n",
       "      <th>default</th>\n",
       "    </tr>\n",
       "  </thead>\n",
       "  <tbody>\n",
       "    <tr>\n",
       "      <th>0</th>\n",
       "      <td>28</td>\n",
       "      <td>working - other</td>\n",
       "      <td>7</td>\n",
       "      <td>2</td>\n",
       "      <td>44</td>\n",
       "      <td>17.7</td>\n",
       "      <td>2.990592</td>\n",
       "      <td>4.797408</td>\n",
       "      <td>0</td>\n",
       "    </tr>\n",
       "    <tr>\n",
       "      <th>1</th>\n",
       "      <td>64</td>\n",
       "      <td>working - production</td>\n",
       "      <td>34</td>\n",
       "      <td>17</td>\n",
       "      <td>116</td>\n",
       "      <td>14.7</td>\n",
       "      <td>5.047392</td>\n",
       "      <td>12.004608</td>\n",
       "      <td>0</td>\n",
       "    </tr>\n",
       "    <tr>\n",
       "      <th>2</th>\n",
       "      <td>40</td>\n",
       "      <td>working - IT</td>\n",
       "      <td>20</td>\n",
       "      <td>12</td>\n",
       "      <td>61</td>\n",
       "      <td>4.8</td>\n",
       "      <td>1.042368</td>\n",
       "      <td>1.885632</td>\n",
       "      <td>0</td>\n",
       "    </tr>\n",
       "    <tr>\n",
       "      <th>3</th>\n",
       "      <td>30</td>\n",
       "      <td>working - IT</td>\n",
       "      <td>11</td>\n",
       "      <td>3</td>\n",
       "      <td>27</td>\n",
       "      <td>34.5</td>\n",
       "      <td>1.751220</td>\n",
       "      <td>7.563780</td>\n",
       "      <td>0</td>\n",
       "    </tr>\n",
       "    <tr>\n",
       "      <th>4</th>\n",
       "      <td>25</td>\n",
       "      <td>working - IT</td>\n",
       "      <td>2</td>\n",
       "      <td>2</td>\n",
       "      <td>30</td>\n",
       "      <td>22.4</td>\n",
       "      <td>0.759360</td>\n",
       "      <td>5.960640</td>\n",
       "      <td>1</td>\n",
       "    </tr>\n",
       "  </tbody>\n",
       "</table>\n",
       "</div>"
      ],
      "text/plain": [
       "   age                   job  employ  address  income  debtinc  creddebt  \\\n",
       "0   28       working - other       7        2      44     17.7  2.990592   \n",
       "1   64  working - production      34       17     116     14.7  5.047392   \n",
       "2   40          working - IT      20       12      61      4.8  1.042368   \n",
       "3   30          working - IT      11        3      27     34.5  1.751220   \n",
       "4   25          working - IT       2        2      30     22.4  0.759360   \n",
       "\n",
       "     othdebt  default  \n",
       "0   4.797408        0  \n",
       "1  12.004608        0  \n",
       "2   1.885632        0  \n",
       "3   7.563780        0  \n",
       "4   5.960640        1  "
      ]
     },
     "execution_count": 3,
     "metadata": {},
     "output_type": "execute_result"
    }
   ],
   "source": [
    "# выводим первые 5 наблюдений датафрейма\n",
    "data.head()"
   ]
  },
  {
   "cell_type": "code",
   "execution_count": 4,
   "metadata": {},
   "outputs": [
    {
     "name": "stdout",
     "output_type": "stream",
     "text": [
      "<class 'pandas.core.frame.DataFrame'>\n",
      "RangeIndex: 1500 entries, 0 to 1499\n",
      "Data columns (total 9 columns):\n",
      "age         1500 non-null int64\n",
      "job         1500 non-null object\n",
      "employ      1500 non-null int64\n",
      "address     1500 non-null int64\n",
      "income      1500 non-null int64\n",
      "debtinc     1500 non-null float64\n",
      "creddebt    1500 non-null float64\n",
      "othdebt     1500 non-null float64\n",
      "default     1500 non-null int64\n",
      "dtypes: float64(3), int64(5), object(1)\n",
      "memory usage: 105.5+ KB\n"
     ]
    }
   ],
   "source": [
    "# смотрим типы переменных\n",
    "data.info()"
   ]
  },
  {
   "cell_type": "code",
   "execution_count": 5,
   "metadata": {},
   "outputs": [],
   "source": [
    "# создаем массив меток\n",
    "label = data.pop('default')"
   ]
  },
  {
   "cell_type": "markdown",
   "metadata": {},
   "source": [
    "## Случайное разбиение на обучающую и тестовую выборки"
   ]
  },
  {
   "cell_type": "code",
   "execution_count": 6,
   "metadata": {},
   "outputs": [],
   "source": [
    "# импортируем из модуля sklearn.model_selection \n",
    "# функцию train_test_split()\n",
    "from sklearn.model_selection import train_test_split\n",
    "# выполняем разбиение на обучающую и тестовую выборки\n",
    "X_tr, X_tst, y_tr, y_tst = train_test_split(data, label, \n",
    "                                            test_size=0.3, \n",
    "                                            random_state=42)\n",
    "# выполняем дамми-кодирование\n",
    "X_tr = pd.get_dummies(X_tr)\n",
    "X_tst = pd.get_dummies(X_tst)"
   ]
  },
  {
   "cell_type": "code",
   "execution_count": 7,
   "metadata": {},
   "outputs": [
    {
     "name": "stdout",
     "output_type": "stream",
     "text": [
      "Правильность на тестовой выборке: 0.647\n"
     ]
    }
   ],
   "source": [
    "# импортируем класс DecisionTreeClassifier \n",
    "from sklearn.tree import DecisionTreeClassifier\n",
    "# создаем экземпляр класса DecisionTreeClassifier\n",
    "tree = DecisionTreeClassifier(random_state=152)\n",
    "# обучаем модель\n",
    "tree.fit(X_tr, y_tr)\n",
    "# оцениваем качество модели на тестовых данных\n",
    "print('Правильность на тестовой выборке: {:.3f}'.format(\n",
    "    tree.score(X_tst, y_tst)))"
   ]
  },
  {
   "cell_type": "markdown",
   "metadata": {},
   "source": [
    "## Обычная k-блочная перекрестная проверка"
   ]
  },
  {
   "cell_type": "code",
   "execution_count": 8,
   "metadata": {},
   "outputs": [
    {
     "name": "stdout",
     "output_type": "stream",
     "text": [
      "Среднее значение правильности: 0.68\n"
     ]
    }
   ],
   "source": [
    "# записываем CSV-файл в объект DataFrame\n",
    "data = pd.read_csv('Data/Bankloan.csv', \n",
    "                   encoding='cp1251', \n",
    "                   sep=';', decimal=',')\n",
    "\n",
    "# создаем массив меток и массив признаков\n",
    "y = data.pop('default')\n",
    "X = pd.get_dummies(data)\n",
    "\n",
    "# импортируем функцию cross_val_score(), классы KFold и StratifiedKFold\n",
    "from sklearn.model_selection import cross_val_score, KFold, StratifiedKFold\n",
    "# создаем экземпляр класса KFold\n",
    "nonstrat = KFold(n_splits=10, shuffle=True, \n",
    "                 random_state=42)\n",
    "# создаем экземляр класса DecisionTreeClassifier\n",
    "tree = DecisionTreeClassifier(random_state=152)\n",
    "# вычисляем значение правильности, усредненное по проверочным\n",
    "# блокам обычной нестратифицированной перекрестной проверки\n",
    "scores_acc_tr = cross_val_score(tree, \n",
    "                                X, \n",
    "                                y, \n",
    "                                cv=nonstrat)\n",
    "print('Среднее значение правильности: {:.2f}'.format(\n",
    "    scores_acc_tr.mean()))"
   ]
  },
  {
   "cell_type": "code",
   "execution_count": 9,
   "metadata": {},
   "outputs": [
    {
     "name": "stdout",
     "output_type": "stream",
     "text": [
      "Среднее значение правильности: 0.68\n"
     ]
    }
   ],
   "source": [
    "# создаем экземпляр класса StratifiedKFold\n",
    "strat = StratifiedKFold(n_splits=10, shuffle=True, \n",
    "                        random_state=42)\n",
    "# вычисляем значение правильности, усредненное по проверочным\n",
    "# блокам обычной стратифицированной перекрестной проверки\n",
    "scores_acc_tr = cross_val_score(tree, \n",
    "                                X, \n",
    "                                y, \n",
    "                                cv=strat)\n",
    "print('Среднее значение правильности: {:.2f}'.format(\n",
    "    scores_acc_tr.mean()))"
   ]
  },
  {
   "cell_type": "code",
   "execution_count": 10,
   "metadata": {},
   "outputs": [
    {
     "name": "stdout",
     "output_type": "stream",
     "text": [
      "Среднее значение AUC: 0.65\n"
     ]
    }
   ],
   "source": [
    "# вычисляем значение AUC, усредненное по проверочным \n",
    "# блокам обычной стратифицированной перекрестной проверки\n",
    "scores_auc_tr = cross_val_score(tree, \n",
    "                                X, \n",
    "                                y, \n",
    "                                scoring='roc_auc', \n",
    "                                cv=strat)\n",
    "print('Среднее значение AUC: {:.2f}'.format(\n",
    "    scores_auc_tr.mean()))"
   ]
  },
  {
   "cell_type": "code",
   "execution_count": 11,
   "metadata": {},
   "outputs": [],
   "source": [
    "# импортируем библиотеку matplotlib\n",
    "import matplotlib.pyplot as plt\n",
    "%matplotlib inline\n",
    "# импортируем функции roc_curve(), auc() и interp()\n",
    "from sklearn.metrics import roc_curve, auc\n",
    "from scipy import interp"
   ]
  },
  {
   "cell_type": "code",
   "execution_count": 12,
   "metadata": {},
   "outputs": [],
   "source": [
    "# пишем функцию, которая отрисовывает ROC-кривые\n",
    "# и вычисляет AUC для проверочных блоков\n",
    "# перекрестной проверки\n",
    "def crossValPlot(skf, classifier, X, y):\n",
    "    X = np.asarray(X)\n",
    "    y = np.asarray(y)\n",
    "    \n",
    "    tprs = []\n",
    "    aucs = []\n",
    "    mean_fpr = np.linspace(0, 1, 100)\n",
    "    \n",
    "    f,ax = plt.subplots(figsize=(10,7))\n",
    "    i = 0\n",
    "    for train, test in skf.split(X, y):\n",
    "        probas_ = classifier.fit(X[train], y[train]).predict_proba(X[test])\n",
    "        # вычисляем AUC\n",
    "        fpr, tpr, thresholds = roc_curve(y[test], probas_[:, 1])\n",
    "        tprs.append(interp(mean_fpr, fpr, tpr))\n",
    "        tprs[-1][0] = 0.0\n",
    "        roc_auc = auc(fpr, tpr)\n",
    "        aucs.append(roc_auc)\n",
    "        ax.plot(fpr, tpr, lw=1, alpha=0.3,\n",
    "                 label='AUC блок %d (AUC = %0.2f)' % (i, roc_auc))\n",
    "\n",
    "        i += 1\n",
    "\n",
    "    ax.plot([0, 1], [0, 1], linestyle='--', lw=2, color='r',\n",
    "             label='Случайное угадывание', alpha=.8)\n",
    "\n",
    "    mean_tpr = np.mean(tprs, axis=0)\n",
    "    mean_tpr[-1] = 1.0\n",
    "    mean_auc = auc(mean_fpr, mean_tpr)\n",
    "    std_auc = np.std(aucs)\n",
    "    ax.plot(mean_fpr, mean_tpr, color='b',\n",
    "             label=r'Усредненное значение AUC (AUC = %0.2f $\\pm$ %0.2f)' % (mean_auc, std_auc),\n",
    "             lw=2, alpha=.8)\n",
    "\n",
    "    std_tpr = np.std(tprs, axis=0)\n",
    "    tprs_upper = np.minimum(mean_tpr + std_tpr, 1)\n",
    "    tprs_lower = np.maximum(mean_tpr - std_tpr, 0)\n",
    "    ax.fill_between(mean_fpr, tprs_lower, tprs_upper, color='grey', alpha=.2,\n",
    "                     label=r'$\\pm$ 1 станд. отклонение.')\n",
    "\n",
    "    ax.set_xlim([-0.05, 1.05])\n",
    "    ax.set_ylim([-0.05, 1.05])\n",
    "    ax.set_xlabel('1 - специфичность')\n",
    "    ax.set_ylabel('Чувствительность')\n",
    "    ax.set_title('ROC-кривая для проверочных блоков перекрестной проверки')\n",
    "    ax.legend(bbox_to_anchor=(1,1))"
   ]
  },
  {
   "cell_type": "code",
   "execution_count": 13,
   "metadata": {},
   "outputs": [
    {
     "data": {
      "image/png": "[encoded data removed]",
      "text/plain": [
       "<Figure size 720x504 with 1 Axes>"
      ]
     },
     "metadata": {
      "needs_background": "light"
     },
     "output_type": "display_data"
    }
   ],
   "source": [
    "# строим график\n",
    "crossValPlot(strat, tree, X, y)"
   ]
  },
  {
   "cell_type": "markdown",
   "metadata": {},
   "source": [
    "## Повторная k-блочная перекрестная проверка"
   ]
  },
  {
   "cell_type": "code",
   "execution_count": 14,
   "metadata": {},
   "outputs": [
    {
     "name": "stdout",
     "output_type": "stream",
     "text": [
      "Среднее значение правильности: 0.68\n"
     ]
    }
   ],
   "source": [
    "# импортируем классы RepeatedKFold и RepeatedStratifiedKFold\n",
    "from sklearn.model_selection import RepeatedKFold, RepeatedStratifiedKFold\n",
    "# создаем экземпляр класса RepeatedKFold\n",
    "rkf = RepeatedKFold(n_splits=10, n_repeats=10, random_state=42)\n",
    "# вычисляем значение правильности, усредненное по\n",
    "# проверочным блокам повторной нестратифицированной\n",
    "# перекрестной проверки\n",
    "scores_acc_tr = cross_val_score(tree, \n",
    "                                X, \n",
    "                                y, \n",
    "                                cv=rkf)\n",
    "print('Среднее значение правильности: {:.2f}'.format(\n",
    "    scores_acc_tr.mean()))"
   ]
  },
  {
   "cell_type": "code",
   "execution_count": 15,
   "metadata": {},
   "outputs": [
    {
     "name": "stdout",
     "output_type": "stream",
     "text": [
      "Среднее значение правильности: 0.68\n"
     ]
    }
   ],
   "source": [
    "# создаем экземпляр класса RepeatedStratifiedKFold\n",
    "rskf = RepeatedStratifiedKFold(n_splits=10, n_repeats=10, random_state=42)\n",
    "# вычисляем значение правильности, усредненное по\n",
    "# проверочным блокам повторной стратифицированной\n",
    "# перекрестной проверки\n",
    "scores_acc_tr = cross_val_score(tree, \n",
    "                                X, \n",
    "                                y, \n",
    "                                cv=rskf)\n",
    "print('Среднее значение правильности: {:.2f}'.format(\n",
    "    scores_acc_tr.mean()))"
   ]
  },
  {
   "cell_type": "markdown",
   "metadata": {},
   "source": [
    "## k-кратное случайное разбиение на обучающую и тестовую выборки (перекрестная проверка Монте-Карло)"
   ]
  },
  {
   "cell_type": "code",
   "execution_count": 16,
   "metadata": {},
   "outputs": [],
   "source": [
    "# загружаем данные\n",
    "montecarlo = pd.read_csv('Data/Bankloan.csv', \n",
    "                         encoding='cp1251', \n",
    "                         sep=';', decimal=',')\n",
    "\n",
    "# сформируем массив меток\n",
    "y_montecarlo = montecarlo.pop('default')"
   ]
  },
  {
   "cell_type": "code",
   "execution_count": 17,
   "metadata": {},
   "outputs": [],
   "source": [
    "# пишем функцию, выполняющую перекрестную проверку\n",
    "# по методу Монте-Карло\n",
    "def monte_carlo_crossvalidation(X, y, n_split, test_size):\n",
    "    # создадим пустой список, в которой будем\n",
    "    # записывать значения правильности\n",
    "    accuracy_list = []\n",
    "    # выполняем n_split раз случайное разбиение на обучающую \n",
    "    # и тестовую выборки (размер тестовой выборки определяется \n",
    "    # с помощью test_size) и печатаем значение правильности \n",
    "    # для обучающей и тестовой выборок в каждой итерации\n",
    "    for i in range(n_split):\n",
    "        train, test, y_train, y_test = train_test_split(X, \n",
    "                                                        y,\n",
    "                                                        random_state=i,\n",
    "                                                        test_size=test_size)\n",
    "        train = pd.get_dummies(train)\n",
    "        test = pd.get_dummies(test)\n",
    "        print('train=%d, test=%d' % (len(train), len(test)))\n",
    "        tree.fit(train, y_train)\n",
    "        train_score = tree.score(train, y_train)\n",
    "        test_score = tree.score(test, y_test)\n",
    "        print('Правильность на обучающей выборке: {:.3f}'.format(train_score))\n",
    "        print('Правильность на тестовой выборке: {:.3f}'.format(test_score))\n",
    "        print('')\n",
    "        accuracy_list.append(test_score)\n",
    "    # печатаем среднее значение правильности\n",
    "    print('Среднее значение правильности: {:.3f}'.format(\n",
    "        sum(accuracy_list) / len(accuracy_list)))"
   ]
  },
  {
   "cell_type": "code",
   "execution_count": 18,
   "metadata": {},
   "outputs": [
    {
     "name": "stdout",
     "output_type": "stream",
     "text": [
      "train=1050, test=450\n",
      "Правильность на обучающей выборке: 1.000\n",
      "Правильность на тестовой выборке: 0.667\n",
      "\n",
      "train=1050, test=450\n",
      "Правильность на обучающей выборке: 1.000\n",
      "Правильность на тестовой выборке: 0.738\n",
      "\n",
      "train=1050, test=450\n",
      "Правильность на обучающей выборке: 1.000\n",
      "Правильность на тестовой выборке: 0.689\n",
      "\n",
      "train=1050, test=450\n",
      "Правильность на обучающей выборке: 1.000\n",
      "Правильность на тестовой выборке: 0.662\n",
      "\n",
      "train=1050, test=450\n",
      "Правильность на обучающей выборке: 1.000\n",
      "Правильность на тестовой выборке: 0.640\n",
      "\n",
      "train=1050, test=450\n",
      "Правильность на обучающей выборке: 1.000\n",
      "Правильность на тестовой выборке: 0.669\n",
      "\n",
      "train=1050, test=450\n",
      "Правильность на обучающей выборке: 1.000\n",
      "Правильность на тестовой выборке: 0.700\n",
      "\n",
      "train=1050, test=450\n",
      "Правильность на обучающей выборке: 1.000\n",
      "Правильность на тестовой выборке: 0.676\n",
      "\n",
      "train=1050, test=450\n",
      "Правильность на обучающей выборке: 1.000\n",
      "Правильность на тестовой выборке: 0.693\n",
      "\n",
      "train=1050, test=450\n",
      "Правильность на обучающей выборке: 1.000\n",
      "Правильность на тестовой выборке: 0.680\n",
      "\n",
      "Среднее значение правильности: 0.681\n"
     ]
    }
   ],
   "source": [
    "# применяем нашу функцию\n",
    "monte_carlo_crossvalidation(montecarlo, y_montecarlo, n_split=10, test_size=0.3)"
   ]
  },
  {
   "cell_type": "markdown",
   "metadata": {},
   "source": [
    "## Перекрестная проверка с исключением по одному"
   ]
  },
  {
   "cell_type": "code",
   "execution_count": 19,
   "metadata": {
    "scrolled": false
   },
   "outputs": [
    {
     "name": "stdout",
     "output_type": "stream",
     "text": [
      "Количество итераций cv:  1500\n",
      "Среднее значение правильности: 0.67\n"
     ]
    }
   ],
   "source": [
    "# импортируем класс LeaveOneOut\n",
    "from sklearn.model_selection import LeaveOneOut\n",
    "# создаем экземпляр класса LeaveOneOut \n",
    "loo = LeaveOneOut()\n",
    "# вычисляем значение правильности, усредненное по проверочным\n",
    "# блокам перекрестной проверки c исключением по одному\n",
    "scores_acc_tr = cross_val_score(tree, \n",
    "                                X, \n",
    "                                y, \n",
    "                                cv=loo)\n",
    "print('Количество итераций cv: ', len(scores_acc_tr))\n",
    "print('Среднее значение правильности: {:.2f}'.format(\n",
    "    scores_acc_tr.mean()))"
   ]
  },
  {
   "cell_type": "markdown",
   "metadata": {},
   "source": [
    "## Перекрестная проверка с разбиением на блоки-группы"
   ]
  },
  {
   "cell_type": "code",
   "execution_count": 20,
   "metadata": {},
   "outputs": [
    {
     "name": "stdout",
     "output_type": "stream",
     "text": [
      "TRAIN [0 1 2 3 4 5] TEST [6 7 8 9]\n",
      "TRAIN [0 1 2 6 7 8 9] TEST [3 4 5]\n",
      "TRAIN [3 4 5 6 7 8 9] TEST [0 1 2]\n"
     ]
    }
   ],
   "source": [
    "# импортируем класс GroupKFold\n",
    "from sklearn.model_selection import GroupKFold\n",
    "# создаем массив признаков и массив меток\n",
    "X_gr = [0.1, 0.2, 2.2, 2.4, 2.3, 4.55, 5.8, 8.8, 9, 10]\n",
    "y_gr = [5.7, 5.3, 5.6, 6.4, 6.1, 6.0, 9.6, 9.8, 9.3, 9.5]\n",
    "# создаем идентификатор групп\n",
    "groups = [1, 1, 1, 2, 2, 2, 3, 3, 3, 3]\n",
    "# создаем экземпляр класса GroupKFold \n",
    "gkf = GroupKFold(n_splits=3)\n",
    "# взглянем на индексы наблюдений, попавших в обучающие\n",
    "# блоки и проверочный блок, по каждой из 3 итераций\n",
    "for train, test in gkf.split(X_gr, y_gr, groups=groups):\n",
    "     print('TRAIN', train, 'TEST', test)"
   ]
  },
  {
   "cell_type": "markdown",
   "metadata": {},
   "source": [
    "## Комбинированная проверка в ручном режиме"
   ]
  },
  {
   "cell_type": "code",
   "execution_count": 21,
   "metadata": {},
   "outputs": [
    {
     "name": "stdout",
     "output_type": "stream",
     "text": [
      "Наилучшие значения гиперпараметров:  {'max_features': 9, 'max_depth': 4}\n",
      "Лучшее усредненное значение AUC cv: 0.79\n",
      "AUC модели с наилучшими значениями гиперпараметров на тестовой выборке: 0.78\n"
     ]
    }
   ],
   "source": [
    "# импортируем функцию train_test_split()\n",
    "from sklearn.model_selection import train_test_split\n",
    "# импортируем функцию roc_auc_score()\n",
    "from sklearn.metrics import roc_auc_score\n",
    "# создаем обучающий и тестовый массивы признаков и меток\n",
    "X_train, X_test, y_train, y_test = train_test_split(X, y, test_size=.3, \n",
    "                                                    stratify=y, random_state=42)\n",
    "# создаем экземпляр класса StratifiedKFold, 5-блочную\n",
    "# перекрестную проверку со случайным перемешиванием данных\n",
    "strat = StratifiedKFold(n_splits=5, shufﬂe=True, random_state=42)\n",
    "best_score = 0\n",
    "for max_depth in [4, 6, 8, 10]:\n",
    "    for max_features in [3, 6, 9, 12]:\n",
    "        # для каждой из 16 комбинаций значений гиперпараметров создаем экземпляр\n",
    "        # класса DecisionTreeClassifier - модель дерева CART\n",
    "        tree = DecisionTreeClassifier(max_depth=max_depth, max_features=max_features,  \n",
    "                                      random_state=42)\n",
    "        # для каждой из 16 комбинаций значений гиперпараметров будем строить 5 моделей дерева \n",
    "        # CART (5 раз на 4 обучающих блоках перекрестной проверки будем строить модель,\n",
    "        # на 1 контрольном блоке - проверять, вычисляя AUC)\n",
    "        scores = cross_val_score(tree, X_train, y_train, scoring='roc_auc', cv=strat)\n",
    "        # для каждой из 16 комбинаций значений гиперпараметров вычисляем значение AUC, \n",
    "        # усредненное по 5 контрольным блокам перекрестной проверки \n",
    "        auc_score = np.mean(scores)\n",
    "        # если получаем максимальное усредненное значение AUC, \n",
    "        # сохраняем его и комбинацию значений гиперпараметров\n",
    "        if auc_score > best_score:\n",
    "            best_score = auc_score\n",
    "            best_parameters = {'max_features': max_features, 'max_depth': max_depth}\n",
    "# строим модель с комбинацией значений гиперпараметров, давшей максимальное \n",
    "# усредненное значение AUC, на обучающей выборке\n",
    "tree_best = DecisionTreeClassifier(**best_parameters, random_state=42)\n",
    "tree_best.fit(X_train, y_train)\n",
    "# проверяем качество модели с комбинацией значений гиперпараметров, \n",
    "# давшей максимальное усредненное значение AUC, на тестовой выборке\n",
    "test_score = roc_auc_score(y_test, tree_best.predict_proba(X_test)[:, 1])\n",
    "print('Наилучшие значения гиперпараметров: ', best_parameters)\n",
    "print('Лучшее усредненное значение AUC cv: {:.2f}'.format(best_score))\n",
    "print('AUC модели с наилучшими значениями гиперпараметров на тестовой выборке: {:.2f}'.format(test_score))"
   ]
  },
  {
   "cell_type": "markdown",
   "metadata": {},
   "source": [
    "## Комбинированная проверка с помощью класса GridSearchCV"
   ]
  },
  {
   "cell_type": "code",
   "execution_count": 22,
   "metadata": {
    "scrolled": true
   },
   "outputs": [
    {
     "name": "stdout",
     "output_type": "stream",
     "text": [
      "Наилучшие значения гиперпараметров: {'max_depth': 4, 'max_features': 9}\n",
      "Лучшее усредненное значение AUC cv: 0.79\n",
      "AUC модели с наилучшими значениями гиперпараметров на тестовой выборке: 0.78\n"
     ]
    }
   ],
   "source": [
    "# создаем экземпляр класса DecisionTreeClassifier\n",
    "tree_grid = DecisionTreeClassifier(random_state=42)\n",
    "# импортируем класс GridSearchCV\n",
    "from sklearn.model_selection import GridSearchCV\n",
    "# задаем сетку параметров, будем перебирать разные значения штрафа\n",
    "param_grid = {'max_depth': [4, 6, 8, 10], \n",
    "              'max_features': [3, 6, 9, 12]}\n",
    "# создаем экземпляр класса GridSearchCV\n",
    "grid_search = GridSearchCV(tree_grid, \n",
    "                           param_grid, \n",
    "                           scoring='roc_auc', \n",
    "                           return_train_score=True,\n",
    "                           n_jobs=-1, cv=strat)\n",
    "# запускаем решетчатый поиск\n",
    "grid_search.fit(X_train, y_train)\n",
    "# проверяем качество модели с комбинацией значений гиперпараметров, \n",
    "# давшей максимальное усредненное значение AUC, на тестовой выборке\n",
    "test_score = roc_auc_score(y_test, grid_search.predict_proba(X_test)[:, 1])\n",
    "# смотрим результаты решетчатого поиска\n",
    "print('Наилучшие значения гиперпараметров: {}'.format(grid_search.best_params_))\n",
    "print('Лучшее усредненное значение AUC cv: {:.2f}'.format(grid_search.best_score_))\n",
    "print('AUC модели с наилучшими значениями гиперпараметров на тестовой выборке: {:.2f}'.format(test_score))"
   ]
  },
  {
   "cell_type": "markdown",
   "metadata": {},
   "source": [
    "## Вложенная перекрестная проверка"
   ]
  },
  {
   "cell_type": "code",
   "execution_count": 23,
   "metadata": {
    "scrolled": false
   },
   "outputs": [
    {
     "name": "stdout",
     "output_type": "stream",
     "text": [
      "Значения правильности:  [0.74418605 0.76079734 0.77333333 0.77926421 0.72575251]\n",
      "Среднее значение правильности:  0.7566666888891358\n"
     ]
    }
   ],
   "source": [
    "# импортируем класс GradientBoostingClassifier\n",
    "from sklearn.ensemble import GradientBoostingClassifier\n",
    "\n",
    "# задаем сетку гиперпараметров\n",
    "grid = {'max_depth': [2, 3, 4], 'max_features': [2, 3, 4]}\n",
    "\n",
    "scores = cross_val_score(GridSearchCV(GradientBoostingClassifier(random_state=42), \n",
    "                                      grid, cv=StratifiedKFold(n_splits=5)),\n",
    "                         X, y, cv=StratifiedKFold(n_splits=5))\n",
    "print('Значения правильности: ', scores)\n",
    "print('Среднее значение правильности: ', scores.mean())"
   ]
  },
  {
   "cell_type": "code",
   "execution_count": 24,
   "metadata": {},
   "outputs": [],
   "source": [
    "# пишем функцию, выполняющую вложенную\n",
    "# перекрестную проверку\n",
    "def nested_cv(X, y, inner_cv, outer_cv, Classifier, parameter_grid):\n",
    "    # преобразовываем в массивы Numpy\n",
    "    X = X.values\n",
    "    y = y.values\n",
    "    # собираем значения правильности по всем внешним разбиениям    \n",
    "    outer_scores = []\n",
    "    # для каждого разбиения данных во внешней перекрестной проверке\n",
    "    # (метод split возвращает индексы)\n",
    "    for training_samples, test_samples in outer_cv.split(X, y):\n",
    "        # находим наилучшие значения гиперпараметров с помощью внутренней перекрестной проверки\n",
    "        best_params = {}\n",
    "        best_score = -np.inf\n",
    "        # итерируем по гиперпараметрам\n",
    "        for parameters in parameter_grid:\n",
    "            # собираем значения правильности по всем внутренним разбиениям\n",
    "            cv_scores = []\n",
    "            # итерируем по разбиениям внутренней перекрестной проверки \n",
    "            for inner_train, inner_test in inner_cv.split(\n",
    "                X[training_samples], y[training_samples]):\n",
    "                # строим классификатор с данными значениями гиперпараметров на внутренних обучающих блоках\n",
    "                clf = Classifier(**parameters, solver='liblinear')\n",
    "                clf.fit(X[inner_train], y[inner_train])\n",
    "                # оцениваем качество на внутреннем тестовом наборе\n",
    "                score = clf.score(X[inner_test], y[inner_test])\n",
    "                # добавляем в cv_scores\n",
    "                cv_scores.append(score)\n",
    "            # вычисляем среднее значение правильности по внутренним проверочным блокам\n",
    "            mean_score = np.mean(cv_scores)\n",
    "            if mean_score > best_score:\n",
    "                # если лучше, чем предыдущие, запоминаем \n",
    "                # наилучшие значения гиперпараметров\n",
    "                best_score = mean_score\n",
    "                best_params = parameters\n",
    "        # строим классификатор с наилучшими значениями гиперпараметров на внешних обучающих блоках\n",
    "        clf = Classifier(**best_params, solver='liblinear')\n",
    "        clf.fit(X[training_samples], y[training_samples])\n",
    "        # оцениваем качество на внешнем тестовом блоке\n",
    "        out_score = clf.score(X[test_samples], y[test_samples])\n",
    "        # печатаем наилучшие значения гиперпараметров и значение правильности\n",
    "        print(best_params, out_score)\n",
    "        # добавляем в outer_scores\n",
    "        outer_scores.append(out_score)\n",
    "    return np.array(outer_scores)"
   ]
  },
  {
   "cell_type": "code",
   "execution_count": 25,
   "metadata": {
    "scrolled": false
   },
   "outputs": [
    {
     "name": "stdout",
     "output_type": "stream",
     "text": [
      "{'C': 0.05} 0.7242524916943521\n",
      "{'C': 0.01} 0.7674418604651163\n",
      "{'C': 0.01} 0.7766666666666666\n",
      "{'C': 0.5} 0.8127090301003345\n",
      "{'C': 0.01} 0.7324414715719063\n"
     ]
    }
   ],
   "source": [
    "# импортируем класс LogisticRegression\n",
    "from sklearn.linear_model import LogisticRegression\n",
    "\n",
    "# задаем сетку гиперпараметров\n",
    "logreg_grid = {'C': [0.01, 0.05, 0.1, 0.25, 0.5, 1]}\n",
    "\n",
    "# каждое значение гиперпараметра или каждую комбинацию значений \n",
    "# гиперпараметров выделяем в словарь\n",
    "from sklearn.model_selection import ParameterGrid\n",
    "# применяем нашу функцию\n",
    "scores = nested_cv(X, \n",
    "                   y, \n",
    "                   StratifiedKFold(n_splits=5), \n",
    "                   StratifiedKFold(n_splits=5), \n",
    "                   LogisticRegression, \n",
    "                   ParameterGrid(logreg_grid))"
   ]
  },
  {
   "cell_type": "code",
   "execution_count": 26,
   "metadata": {
    "scrolled": true
   },
   "outputs": [
    {
     "name": "stdout",
     "output_type": "stream",
     "text": [
      "Среднее значение правильности:  0.7627023040996752\n"
     ]
    }
   ],
   "source": [
    "print('Среднее значение правильности: ', scores.mean())"
   ]
  },
  {
   "cell_type": "markdown",
   "metadata": {},
   "source": [
    "## Разбиение на обучающую и тестовую выборки, учитывающее временную структуру данных"
   ]
  },
  {
   "cell_type": "code",
   "execution_count": 27,
   "metadata": {},
   "outputs": [],
   "source": [
    "# записываем CSV-файл в объект DataFrame\n",
    "timeseries_data = pd.read_csv('Data/Flats.csv', \n",
    "                              encoding='UTF-8', \n",
    "                              sep=';', \n",
    "                              decimal=',')"
   ]
  },
  {
   "cell_type": "code",
   "execution_count": 28,
   "metadata": {},
   "outputs": [
    {
     "data": {
      "text/html": [
       "<div>\n",
       "<style scoped>\n",
       "    .dataframe tbody tr th:only-of-type {\n",
       "        vertical-align: middle;\n",
       "    }\n",
       "\n",
       "    .dataframe tbody tr th {\n",
       "        vertical-align: top;\n",
       "    }\n",
       "\n",
       "    .dataframe thead th {\n",
       "        text-align: right;\n",
       "    }\n",
       "</style>\n",
       "<table border=\"1\" class=\"dataframe\">\n",
       "  <thead>\n",
       "    <tr style=\"text-align: right;\">\n",
       "      <th></th>\n",
       "      <th>Rooms_Number</th>\n",
       "      <th>Street</th>\n",
       "      <th>House_Number</th>\n",
       "      <th>Metro_m</th>\n",
       "      <th>Stor</th>\n",
       "      <th>Storeys</th>\n",
       "      <th>Wall</th>\n",
       "      <th>Space_Total</th>\n",
       "      <th>Value_abs</th>\n",
       "      <th>Date_Create</th>\n",
       "    </tr>\n",
       "  </thead>\n",
       "  <tbody>\n",
       "    <tr>\n",
       "      <th>0</th>\n",
       "      <td>1</td>\n",
       "      <td>Оловозаводская</td>\n",
       "      <td>12/1</td>\n",
       "      <td>6340</td>\n",
       "      <td>1</td>\n",
       "      <td>6</td>\n",
       "      <td>Кирпич</td>\n",
       "      <td>32.5</td>\n",
       "      <td>1450000</td>\n",
       "      <td>22.08.2016</td>\n",
       "    </tr>\n",
       "    <tr>\n",
       "      <th>1</th>\n",
       "      <td>1</td>\n",
       "      <td>Оловозаводская</td>\n",
       "      <td>12/1</td>\n",
       "      <td>6340</td>\n",
       "      <td>2</td>\n",
       "      <td>6</td>\n",
       "      <td>Кирпич</td>\n",
       "      <td>33.8</td>\n",
       "      <td>1650000</td>\n",
       "      <td>30.01.2017</td>\n",
       "    </tr>\n",
       "    <tr>\n",
       "      <th>2</th>\n",
       "      <td>1</td>\n",
       "      <td>Оловозаводская</td>\n",
       "      <td>12/1</td>\n",
       "      <td>6340</td>\n",
       "      <td>6</td>\n",
       "      <td>6</td>\n",
       "      <td>Кирпич</td>\n",
       "      <td>37.2</td>\n",
       "      <td>2250000</td>\n",
       "      <td>28.10.2014</td>\n",
       "    </tr>\n",
       "    <tr>\n",
       "      <th>3</th>\n",
       "      <td>1</td>\n",
       "      <td>Оловозаводская</td>\n",
       "      <td>12/1</td>\n",
       "      <td>6340</td>\n",
       "      <td>6</td>\n",
       "      <td>6</td>\n",
       "      <td>Кирпич</td>\n",
       "      <td>36.4</td>\n",
       "      <td>1960000</td>\n",
       "      <td>19.08.2014</td>\n",
       "    </tr>\n",
       "    <tr>\n",
       "      <th>4</th>\n",
       "      <td>1</td>\n",
       "      <td>Оловозаводская</td>\n",
       "      <td>12/1</td>\n",
       "      <td>6340</td>\n",
       "      <td>2</td>\n",
       "      <td>6</td>\n",
       "      <td>Кирпич</td>\n",
       "      <td>35.3</td>\n",
       "      <td>1950000</td>\n",
       "      <td>28.02.2014</td>\n",
       "    </tr>\n",
       "  </tbody>\n",
       "</table>\n",
       "</div>"
      ],
      "text/plain": [
       "   Rooms_Number          Street House_Number  Metro_m  Stor  Storeys    Wall  \\\n",
       "0             1  Оловозаводская         12/1     6340     1        6  Кирпич   \n",
       "1             1  Оловозаводская         12/1     6340     2        6  Кирпич   \n",
       "2             1  Оловозаводская         12/1     6340     6        6  Кирпич   \n",
       "3             1  Оловозаводская         12/1     6340     6        6  Кирпич   \n",
       "4             1  Оловозаводская         12/1     6340     2        6  Кирпич   \n",
       "\n",
       "   Space_Total  Value_abs Date_Create  \n",
       "0         32.5    1450000  22.08.2016  \n",
       "1         33.8    1650000  30.01.2017  \n",
       "2         37.2    2250000  28.10.2014  \n",
       "3         36.4    1960000  19.08.2014  \n",
       "4         35.3    1950000  28.02.2014  "
      ]
     },
     "execution_count": 28,
     "metadata": {},
     "output_type": "execute_result"
    }
   ],
   "source": [
    "# выводим первые 5 наблюдений датафрейма\n",
    "timeseries_data.head()"
   ]
  },
  {
   "cell_type": "code",
   "execution_count": 29,
   "metadata": {},
   "outputs": [],
   "source": [
    "# преобразовываем в формат даты\n",
    "timeseries_data['Date_Create'] = pd.to_datetime(timeseries_data['Date_Create'], \n",
    "                                                format='%d.%m.%Y')"
   ]
  },
  {
   "cell_type": "code",
   "execution_count": 30,
   "metadata": {},
   "outputs": [
    {
     "data": {
      "text/html": [
       "<div>\n",
       "<style scoped>\n",
       "    .dataframe tbody tr th:only-of-type {\n",
       "        vertical-align: middle;\n",
       "    }\n",
       "\n",
       "    .dataframe tbody tr th {\n",
       "        vertical-align: top;\n",
       "    }\n",
       "\n",
       "    .dataframe thead th {\n",
       "        text-align: right;\n",
       "    }\n",
       "</style>\n",
       "<table border=\"1\" class=\"dataframe\">\n",
       "  <thead>\n",
       "    <tr style=\"text-align: right;\">\n",
       "      <th></th>\n",
       "      <th>Rooms_Number</th>\n",
       "      <th>Street</th>\n",
       "      <th>House_Number</th>\n",
       "      <th>Metro_m</th>\n",
       "      <th>Stor</th>\n",
       "      <th>Storeys</th>\n",
       "      <th>Wall</th>\n",
       "      <th>Space_Total</th>\n",
       "      <th>Value_abs</th>\n",
       "      <th>Date_Create</th>\n",
       "    </tr>\n",
       "  </thead>\n",
       "  <tbody>\n",
       "    <tr>\n",
       "      <th>11</th>\n",
       "      <td>2</td>\n",
       "      <td>Сухарная</td>\n",
       "      <td>76/3</td>\n",
       "      <td>3730</td>\n",
       "      <td>7</td>\n",
       "      <td>10</td>\n",
       "      <td>Кирпич</td>\n",
       "      <td>57.20</td>\n",
       "      <td>3300000</td>\n",
       "      <td>2005-07-06</td>\n",
       "    </tr>\n",
       "    <tr>\n",
       "      <th>5</th>\n",
       "      <td>1</td>\n",
       "      <td>Оловозаводская</td>\n",
       "      <td>12/1</td>\n",
       "      <td>6340</td>\n",
       "      <td>2</td>\n",
       "      <td>6</td>\n",
       "      <td>Кирпич</td>\n",
       "      <td>34.00</td>\n",
       "      <td>1700000</td>\n",
       "      <td>2011-11-23</td>\n",
       "    </tr>\n",
       "    <tr>\n",
       "      <th>12</th>\n",
       "      <td>3</td>\n",
       "      <td>Сухарная</td>\n",
       "      <td>76/3</td>\n",
       "      <td>3730</td>\n",
       "      <td>5</td>\n",
       "      <td>15</td>\n",
       "      <td>Кирпич</td>\n",
       "      <td>76.30</td>\n",
       "      <td>4950000</td>\n",
       "      <td>2013-12-06</td>\n",
       "    </tr>\n",
       "    <tr>\n",
       "      <th>16</th>\n",
       "      <td>3</td>\n",
       "      <td>Народная</td>\n",
       "      <td>16/1</td>\n",
       "      <td>3210</td>\n",
       "      <td>1</td>\n",
       "      <td>5</td>\n",
       "      <td>Панель</td>\n",
       "      <td>58.00</td>\n",
       "      <td>2900000</td>\n",
       "      <td>2014-01-30</td>\n",
       "    </tr>\n",
       "    <tr>\n",
       "      <th>4</th>\n",
       "      <td>1</td>\n",
       "      <td>Оловозаводская</td>\n",
       "      <td>12/1</td>\n",
       "      <td>6340</td>\n",
       "      <td>2</td>\n",
       "      <td>6</td>\n",
       "      <td>Кирпич</td>\n",
       "      <td>35.30</td>\n",
       "      <td>1950000</td>\n",
       "      <td>2014-02-28</td>\n",
       "    </tr>\n",
       "    <tr>\n",
       "      <th>9</th>\n",
       "      <td>2</td>\n",
       "      <td>Сухарная</td>\n",
       "      <td>76/3</td>\n",
       "      <td>3730</td>\n",
       "      <td>14</td>\n",
       "      <td>15</td>\n",
       "      <td>Кирпич</td>\n",
       "      <td>57.10</td>\n",
       "      <td>3850000</td>\n",
       "      <td>2014-04-17</td>\n",
       "    </tr>\n",
       "    <tr>\n",
       "      <th>3</th>\n",
       "      <td>1</td>\n",
       "      <td>Оловозаводская</td>\n",
       "      <td>12/1</td>\n",
       "      <td>6340</td>\n",
       "      <td>6</td>\n",
       "      <td>6</td>\n",
       "      <td>Кирпич</td>\n",
       "      <td>36.40</td>\n",
       "      <td>1960000</td>\n",
       "      <td>2014-08-19</td>\n",
       "    </tr>\n",
       "    <tr>\n",
       "      <th>2</th>\n",
       "      <td>1</td>\n",
       "      <td>Оловозаводская</td>\n",
       "      <td>12/1</td>\n",
       "      <td>6340</td>\n",
       "      <td>6</td>\n",
       "      <td>6</td>\n",
       "      <td>Кирпич</td>\n",
       "      <td>37.20</td>\n",
       "      <td>2250000</td>\n",
       "      <td>2014-10-28</td>\n",
       "    </tr>\n",
       "    <tr>\n",
       "      <th>18</th>\n",
       "      <td>2</td>\n",
       "      <td>Чкалова</td>\n",
       "      <td>70/1</td>\n",
       "      <td>4390</td>\n",
       "      <td>4</td>\n",
       "      <td>9</td>\n",
       "      <td>Кирпич</td>\n",
       "      <td>47.00</td>\n",
       "      <td>3100000</td>\n",
       "      <td>2014-12-01</td>\n",
       "    </tr>\n",
       "    <tr>\n",
       "      <th>10</th>\n",
       "      <td>3</td>\n",
       "      <td>Сухарная</td>\n",
       "      <td>76/3</td>\n",
       "      <td>3730</td>\n",
       "      <td>13</td>\n",
       "      <td>15</td>\n",
       "      <td>Кирпич</td>\n",
       "      <td>74.20</td>\n",
       "      <td>5450000</td>\n",
       "      <td>2015-02-11</td>\n",
       "    </tr>\n",
       "    <tr>\n",
       "      <th>13</th>\n",
       "      <td>2</td>\n",
       "      <td>Сухарная</td>\n",
       "      <td>76/3</td>\n",
       "      <td>3730</td>\n",
       "      <td>4</td>\n",
       "      <td>17</td>\n",
       "      <td>Кирпич</td>\n",
       "      <td>57.10</td>\n",
       "      <td>3500000</td>\n",
       "      <td>2015-07-31</td>\n",
       "    </tr>\n",
       "    <tr>\n",
       "      <th>0</th>\n",
       "      <td>1</td>\n",
       "      <td>Оловозаводская</td>\n",
       "      <td>12/1</td>\n",
       "      <td>6340</td>\n",
       "      <td>1</td>\n",
       "      <td>6</td>\n",
       "      <td>Кирпич</td>\n",
       "      <td>32.50</td>\n",
       "      <td>1450000</td>\n",
       "      <td>2016-08-22</td>\n",
       "    </tr>\n",
       "    <tr>\n",
       "      <th>6</th>\n",
       "      <td>1</td>\n",
       "      <td>Оловозаводская</td>\n",
       "      <td>12/1</td>\n",
       "      <td>6340</td>\n",
       "      <td>5</td>\n",
       "      <td>6</td>\n",
       "      <td>Кирпич</td>\n",
       "      <td>31.60</td>\n",
       "      <td>1550000</td>\n",
       "      <td>2016-10-26</td>\n",
       "    </tr>\n",
       "    <tr>\n",
       "      <th>19</th>\n",
       "      <td>2</td>\n",
       "      <td>Чкалова</td>\n",
       "      <td>70/1</td>\n",
       "      <td>4390</td>\n",
       "      <td>4</td>\n",
       "      <td>9</td>\n",
       "      <td>Кирпич</td>\n",
       "      <td>48.50</td>\n",
       "      <td>2550000</td>\n",
       "      <td>2016-12-08</td>\n",
       "    </tr>\n",
       "    <tr>\n",
       "      <th>15</th>\n",
       "      <td>2</td>\n",
       "      <td>Народная</td>\n",
       "      <td>16/1</td>\n",
       "      <td>3210</td>\n",
       "      <td>1</td>\n",
       "      <td>5</td>\n",
       "      <td>Панель</td>\n",
       "      <td>44.40</td>\n",
       "      <td>1850000</td>\n",
       "      <td>2017-01-30</td>\n",
       "    </tr>\n",
       "    <tr>\n",
       "      <th>1</th>\n",
       "      <td>1</td>\n",
       "      <td>Оловозаводская</td>\n",
       "      <td>12/1</td>\n",
       "      <td>6340</td>\n",
       "      <td>2</td>\n",
       "      <td>6</td>\n",
       "      <td>Кирпич</td>\n",
       "      <td>33.80</td>\n",
       "      <td>1650000</td>\n",
       "      <td>2017-01-30</td>\n",
       "    </tr>\n",
       "    <tr>\n",
       "      <th>7</th>\n",
       "      <td>1</td>\n",
       "      <td>Шатурская</td>\n",
       "      <td>4</td>\n",
       "      <td>19820</td>\n",
       "      <td>17</td>\n",
       "      <td>17</td>\n",
       "      <td>Кирпич</td>\n",
       "      <td>35.27</td>\n",
       "      <td>2330000</td>\n",
       "      <td>2017-02-15</td>\n",
       "    </tr>\n",
       "    <tr>\n",
       "      <th>14</th>\n",
       "      <td>1</td>\n",
       "      <td>Сухарная</td>\n",
       "      <td>76/3</td>\n",
       "      <td>3730</td>\n",
       "      <td>13</td>\n",
       "      <td>15</td>\n",
       "      <td>Кирпич</td>\n",
       "      <td>37.10</td>\n",
       "      <td>2300000</td>\n",
       "      <td>2017-12-06</td>\n",
       "    </tr>\n",
       "    <tr>\n",
       "      <th>17</th>\n",
       "      <td>2</td>\n",
       "      <td>Чкалова</td>\n",
       "      <td>70/1</td>\n",
       "      <td>4390</td>\n",
       "      <td>1</td>\n",
       "      <td>9</td>\n",
       "      <td>Кирпич</td>\n",
       "      <td>52.00</td>\n",
       "      <td>2400000</td>\n",
       "      <td>2018-02-21</td>\n",
       "    </tr>\n",
       "    <tr>\n",
       "      <th>8</th>\n",
       "      <td>1</td>\n",
       "      <td>Планировочная</td>\n",
       "      <td>37</td>\n",
       "      <td>0</td>\n",
       "      <td>5</td>\n",
       "      <td>10</td>\n",
       "      <td>NaN</td>\n",
       "      <td>33.00</td>\n",
       "      <td>1900000</td>\n",
       "      <td>2018-08-30</td>\n",
       "    </tr>\n",
       "  </tbody>\n",
       "</table>\n",
       "</div>"
      ],
      "text/plain": [
       "    Rooms_Number          Street House_Number  Metro_m  Stor  Storeys    Wall  \\\n",
       "11             2        Сухарная         76/3     3730     7       10  Кирпич   \n",
       "5              1  Оловозаводская         12/1     6340     2        6  Кирпич   \n",
       "12             3        Сухарная         76/3     3730     5       15  Кирпич   \n",
       "16             3        Народная         16/1     3210     1        5  Панель   \n",
       "4              1  Оловозаводская         12/1     6340     2        6  Кирпич   \n",
       "9              2        Сухарная         76/3     3730    14       15  Кирпич   \n",
       "3              1  Оловозаводская         12/1     6340     6        6  Кирпич   \n",
       "2              1  Оловозаводская         12/1     6340     6        6  Кирпич   \n",
       "18             2         Чкалова         70/1     4390     4        9  Кирпич   \n",
       "10             3        Сухарная         76/3     3730    13       15  Кирпич   \n",
       "13             2        Сухарная         76/3     3730     4       17  Кирпич   \n",
       "0              1  Оловозаводская         12/1     6340     1        6  Кирпич   \n",
       "6              1  Оловозаводская         12/1     6340     5        6  Кирпич   \n",
       "19             2         Чкалова         70/1     4390     4        9  Кирпич   \n",
       "15             2        Народная         16/1     3210     1        5  Панель   \n",
       "1              1  Оловозаводская         12/1     6340     2        6  Кирпич   \n",
       "7              1       Шатурская            4    19820    17       17  Кирпич   \n",
       "14             1        Сухарная         76/3     3730    13       15  Кирпич   \n",
       "17             2         Чкалова         70/1     4390     1        9  Кирпич   \n",
       "8              1   Планировочная           37        0     5       10     NaN   \n",
       "\n",
       "    Space_Total  Value_abs Date_Create  \n",
       "11        57.20    3300000  2005-07-06  \n",
       "5         34.00    1700000  2011-11-23  \n",
       "12        76.30    4950000  2013-12-06  \n",
       "16        58.00    2900000  2014-01-30  \n",
       "4         35.30    1950000  2014-02-28  \n",
       "9         57.10    3850000  2014-04-17  \n",
       "3         36.40    1960000  2014-08-19  \n",
       "2         37.20    2250000  2014-10-28  \n",
       "18        47.00    3100000  2014-12-01  \n",
       "10        74.20    5450000  2015-02-11  \n",
       "13        57.10    3500000  2015-07-31  \n",
       "0         32.50    1450000  2016-08-22  \n",
       "6         31.60    1550000  2016-10-26  \n",
       "19        48.50    2550000  2016-12-08  \n",
       "15        44.40    1850000  2017-01-30  \n",
       "1         33.80    1650000  2017-01-30  \n",
       "7         35.27    2330000  2017-02-15  \n",
       "14        37.10    2300000  2017-12-06  \n",
       "17        52.00    2400000  2018-02-21  \n",
       "8         33.00    1900000  2018-08-30  "
      ]
     },
     "execution_count": 30,
     "metadata": {},
     "output_type": "execute_result"
    }
   ],
   "source": [
    "# сортируем данные по дате сделки\n",
    "# (от самой ранней к самой поздней)\n",
    "timeseries_data = timeseries_data.sort_values(by='Date_Create', \n",
    "                                              ascending=1)\n",
    "timeseries_data"
   ]
  },
  {
   "cell_type": "code",
   "execution_count": 31,
   "metadata": {},
   "outputs": [],
   "source": [
    "# выполняем разбиение на обучающую и тестовую выборки, \n",
    "# учитывающее временную структуру\n",
    "X_time_tr, X_time_tst, y_time_tr, y_time_tst = train_test_split(timeseries_data.drop('Value_abs', axis=1), \n",
    "                                                                timeseries_data['Value_abs'], \n",
    "                                                                test_size=.3, \n",
    "                                                                shuffle=False)"
   ]
  },
  {
   "cell_type": "code",
   "execution_count": 32,
   "metadata": {},
   "outputs": [
    {
     "data": {
      "text/html": [
       "<div>\n",
       "<style scoped>\n",
       "    .dataframe tbody tr th:only-of-type {\n",
       "        vertical-align: middle;\n",
       "    }\n",
       "\n",
       "    .dataframe tbody tr th {\n",
       "        vertical-align: top;\n",
       "    }\n",
       "\n",
       "    .dataframe thead th {\n",
       "        text-align: right;\n",
       "    }\n",
       "</style>\n",
       "<table border=\"1\" class=\"dataframe\">\n",
       "  <thead>\n",
       "    <tr style=\"text-align: right;\">\n",
       "      <th></th>\n",
       "      <th>Rooms_Number</th>\n",
       "      <th>Street</th>\n",
       "      <th>House_Number</th>\n",
       "      <th>Metro_m</th>\n",
       "      <th>Stor</th>\n",
       "      <th>Storeys</th>\n",
       "      <th>Wall</th>\n",
       "      <th>Space_Total</th>\n",
       "      <th>Date_Create</th>\n",
       "    </tr>\n",
       "  </thead>\n",
       "  <tbody>\n",
       "    <tr>\n",
       "      <th>11</th>\n",
       "      <td>2</td>\n",
       "      <td>Сухарная</td>\n",
       "      <td>76/3</td>\n",
       "      <td>3730</td>\n",
       "      <td>7</td>\n",
       "      <td>10</td>\n",
       "      <td>Кирпич</td>\n",
       "      <td>57.2</td>\n",
       "      <td>2005-07-06</td>\n",
       "    </tr>\n",
       "    <tr>\n",
       "      <th>5</th>\n",
       "      <td>1</td>\n",
       "      <td>Оловозаводская</td>\n",
       "      <td>12/1</td>\n",
       "      <td>6340</td>\n",
       "      <td>2</td>\n",
       "      <td>6</td>\n",
       "      <td>Кирпич</td>\n",
       "      <td>34.0</td>\n",
       "      <td>2011-11-23</td>\n",
       "    </tr>\n",
       "    <tr>\n",
       "      <th>12</th>\n",
       "      <td>3</td>\n",
       "      <td>Сухарная</td>\n",
       "      <td>76/3</td>\n",
       "      <td>3730</td>\n",
       "      <td>5</td>\n",
       "      <td>15</td>\n",
       "      <td>Кирпич</td>\n",
       "      <td>76.3</td>\n",
       "      <td>2013-12-06</td>\n",
       "    </tr>\n",
       "    <tr>\n",
       "      <th>16</th>\n",
       "      <td>3</td>\n",
       "      <td>Народная</td>\n",
       "      <td>16/1</td>\n",
       "      <td>3210</td>\n",
       "      <td>1</td>\n",
       "      <td>5</td>\n",
       "      <td>Панель</td>\n",
       "      <td>58.0</td>\n",
       "      <td>2014-01-30</td>\n",
       "    </tr>\n",
       "    <tr>\n",
       "      <th>4</th>\n",
       "      <td>1</td>\n",
       "      <td>Оловозаводская</td>\n",
       "      <td>12/1</td>\n",
       "      <td>6340</td>\n",
       "      <td>2</td>\n",
       "      <td>6</td>\n",
       "      <td>Кирпич</td>\n",
       "      <td>35.3</td>\n",
       "      <td>2014-02-28</td>\n",
       "    </tr>\n",
       "    <tr>\n",
       "      <th>9</th>\n",
       "      <td>2</td>\n",
       "      <td>Сухарная</td>\n",
       "      <td>76/3</td>\n",
       "      <td>3730</td>\n",
       "      <td>14</td>\n",
       "      <td>15</td>\n",
       "      <td>Кирпич</td>\n",
       "      <td>57.1</td>\n",
       "      <td>2014-04-17</td>\n",
       "    </tr>\n",
       "    <tr>\n",
       "      <th>3</th>\n",
       "      <td>1</td>\n",
       "      <td>Оловозаводская</td>\n",
       "      <td>12/1</td>\n",
       "      <td>6340</td>\n",
       "      <td>6</td>\n",
       "      <td>6</td>\n",
       "      <td>Кирпич</td>\n",
       "      <td>36.4</td>\n",
       "      <td>2014-08-19</td>\n",
       "    </tr>\n",
       "    <tr>\n",
       "      <th>2</th>\n",
       "      <td>1</td>\n",
       "      <td>Оловозаводская</td>\n",
       "      <td>12/1</td>\n",
       "      <td>6340</td>\n",
       "      <td>6</td>\n",
       "      <td>6</td>\n",
       "      <td>Кирпич</td>\n",
       "      <td>37.2</td>\n",
       "      <td>2014-10-28</td>\n",
       "    </tr>\n",
       "    <tr>\n",
       "      <th>18</th>\n",
       "      <td>2</td>\n",
       "      <td>Чкалова</td>\n",
       "      <td>70/1</td>\n",
       "      <td>4390</td>\n",
       "      <td>4</td>\n",
       "      <td>9</td>\n",
       "      <td>Кирпич</td>\n",
       "      <td>47.0</td>\n",
       "      <td>2014-12-01</td>\n",
       "    </tr>\n",
       "    <tr>\n",
       "      <th>10</th>\n",
       "      <td>3</td>\n",
       "      <td>Сухарная</td>\n",
       "      <td>76/3</td>\n",
       "      <td>3730</td>\n",
       "      <td>13</td>\n",
       "      <td>15</td>\n",
       "      <td>Кирпич</td>\n",
       "      <td>74.2</td>\n",
       "      <td>2015-02-11</td>\n",
       "    </tr>\n",
       "    <tr>\n",
       "      <th>13</th>\n",
       "      <td>2</td>\n",
       "      <td>Сухарная</td>\n",
       "      <td>76/3</td>\n",
       "      <td>3730</td>\n",
       "      <td>4</td>\n",
       "      <td>17</td>\n",
       "      <td>Кирпич</td>\n",
       "      <td>57.1</td>\n",
       "      <td>2015-07-31</td>\n",
       "    </tr>\n",
       "    <tr>\n",
       "      <th>0</th>\n",
       "      <td>1</td>\n",
       "      <td>Оловозаводская</td>\n",
       "      <td>12/1</td>\n",
       "      <td>6340</td>\n",
       "      <td>1</td>\n",
       "      <td>6</td>\n",
       "      <td>Кирпич</td>\n",
       "      <td>32.5</td>\n",
       "      <td>2016-08-22</td>\n",
       "    </tr>\n",
       "    <tr>\n",
       "      <th>6</th>\n",
       "      <td>1</td>\n",
       "      <td>Оловозаводская</td>\n",
       "      <td>12/1</td>\n",
       "      <td>6340</td>\n",
       "      <td>5</td>\n",
       "      <td>6</td>\n",
       "      <td>Кирпич</td>\n",
       "      <td>31.6</td>\n",
       "      <td>2016-10-26</td>\n",
       "    </tr>\n",
       "    <tr>\n",
       "      <th>19</th>\n",
       "      <td>2</td>\n",
       "      <td>Чкалова</td>\n",
       "      <td>70/1</td>\n",
       "      <td>4390</td>\n",
       "      <td>4</td>\n",
       "      <td>9</td>\n",
       "      <td>Кирпич</td>\n",
       "      <td>48.5</td>\n",
       "      <td>2016-12-08</td>\n",
       "    </tr>\n",
       "  </tbody>\n",
       "</table>\n",
       "</div>"
      ],
      "text/plain": [
       "    Rooms_Number          Street House_Number  Metro_m  Stor  Storeys    Wall  \\\n",
       "11             2        Сухарная         76/3     3730     7       10  Кирпич   \n",
       "5              1  Оловозаводская         12/1     6340     2        6  Кирпич   \n",
       "12             3        Сухарная         76/3     3730     5       15  Кирпич   \n",
       "16             3        Народная         16/1     3210     1        5  Панель   \n",
       "4              1  Оловозаводская         12/1     6340     2        6  Кирпич   \n",
       "9              2        Сухарная         76/3     3730    14       15  Кирпич   \n",
       "3              1  Оловозаводская         12/1     6340     6        6  Кирпич   \n",
       "2              1  Оловозаводская         12/1     6340     6        6  Кирпич   \n",
       "18             2         Чкалова         70/1     4390     4        9  Кирпич   \n",
       "10             3        Сухарная         76/3     3730    13       15  Кирпич   \n",
       "13             2        Сухарная         76/3     3730     4       17  Кирпич   \n",
       "0              1  Оловозаводская         12/1     6340     1        6  Кирпич   \n",
       "6              1  Оловозаводская         12/1     6340     5        6  Кирпич   \n",
       "19             2         Чкалова         70/1     4390     4        9  Кирпич   \n",
       "\n",
       "    Space_Total Date_Create  \n",
       "11         57.2  2005-07-06  \n",
       "5          34.0  2011-11-23  \n",
       "12         76.3  2013-12-06  \n",
       "16         58.0  2014-01-30  \n",
       "4          35.3  2014-02-28  \n",
       "9          57.1  2014-04-17  \n",
       "3          36.4  2014-08-19  \n",
       "2          37.2  2014-10-28  \n",
       "18         47.0  2014-12-01  \n",
       "10         74.2  2015-02-11  \n",
       "13         57.1  2015-07-31  \n",
       "0          32.5  2016-08-22  \n",
       "6          31.6  2016-10-26  \n",
       "19         48.5  2016-12-08  "
      ]
     },
     "execution_count": 32,
     "metadata": {},
     "output_type": "execute_result"
    }
   ],
   "source": [
    "# смотрим обучающую выборку\n",
    "X_time_tr"
   ]
  },
  {
   "cell_type": "code",
   "execution_count": 33,
   "metadata": {
    "scrolled": true
   },
   "outputs": [
    {
     "data": {
      "text/html": [
       "<div>\n",
       "<style scoped>\n",
       "    .dataframe tbody tr th:only-of-type {\n",
       "        vertical-align: middle;\n",
       "    }\n",
       "\n",
       "    .dataframe tbody tr th {\n",
       "        vertical-align: top;\n",
       "    }\n",
       "\n",
       "    .dataframe thead th {\n",
       "        text-align: right;\n",
       "    }\n",
       "</style>\n",
       "<table border=\"1\" class=\"dataframe\">\n",
       "  <thead>\n",
       "    <tr style=\"text-align: right;\">\n",
       "      <th></th>\n",
       "      <th>Rooms_Number</th>\n",
       "      <th>Street</th>\n",
       "      <th>House_Number</th>\n",
       "      <th>Metro_m</th>\n",
       "      <th>Stor</th>\n",
       "      <th>Storeys</th>\n",
       "      <th>Wall</th>\n",
       "      <th>Space_Total</th>\n",
       "      <th>Date_Create</th>\n",
       "    </tr>\n",
       "  </thead>\n",
       "  <tbody>\n",
       "    <tr>\n",
       "      <th>15</th>\n",
       "      <td>2</td>\n",
       "      <td>Народная</td>\n",
       "      <td>16/1</td>\n",
       "      <td>3210</td>\n",
       "      <td>1</td>\n",
       "      <td>5</td>\n",
       "      <td>Панель</td>\n",
       "      <td>44.40</td>\n",
       "      <td>2017-01-30</td>\n",
       "    </tr>\n",
       "    <tr>\n",
       "      <th>1</th>\n",
       "      <td>1</td>\n",
       "      <td>Оловозаводская</td>\n",
       "      <td>12/1</td>\n",
       "      <td>6340</td>\n",
       "      <td>2</td>\n",
       "      <td>6</td>\n",
       "      <td>Кирпич</td>\n",
       "      <td>33.80</td>\n",
       "      <td>2017-01-30</td>\n",
       "    </tr>\n",
       "    <tr>\n",
       "      <th>7</th>\n",
       "      <td>1</td>\n",
       "      <td>Шатурская</td>\n",
       "      <td>4</td>\n",
       "      <td>19820</td>\n",
       "      <td>17</td>\n",
       "      <td>17</td>\n",
       "      <td>Кирпич</td>\n",
       "      <td>35.27</td>\n",
       "      <td>2017-02-15</td>\n",
       "    </tr>\n",
       "    <tr>\n",
       "      <th>14</th>\n",
       "      <td>1</td>\n",
       "      <td>Сухарная</td>\n",
       "      <td>76/3</td>\n",
       "      <td>3730</td>\n",
       "      <td>13</td>\n",
       "      <td>15</td>\n",
       "      <td>Кирпич</td>\n",
       "      <td>37.10</td>\n",
       "      <td>2017-12-06</td>\n",
       "    </tr>\n",
       "    <tr>\n",
       "      <th>17</th>\n",
       "      <td>2</td>\n",
       "      <td>Чкалова</td>\n",
       "      <td>70/1</td>\n",
       "      <td>4390</td>\n",
       "      <td>1</td>\n",
       "      <td>9</td>\n",
       "      <td>Кирпич</td>\n",
       "      <td>52.00</td>\n",
       "      <td>2018-02-21</td>\n",
       "    </tr>\n",
       "    <tr>\n",
       "      <th>8</th>\n",
       "      <td>1</td>\n",
       "      <td>Планировочная</td>\n",
       "      <td>37</td>\n",
       "      <td>0</td>\n",
       "      <td>5</td>\n",
       "      <td>10</td>\n",
       "      <td>NaN</td>\n",
       "      <td>33.00</td>\n",
       "      <td>2018-08-30</td>\n",
       "    </tr>\n",
       "  </tbody>\n",
       "</table>\n",
       "</div>"
      ],
      "text/plain": [
       "    Rooms_Number          Street House_Number  Metro_m  Stor  Storeys    Wall  \\\n",
       "15             2        Народная         16/1     3210     1        5  Панель   \n",
       "1              1  Оловозаводская         12/1     6340     2        6  Кирпич   \n",
       "7              1       Шатурская            4    19820    17       17  Кирпич   \n",
       "14             1        Сухарная         76/3     3730    13       15  Кирпич   \n",
       "17             2         Чкалова         70/1     4390     1        9  Кирпич   \n",
       "8              1   Планировочная           37        0     5       10     NaN   \n",
       "\n",
       "    Space_Total Date_Create  \n",
       "15        44.40  2017-01-30  \n",
       "1         33.80  2017-01-30  \n",
       "7         35.27  2017-02-15  \n",
       "14        37.10  2017-12-06  \n",
       "17        52.00  2018-02-21  \n",
       "8         33.00  2018-08-30  "
      ]
     },
     "execution_count": 33,
     "metadata": {},
     "output_type": "execute_result"
    }
   ],
   "source": [
    "# смотрим тестовую выборку\n",
    "X_time_tst"
   ]
  },
  {
   "cell_type": "code",
   "execution_count": 34,
   "metadata": {
    "scrolled": true
   },
   "outputs": [
    {
     "data": {
      "text/html": [
       "<div>\n",
       "<style scoped>\n",
       "    .dataframe tbody tr th:only-of-type {\n",
       "        vertical-align: middle;\n",
       "    }\n",
       "\n",
       "    .dataframe tbody tr th {\n",
       "        vertical-align: top;\n",
       "    }\n",
       "\n",
       "    .dataframe thead th {\n",
       "        text-align: right;\n",
       "    }\n",
       "</style>\n",
       "<table border=\"1\" class=\"dataframe\">\n",
       "  <thead>\n",
       "    <tr style=\"text-align: right;\">\n",
       "      <th></th>\n",
       "      <th>date</th>\n",
       "      <th>count_1</th>\n",
       "      <th>count_2</th>\n",
       "      <th>count_3</th>\n",
       "      <th>count_4</th>\n",
       "      <th>amount_1</th>\n",
       "      <th>amount_2</th>\n",
       "      <th>amount_3</th>\n",
       "      <th>count_5</th>\n",
       "      <th>count_6</th>\n",
       "      <th>count_7</th>\n",
       "      <th>amount_4</th>\n",
       "      <th>type</th>\n",
       "      <th>response</th>\n",
       "    </tr>\n",
       "  </thead>\n",
       "  <tbody>\n",
       "    <tr>\n",
       "      <th>0</th>\n",
       "      <td>04.03.2017</td>\n",
       "      <td>1</td>\n",
       "      <td>1</td>\n",
       "      <td>0</td>\n",
       "      <td>0</td>\n",
       "      <td>10.0</td>\n",
       "      <td>10.0</td>\n",
       "      <td>0.0</td>\n",
       "      <td>1</td>\n",
       "      <td>0.0</td>\n",
       "      <td>1</td>\n",
       "      <td>10.0</td>\n",
       "      <td>O</td>\n",
       "      <td>0</td>\n",
       "    </tr>\n",
       "    <tr>\n",
       "      <th>1</th>\n",
       "      <td>21.10.2016</td>\n",
       "      <td>1</td>\n",
       "      <td>1</td>\n",
       "      <td>0</td>\n",
       "      <td>0</td>\n",
       "      <td>1000.0</td>\n",
       "      <td>1000.0</td>\n",
       "      <td>0.0</td>\n",
       "      <td>1</td>\n",
       "      <td>0.0</td>\n",
       "      <td>1</td>\n",
       "      <td>1000.0</td>\n",
       "      <td>O</td>\n",
       "      <td>0</td>\n",
       "    </tr>\n",
       "    <tr>\n",
       "      <th>2</th>\n",
       "      <td>28.12.2016</td>\n",
       "      <td>3</td>\n",
       "      <td>1</td>\n",
       "      <td>1</td>\n",
       "      <td>1</td>\n",
       "      <td>1000.0</td>\n",
       "      <td>1000.0</td>\n",
       "      <td>0.0</td>\n",
       "      <td>1</td>\n",
       "      <td>0.0</td>\n",
       "      <td>3</td>\n",
       "      <td>1000.0</td>\n",
       "      <td>O</td>\n",
       "      <td>0</td>\n",
       "    </tr>\n",
       "    <tr>\n",
       "      <th>3</th>\n",
       "      <td>08.01.2017</td>\n",
       "      <td>2</td>\n",
       "      <td>2</td>\n",
       "      <td>6</td>\n",
       "      <td>0</td>\n",
       "      <td>1000.0</td>\n",
       "      <td>1000.0</td>\n",
       "      <td>0.0</td>\n",
       "      <td>1</td>\n",
       "      <td>0.0</td>\n",
       "      <td>1</td>\n",
       "      <td>400.0</td>\n",
       "      <td>O</td>\n",
       "      <td>1</td>\n",
       "    </tr>\n",
       "    <tr>\n",
       "      <th>4</th>\n",
       "      <td>27.11.2017</td>\n",
       "      <td>1</td>\n",
       "      <td>1</td>\n",
       "      <td>0</td>\n",
       "      <td>0</td>\n",
       "      <td>1000.0</td>\n",
       "      <td>1000.0</td>\n",
       "      <td>0.0</td>\n",
       "      <td>1</td>\n",
       "      <td>0.0</td>\n",
       "      <td>1</td>\n",
       "      <td>1000.0</td>\n",
       "      <td>O</td>\n",
       "      <td>0</td>\n",
       "    </tr>\n",
       "  </tbody>\n",
       "</table>\n",
       "</div>"
      ],
      "text/plain": [
       "         date  count_1  count_2  count_3  count_4  amount_1  amount_2  \\\n",
       "0  04.03.2017        1        1        0        0      10.0      10.0   \n",
       "1  21.10.2016        1        1        0        0    1000.0    1000.0   \n",
       "2  28.12.2016        3        1        1        1    1000.0    1000.0   \n",
       "3  08.01.2017        2        2        6        0    1000.0    1000.0   \n",
       "4  27.11.2017        1        1        0        0    1000.0    1000.0   \n",
       "\n",
       "   amount_3  count_5  count_6  count_7  amount_4 type  response  \n",
       "0       0.0        1      0.0        1      10.0    O         0  \n",
       "1       0.0        1      0.0        1    1000.0    O         0  \n",
       "2       0.0        1      0.0        3    1000.0    O         0  \n",
       "3       0.0        1      0.0        1     400.0    O         1  \n",
       "4       0.0        1      0.0        1    1000.0    O         0  "
      ]
     },
     "execution_count": 34,
     "metadata": {},
     "output_type": "execute_result"
    }
   ],
   "source": [
    "# записываем CSV-файл в объект DataFrame\n",
    "wellsfargo_data = pd.read_csv('Data/wellsfargo.csv', sep=';')\n",
    "# выводим первые 5 наблюдений\n",
    "wellsfargo_data.head()"
   ]
  },
  {
   "cell_type": "code",
   "execution_count": 35,
   "metadata": {},
   "outputs": [],
   "source": [
    "# преобразовываем в формат даты\n",
    "wellsfargo_data['date'] = pd.to_datetime(wellsfargo_data['date'])"
   ]
  },
  {
   "cell_type": "code",
   "execution_count": 36,
   "metadata": {},
   "outputs": [],
   "source": [
    "# сортируем данные по дате\n",
    "# (от самой ранней к самой поздней)\n",
    "wellsfargo_data = wellsfargo_data.sort_values(by='date', \n",
    "                                              ascending=1)"
   ]
  },
  {
   "cell_type": "code",
   "execution_count": 37,
   "metadata": {},
   "outputs": [],
   "source": [
    "# удаляем на месте date\n",
    "wellsfargo_data.drop('date', inplace=True, axis=1)"
   ]
  },
  {
   "cell_type": "code",
   "execution_count": 38,
   "metadata": {},
   "outputs": [],
   "source": [
    "# выполняем разбиение на обучающую и тестовую выборки, учитывающее временную структуру\n",
    "X_wellsfargo_train, X_wellsfargo_test, y_wellsfargo_train, y_wellsfargo_test = train_test_split(\n",
    "    wellsfargo_data.drop('response', axis=1), wellsfargo_data['response'], \n",
    "    test_size=0.3, shuffle=False)"
   ]
  },
  {
   "cell_type": "code",
   "execution_count": 39,
   "metadata": {},
   "outputs": [],
   "source": [
    "# выполняем дамми-кодирование\n",
    "X_wellsfargo_train = pd.get_dummies(X_wellsfargo_train)\n",
    "X_wellsfargo_test = pd.get_dummies(X_wellsfargo_test)"
   ]
  },
  {
   "cell_type": "code",
   "execution_count": 40,
   "metadata": {},
   "outputs": [
    {
     "name": "stdout",
     "output_type": "stream",
     "text": [
      "AUC на обучающей выборке: 0.899\n",
      "AUC на тестовой выборке: 0.845\n"
     ]
    }
   ],
   "source": [
    "# создаем экземляр класса GradientBoostingClassifier\n",
    "boost = GradientBoostingClassifier(random_state=152)\n",
    "# обучаем модель\n",
    "boost.fit(X_wellsfargo_train, y_wellsfargo_train)\n",
    "# оцениваем качество модели на обучающих данных\n",
    "print('AUC на обучающей выборке: {:.3f}'.format(\n",
    "    roc_auc_score(y_wellsfargo_train, boost.predict_proba(X_wellsfargo_train)[:, 1])))\n",
    "# оцениваем качество модели на тестовых данных\n",
    "print('AUC на тестовой выборке: {:.3f}'.format(\n",
    "    roc_auc_score(y_wellsfargo_test, boost.predict_proba(X_wellsfargo_test)[:, 1])))"
   ]
  },
  {
   "cell_type": "markdown",
   "metadata": {},
   "source": [
    "## Перекрестная проверка, учитывающая временную структуру данных"
   ]
  },
  {
   "cell_type": "code",
   "execution_count": 41,
   "metadata": {},
   "outputs": [],
   "source": [
    "# импортируем класс TimeSeriesSplit\n",
    "from sklearn.model_selection import TimeSeriesSplit\n",
    "# создаем экземпляр класса TimeSeriesSplit\n",
    "tscv = TimeSeriesSplit(n_splits=3)\n",
    "# создаем массив меток и массив признаков\n",
    "y_timeseries = timeseries_data.pop('Value_abs').values\n",
    "X_timeseries = timeseries_data.values"
   ]
  },
  {
   "cell_type": "code",
   "execution_count": 42,
   "metadata": {},
   "outputs": [
    {
     "name": "stdout",
     "output_type": "stream",
     "text": [
      "TRAIN: [0 1 2 3 4] TEST: [5 6 7 8 9]\n",
      "Общее кол-во наблюдений: 10\n",
      "Обучающий набор: 5\n",
      "Тестовый набор: 5\n",
      "\n",
      "TRAIN: [0 1 2 3 4 5 6 7 8 9] TEST: [10 11 12 13 14]\n",
      "Общее кол-во наблюдений: 15\n",
      "Обучающий набор: 10\n",
      "Тестовый набор: 5\n",
      "\n",
      "TRAIN: [ 0  1  2  3  4  5  6  7  8  9 10 11 12 13 14] TEST: [15 16 17 18 19]\n",
      "Общее кол-во наблюдений: 20\n",
      "Обучающий набор: 15\n",
      "Тестовый набор: 5\n",
      "\n"
     ]
    }
   ],
   "source": [
    "# взглянем на индексы наблюдений, попавших в обучающий\n",
    "# и тестовый наборы, по каждой из 3 итераций\n",
    "for train_index, test_index in tscv.split(X_timeseries):\n",
    "    print('TRAIN:', train_index, 'TEST:', test_index)\n",
    "    X_train, X_test = X_timeseries[train_index], X_timeseries[test_index]\n",
    "    y_train, y_test = y_timeseries[train_index], X_timeseries[test_index]\n",
    "    print('Общее кол-во наблюдений: %d' % (len(X_train) + len(X_test)))\n",
    "    print('Обучающий набор: %d' % (len(X_train)))\n",
    "    print('Тестовый набор: %d' % (len(X_test)))\n",
    "    print('')"
   ]
  },
  {
   "cell_type": "code",
   "execution_count": 43,
   "metadata": {},
   "outputs": [],
   "source": [
    "# фиксируем размер обучающего набора\n",
    "tscv2 = TimeSeriesSplit(n_splits=3, max_train_size=5)"
   ]
  },
  {
   "cell_type": "code",
   "execution_count": 44,
   "metadata": {
    "scrolled": true
   },
   "outputs": [
    {
     "name": "stdout",
     "output_type": "stream",
     "text": [
      "TRAIN: [0 1 2 3 4] TEST: [5 6 7 8 9]\n",
      "Общее кол-во наблюдений: 10\n",
      "Обучающий набор: 5\n",
      "Тестовый набор: 5\n",
      "\n",
      "TRAIN: [5 6 7 8 9] TEST: [10 11 12 13 14]\n",
      "Общее кол-во наблюдений: 10\n",
      "Обучающий набор: 5\n",
      "Тестовый набор: 5\n",
      "\n",
      "TRAIN: [10 11 12 13 14] TEST: [15 16 17 18 19]\n",
      "Общее кол-во наблюдений: 10\n",
      "Обучающий набор: 5\n",
      "Тестовый набор: 5\n",
      "\n"
     ]
    }
   ],
   "source": [
    "# взглянем на индексы наблюдений, попавших в обучающий\n",
    "# и тестовый наборы, по каждой из 3 итераций\n",
    "for train_index, test_index in tscv2.split(X_timeseries):\n",
    "    print('TRAIN:', train_index, 'TEST:', test_index)\n",
    "    X_train, X_test = X_timeseries[train_index], X_timeseries[test_index]\n",
    "    y_train, y_test = y_timeseries[train_index], y_timeseries[test_index]\n",
    "    print('Общее кол-во наблюдений: %d' % (len(X_train) + len(X_test)))\n",
    "    print('Обучающий набор: %d' % (len(X_train)))\n",
    "    print('Тестовый набор: %d' % (len(X_test)))\n",
    "    print('')"
   ]
  },
  {
   "cell_type": "code",
   "execution_count": 45,
   "metadata": {},
   "outputs": [],
   "source": [
    "# создаем массив меток и массив признаков\n",
    "y_wellsfargo = wellsfargo_data.pop('response').values\n",
    "X_wellsfargo = pd.get_dummies(wellsfargo_data).values"
   ]
  },
  {
   "cell_type": "code",
   "execution_count": 46,
   "metadata": {},
   "outputs": [],
   "source": [
    "# создаем экземпляр класса TimeSeriesSplit,\n",
    "# перекрестная проверка расширяющимся окном\n",
    "time_cv = TimeSeriesSplit(n_splits=3)"
   ]
  },
  {
   "cell_type": "code",
   "execution_count": 47,
   "metadata": {
    "scrolled": false
   },
   "outputs": [
    {
     "name": "stdout",
     "output_type": "stream",
     "text": [
      "TRAIN: [   0    1    2 ... 1247 1248 1249] TEST: [1250 1251 1252 ... 2497 2498 2499]\n",
      "Общее кол-во наблюдений: 2500\n",
      "Обучающий набор: 1250\n",
      "Тестовый набор: 1250\n",
      "AUC на обучающей выборке: 0.935\n",
      "AUC на тестовой выборке: 0.835\n",
      "\n",
      "TRAIN: [   0    1    2 ... 2497 2498 2499] TEST: [2500 2501 2502 ... 3747 3748 3749]\n",
      "Общее кол-во наблюдений: 3750\n",
      "Обучающий набор: 2500\n",
      "Тестовый набор: 1250\n",
      "AUC на обучающей выборке: 0.904\n",
      "AUC на тестовой выборке: 0.854\n",
      "\n",
      "TRAIN: [   0    1    2 ... 3747 3748 3749] TEST: [3750 3751 3752 ... 4997 4998 4999]\n",
      "Общее кол-во наблюдений: 5000\n",
      "Обучающий набор: 3750\n",
      "Тестовый набор: 1250\n",
      "AUC на обучающей выборке: 0.898\n",
      "AUC на тестовой выборке: 0.844\n",
      "\n"
     ]
    }
   ],
   "source": [
    "# взглянем на индексы наблюдений, попавших в обучающий\n",
    "# и тестовый наборы, по каждой из 3 итераций, а также\n",
    "# посмотрим правильность на разных временных срезах\n",
    "for train_index, test_index in time_cv.split(X_wellsfargo):\n",
    "    print('TRAIN:', train_index, 'TEST:', test_index)\n",
    "    X_train, X_test = X_wellsfargo[train_index], X_wellsfargo[test_index]\n",
    "    y_train, y_test = y_wellsfargo[train_index], y_wellsfargo[test_index]\n",
    "    print('Общее кол-во наблюдений: %d' % (len(X_train) + len(X_test)))\n",
    "    print('Обучающий набор: %d' % (len(X_train)))\n",
    "    print('Тестовый набор: %d' % (len(X_test)))\n",
    "    boost.fit(X_train, y_train)\n",
    "    print('AUC на обучающей выборке: {:.3f}'.format(\n",
    "        roc_auc_score(y_train, boost.predict_proba(X_train)[:, 1])))\n",
    "    print('AUC на тестовой выборке: {:.3f}'.format(\n",
    "        roc_auc_score(y_test, boost.predict_proba(X_test)[:, 1])))\n",
    "    print('')"
   ]
  },
  {
   "cell_type": "code",
   "execution_count": 48,
   "metadata": {},
   "outputs": [],
   "source": [
    "# создаем экземпляр класса TimeSeriesSplit,\n",
    "# перекрестная проверка скользящим окном\n",
    "time_cv2 = TimeSeriesSplit(n_splits=3, max_train_size=1250)"
   ]
  },
  {
   "cell_type": "code",
   "execution_count": 49,
   "metadata": {},
   "outputs": [
    {
     "name": "stdout",
     "output_type": "stream",
     "text": [
      "TRAIN: 0 1249 TEST: 1250 2499\n",
      "Общее кол-во наблюдений: 2500\n",
      "Обучающий набор: 1250\n",
      "Тестовый набор: 1250\n",
      "AUC на обучающей выборке: 0.935\n",
      "AUC на тестовой выборке: 0.835\n",
      "\n",
      "TRAIN: 1250 2499 TEST: 2500 3749\n",
      "Общее кол-во наблюдений: 2500\n",
      "Обучающий набор: 1250\n",
      "Тестовый набор: 1250\n",
      "AUC на обучающей выборке: 0.947\n",
      "AUC на тестовой выборке: 0.852\n",
      "\n",
      "TRAIN: 2500 3749 TEST: 3750 4999\n",
      "Общее кол-во наблюдений: 2500\n",
      "Обучающий набор: 1250\n",
      "Тестовый набор: 1250\n",
      "AUC на обучающей выборке: 0.948\n",
      "AUC на тестовой выборке: 0.830\n",
      "\n"
     ]
    }
   ],
   "source": [
    "# взглянем на индексы наблюдений, попавших в обучающий\n",
    "# и тестовый наборы, по каждой из 3 итераций, а также\n",
    "# посмотрим правильность на разных временных срезах\n",
    "for train_index, test_index in time_cv2.split(X_wellsfargo):\n",
    "    print('TRAIN:', train_index[0], train_index[-1], 'TEST:', test_index[0], test_index[-1])\n",
    "    X_train, X_test = X_wellsfargo[train_index], X_wellsfargo[test_index]\n",
    "    y_train, y_test = y_wellsfargo[train_index], y_wellsfargo[test_index]\n",
    "    print('Общее кол-во наблюдений: %d' % (len(X_train) + len(X_test)))\n",
    "    print('Обучающий набор: %d' % (len(X_train)))\n",
    "    print('Тестовый набор: %d' % (len(X_test)))\n",
    "    boost.fit(X_train, y_train)\n",
    "    print('AUC на обучающей выборке: {:.3f}'.format(\n",
    "        roc_auc_score(y_train, boost.predict_proba(X_train)[:, 1])))\n",
    "    print('AUC на тестовой выборке: {:.3f}'.format(\n",
    "        roc_auc_score(y_test, boost.predict_proba(X_test)[:, 1])))\n",
    "    print('')"
   ]
  },
  {
   "cell_type": "markdown",
   "metadata": {},
   "source": [
    "## Бутстреп"
   ]
  },
  {
   "cell_type": "code",
   "execution_count": 50,
   "metadata": {},
   "outputs": [
    {
     "name": "stdout",
     "output_type": "stream",
     "text": [
      "Среднее значение правильности: 0.67\n",
      "Среднее значение AUC: 0.65\n"
     ]
    }
   ],
   "source": [
    "# импортируем необходимые функции\n",
    "from sklearn.utils import resample\n",
    "from sklearn.metrics import accuracy_score\n",
    "# конкатенируем массив признаков и массив меток\n",
    "data = pd.concat([X, y], axis=1)\n",
    "# преобразовываем датафрейм в массив NumPy\n",
    "values = data.values\n",
    "# задаем количество итераций\n",
    "n_iterations = 100\n",
    "n_size = int(len(data) * 0.50)\n",
    "# создаем список, в котором будем \n",
    "# хранить значения правильности\n",
    "acc_stats = list()\n",
    "# создаем список, в котором будем \n",
    "# хранить значения AUC\n",
    "auc_stats = list()\n",
    "# запускаем бутстреп\n",
    "for i in range(n_iterations):\n",
    "    # подготавливаем обучающий и тестовый наборы\n",
    "    train = resample(values, n_samples=n_size)\n",
    "    test = np.array([x for x in values if x.tolist() not in train.tolist()])\n",
    "    # обучаем модель дерева\n",
    "    model = DecisionTreeClassifier(random_state=152)\n",
    "    model.fit(train[:,:-1], train[:,-1])\n",
    "    # оцениваем правильность модели\n",
    "    predictions = model.predict(test[:,:-1])\n",
    "    acc_score = accuracy_score(test[:,-1], predictions)\n",
    "    acc_stats.append(acc_score)\n",
    "    # оцениваем AUC модели\n",
    "    probabilities = model.predict_proba(test[:,:-1])[:, 1]\n",
    "    auc_score = roc_auc_score(test[:,-1], probabilities)\n",
    "    auc_stats.append(auc_score)\n",
    "# печатаем среднее значение правильности\n",
    "print(\"Среднее значение правильности: {:.2f}\".format(np.mean(acc_stats)))\n",
    "# печатаем среднее значение AUC\n",
    "print(\"Среднее значение AUC: {:.2f}\".format(np.mean(auc_stats)))"
   ]
  },
  {
   "cell_type": "markdown",
   "metadata": {},
   "source": [
    "## Доверительный интервал"
   ]
  },
  {
   "cell_type": "markdown",
   "metadata": {},
   "source": [
    "### Асимптотический метод"
   ]
  },
  {
   "cell_type": "markdown",
   "metadata": {},
   "source": [
    "#### Учимся вычислять асимптотический 90%-ный доверительный интервал среднего"
   ]
  },
  {
   "cell_type": "code",
   "execution_count": 51,
   "metadata": {
    "scrolled": true
   },
   "outputs": [],
   "source": [
    "# импортируем модуль random\n",
    "import random\n",
    "# задаем стартовое значение\n",
    "# генератора случайных чисел\n",
    "random.seed(444)\n",
    "# генеририруем 50 случайных чисел\n",
    "# в диапазоне от 45 до 100\n",
    "income = np.random.uniform(45, 100, size=(50,))"
   ]
  },
  {
   "cell_type": "code",
   "execution_count": 52,
   "metadata": {},
   "outputs": [
    {
     "data": {
      "text/plain": [
       "74.58633052300175"
      ]
     },
     "execution_count": 52,
     "metadata": {},
     "output_type": "execute_result"
    }
   ],
   "source": [
    "# вычисляем среднее значение дохода\n",
    "mean_income = np.mean(income)\n",
    "mean_income"
   ]
  },
  {
   "cell_type": "code",
   "execution_count": 53,
   "metadata": {},
   "outputs": [],
   "source": [
    "# записываем информацию о размере выборки\n",
    "N = 50"
   ]
  },
  {
   "cell_type": "code",
   "execution_count": 54,
   "metadata": {},
   "outputs": [],
   "source": [
    "# вычисляем предел погрешности \n",
    "err = 1.645 * (np.std(income) / np.sqrt(N))"
   ]
  },
  {
   "cell_type": "code",
   "execution_count": 55,
   "metadata": {},
   "outputs": [
    {
     "data": {
      "text/plain": [
       "71.04773556807402"
      ]
     },
     "execution_count": 55,
     "metadata": {},
     "output_type": "execute_result"
    }
   ],
   "source": [
    "# вычисляем нижнюю границу 90%-ного\n",
    "# доверительного интервала \n",
    "mean_income - err"
   ]
  },
  {
   "cell_type": "code",
   "execution_count": 56,
   "metadata": {},
   "outputs": [
    {
     "data": {
      "text/plain": [
       "78.12492547792948"
      ]
     },
     "execution_count": 56,
     "metadata": {},
     "output_type": "execute_result"
    }
   ],
   "source": [
    "# вычисляем верхнюю границу 90%-ного\n",
    "# доверительного интервала \n",
    "mean_income + err"
   ]
  },
  {
   "cell_type": "markdown",
   "metadata": {},
   "source": [
    "### Бутстреп-метод"
   ]
  },
  {
   "cell_type": "markdown",
   "metadata": {},
   "source": [
    "#### Учимся вычислять бутстрепированный 95%-ный доверительный интервал среднего"
   ]
  },
  {
   "cell_type": "code",
   "execution_count": 57,
   "metadata": {},
   "outputs": [],
   "source": [
    "# импортируем модуль stats\n",
    "from scipy import stats\n",
    "\n",
    "# пишем функцию, извлекающую бутстреп-выборки\n",
    "def get_bootstrap_samples(data, n_samples):\n",
    "    indices = np.random.randint(0, len(data), (n_samples, len(data)))\n",
    "    samples = data[indices]\n",
    "    return samples\n",
    "\n",
    "# пишем функцию, вычисляющую нижнюю и верхнюю границы доверительного \n",
    "# интервала для полученного распределения оценок\n",
    "def stat_intervals(stat, alpha):\n",
    "    boundaries = np.percentile(stat, [100 * alpha / 2., 100 * (1 - alpha / 2.)])\n",
    "    return boundaries\n",
    "\n",
    "# пишем итоговую функцию, в которой объединяем первые две\n",
    "def bootstrap_conf_int(data, stat_func, alpha=0.05, n_samples=1000):\n",
    "    ''' \n",
    "    a = np.random.normal(size=1000)\n",
    "    conf_int(a, np.median)\n",
    "    '''\n",
    "    scores = [stat_func(sample) for sample in get_bootstrap_samples(data, n_samples)]\n",
    "    return stat_intervals(scores, alpha)"
   ]
  },
  {
   "cell_type": "code",
   "execution_count": 58,
   "metadata": {},
   "outputs": [
    {
     "data": {
      "text/plain": [
       "array([70.39128329, 78.77699954])"
      ]
     },
     "execution_count": 58,
     "metadata": {},
     "output_type": "execute_result"
    }
   ],
   "source": [
    "# вычисляем бутстрепированный 95%-ный \n",
    "# доверительный интервал среднего\n",
    "bootstrap_conf_int(income, np.mean, alpha=0.05, n_samples=1000)"
   ]
  },
  {
   "cell_type": "markdown",
   "metadata": {},
   "source": [
    "### Доверительный интервал метрики качества (на примере AUC)"
   ]
  },
  {
   "cell_type": "markdown",
   "metadata": {},
   "source": [
    "#### Учимся вычислять бутстрепированный 95%-ный доверительный интервал AUC и правильности"
   ]
  },
  {
   "cell_type": "code",
   "execution_count": 59,
   "metadata": {},
   "outputs": [
    {
     "name": "stdout",
     "output_type": "stream",
     "text": [
      "95.0 доверительный интервал правильности 63.7% и 69.3%\n",
      "95.0 доверительный интервал AUC 61.2% и 67.0%\n"
     ]
    }
   ],
   "source": [
    "# вычисляем бутстрепированные доверительные интервалы\n",
    "# правильности и AUC\n",
    "alpha = 0.95\n",
    "# задаем процентиль 2,5\n",
    "p = ((1.0 - alpha) / 2.0) * 100\n",
    "# вычисляем нижнюю границу доверительного интервала правильности\n",
    "lower_acc = max(0.0, np.percentile(acc_stats, p))\n",
    "# вычисляем нижнюю границу доверительного интервала AUC\n",
    "lower_auc = max(0.0, np.percentile(auc_stats, p))\n",
    "# задаем процентиль 97,5\n",
    "p = (alpha + ((1.0 - alpha) / 2.0)) * 100\n",
    "# вычисляем верхнюю границу доверительного интервала правильности\n",
    "upper_acc = min(1.0, np.percentile(acc_stats, p))\n",
    "# вычисляем верхнюю границу доверительного интервала AUC\n",
    "upper_auc = min(1.0, np.percentile(auc_stats, p))\n",
    "# печатаем доверительный интервал правильности\n",
    "print(\"%.1f доверительный интервал правильности %.1f%% и %.1f%%\" % (\n",
    "    alpha * 100, lower_acc * 100, upper_acc * 100))\n",
    "# печатаем доверительный интервал AUC\n",
    "print(\"%.1f доверительный интервал AUC %.1f%% и %.1f%%\" % (\n",
    "    alpha * 100, lower_auc * 100, upper_auc * 100))"
   ]
  },
  {
   "cell_type": "code",
   "execution_count": null,
   "metadata": {},
   "outputs": [],
   "source": []
  }
 ],
 "metadata": {
  "kernelspec": {
   "display_name": "Python 3",
   "language": "python",
   "name": "python3"
  },
  "language_info": {
   "codemirror_mode": {
    "name": "ipython",
    "version": 3
   },
   "file_extension": ".py",
   "mimetype": "text/x-python",
   "name": "python",
   "nbconvert_exporter": "python",
   "pygments_lexer": "ipython3",
   "version": "3.7.1"
  }
 },
 "nbformat": 4,
 "nbformat_minor": 2
}
