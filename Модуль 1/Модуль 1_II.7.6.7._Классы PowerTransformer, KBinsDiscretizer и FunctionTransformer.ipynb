{
 "cells": [
  {
   "cell_type": "code",
   "execution_count": 1,
   "metadata": {},
   "outputs": [],
   "source": [
    "# импортируем необходимые библиотеки, функции и классы\n",
    "import pandas as pd\n",
    "import numpy as np\n",
    "from sklearn.model_selection import train_test_split\n",
    "from sklearn.impute import SimpleImputer\n",
    "from sklearn.preprocessing import PowerTransformer\n",
    "from sklearn.preprocessing import FunctionTransformer\n",
    "from sklearn.preprocessing import KBinsDiscretizer\n",
    "from sklearn.preprocessing import OneHotEncoder\n",
    "from sklearn.compose import ColumnTransformer\n",
    "from sklearn.linear_model import LogisticRegression\n",
    "from sklearn.pipeline import Pipeline\n",
    "from sklearn.model_selection import GridSearchCV"
   ]
  },
  {
   "cell_type": "code",
   "execution_count": 2,
   "metadata": {
    "scrolled": true
   },
   "outputs": [
    {
     "data": {
      "text/html": [
       "<div>\n",
       "<style scoped>\n",
       "    .dataframe tbody tr th:only-of-type {\n",
       "        vertical-align: middle;\n",
       "    }\n",
       "\n",
       "    .dataframe tbody tr th {\n",
       "        vertical-align: top;\n",
       "    }\n",
       "\n",
       "    .dataframe thead th {\n",
       "        text-align: right;\n",
       "    }\n",
       "</style>\n",
       "<table border=\"1\" class=\"dataframe\">\n",
       "  <thead>\n",
       "    <tr style=\"text-align: right;\">\n",
       "      <th></th>\n",
       "      <th>region</th>\n",
       "      <th>tenure</th>\n",
       "      <th>age</th>\n",
       "      <th>marital</th>\n",
       "      <th>address</th>\n",
       "      <th>income</th>\n",
       "      <th>employ</th>\n",
       "      <th>retire</th>\n",
       "      <th>gender</th>\n",
       "      <th>reside</th>\n",
       "      <th>custcat</th>\n",
       "      <th>churn</th>\n",
       "    </tr>\n",
       "  </thead>\n",
       "  <tbody>\n",
       "    <tr>\n",
       "      <th>0</th>\n",
       "      <td>Region 2</td>\n",
       "      <td>13.0</td>\n",
       "      <td>44.0</td>\n",
       "      <td>mar</td>\n",
       "      <td>9.0</td>\n",
       "      <td>64.0</td>\n",
       "      <td>5.0</td>\n",
       "      <td>no</td>\n",
       "      <td>f</td>\n",
       "      <td>2.0</td>\n",
       "      <td>cat 1</td>\n",
       "      <td>1</td>\n",
       "    </tr>\n",
       "    <tr>\n",
       "      <th>1</th>\n",
       "      <td>Region 3</td>\n",
       "      <td>11.0</td>\n",
       "      <td>33.0</td>\n",
       "      <td>mar</td>\n",
       "      <td>7.0</td>\n",
       "      <td>136.0</td>\n",
       "      <td>5.0</td>\n",
       "      <td>no</td>\n",
       "      <td>f</td>\n",
       "      <td>6.0</td>\n",
       "      <td>cat 4</td>\n",
       "      <td>1</td>\n",
       "    </tr>\n",
       "    <tr>\n",
       "      <th>2</th>\n",
       "      <td>Region 3</td>\n",
       "      <td>68.0</td>\n",
       "      <td>52.0</td>\n",
       "      <td>mar</td>\n",
       "      <td>24.0</td>\n",
       "      <td>116.0</td>\n",
       "      <td>29.0</td>\n",
       "      <td>no</td>\n",
       "      <td>NaN</td>\n",
       "      <td>NaN</td>\n",
       "      <td>NaN</td>\n",
       "      <td>0</td>\n",
       "    </tr>\n",
       "    <tr>\n",
       "      <th>3</th>\n",
       "      <td>Region 2</td>\n",
       "      <td>NaN</td>\n",
       "      <td>33.0</td>\n",
       "      <td>NaN</td>\n",
       "      <td>12.0</td>\n",
       "      <td>NaN</td>\n",
       "      <td>NaN</td>\n",
       "      <td>no</td>\n",
       "      <td>NaN</td>\n",
       "      <td>1.0</td>\n",
       "      <td>cat 1</td>\n",
       "      <td>1</td>\n",
       "    </tr>\n",
       "    <tr>\n",
       "      <th>4</th>\n",
       "      <td>Region 2</td>\n",
       "      <td>23.0</td>\n",
       "      <td>30.0</td>\n",
       "      <td>mar</td>\n",
       "      <td>9.0</td>\n",
       "      <td>30.0</td>\n",
       "      <td>2.0</td>\n",
       "      <td>no</td>\n",
       "      <td>f</td>\n",
       "      <td>4.0</td>\n",
       "      <td>cat 3</td>\n",
       "      <td>0</td>\n",
       "    </tr>\n",
       "  </tbody>\n",
       "</table>\n",
       "</div>"
      ],
      "text/plain": [
       "     region  tenure   age marital  address  income  employ retire gender  \\\n",
       "0  Region 2    13.0  44.0     mar      9.0    64.0     5.0     no      f   \n",
       "1  Region 3    11.0  33.0     mar      7.0   136.0     5.0     no      f   \n",
       "2  Region 3    68.0  52.0     mar     24.0   116.0    29.0     no    NaN   \n",
       "3  Region 2     NaN  33.0     NaN     12.0     NaN     NaN     no    NaN   \n",
       "4  Region 2    23.0  30.0     mar      9.0    30.0     2.0     no      f   \n",
       "\n",
       "   reside custcat  churn  \n",
       "0     2.0   cat 1      1  \n",
       "1     6.0   cat 4      1  \n",
       "2     NaN     NaN      0  \n",
       "3     1.0   cat 1      1  \n",
       "4     4.0   cat 3      0  "
      ]
     },
     "execution_count": 2,
     "metadata": {},
     "output_type": "execute_result"
    }
   ],
   "source": [
    "# записываем CSV-файл в объект DataFrame\n",
    "data = pd.read_csv('Data/Vodafone_missing.csv', sep=';')\n",
    "data.head(5)"
   ]
  },
  {
   "cell_type": "code",
   "execution_count": 3,
   "metadata": {},
   "outputs": [],
   "source": [
    "# разбиваем данные на обучающие и тестовые: получаем обучающий\n",
    "# массив признаков, тестовый массив признаков, обучающий массив\n",
    "# меток, тестовый массив меток\n",
    "X_train, X_test, y_train, y_test = train_test_split(data.drop('churn', axis=1), \n",
    "                                                    data['churn'], \n",
    "                                                    test_size=0.3,\n",
    "                                                    stratify=data['churn'],\n",
    "                                                    random_state=42)"
   ]
  },
  {
   "cell_type": "code",
   "execution_count": 4,
   "metadata": {},
   "outputs": [],
   "source": [
    "# создаем список категориальных переменных, список количественных \n",
    "# переменных, не предназначенных для биннинга, список \n",
    "# количественных переменных, предназначенных для биннинга \n",
    "cat_columns = X_train.dtypes[X_train.dtypes == 'object'].index\n",
    "num_columns = X_train.dtypes[X_train.dtypes != 'object'].index\n",
    "num_bin_columns = ['tenure', 'age']"
   ]
  },
  {
   "cell_type": "code",
   "execution_count": 5,
   "metadata": {},
   "outputs": [],
   "source": [
    "# пишем функцию возведения в квадрат\n",
    "def power(x):\n",
    "    x = x ** 2\n",
    "    return x"
   ]
  },
  {
   "cell_type": "code",
   "execution_count": 6,
   "metadata": {},
   "outputs": [],
   "source": [
    "# создаем конвейер для количественных переменных,\n",
    "# которые не будут подвергнуты биннингу\n",
    "num_pipe = Pipeline([\n",
    "    ('imp', SimpleImputer()),\n",
    "    ('yeo_john', PowerTransformer(method='yeo-johnson', standardize=True))\n",
    "])\n",
    "\n",
    "# создаем конвейер для количественных переменных,\n",
    "# которые будут подвергнуты биннингу\n",
    "num_bin_pipe = Pipeline([\n",
    "    ('imp', SimpleImputer()),\n",
    "    ('power', FunctionTransformer(power, validate=False)),\n",
    "    ('bi', KBinsDiscretizer(encode='onehot-dense'))\n",
    "])\n",
    "\n",
    "# создаем конвейер для категориальных переменных\n",
    "cat_pipe = Pipeline([\n",
    "    ('imp', SimpleImputer()),\n",
    "    ('ohe', OneHotEncoder(sparse=False, handle_unknown='ignore'))\n",
    "])"
   ]
  },
  {
   "cell_type": "code",
   "execution_count": 7,
   "metadata": {},
   "outputs": [],
   "source": [
    "# создаем список трехэлементных кортежей, в котором\n",
    "# первый элемент кортежа - название конвейера с\n",
    "# преобразованиями для определенного типа признаков\n",
    "transformers = [('num', num_pipe, num_columns),\n",
    "                ('num_bin', num_bin_pipe, num_bin_columns),\n",
    "                ('cat', cat_pipe, cat_columns)]"
   ]
  },
  {
   "cell_type": "code",
   "execution_count": 8,
   "metadata": {},
   "outputs": [],
   "source": [
    "# передаем список трансформеров в ColumnTransformer\n",
    "transformer = ColumnTransformer(transformers=transformers)"
   ]
  },
  {
   "cell_type": "code",
   "execution_count": 9,
   "metadata": {},
   "outputs": [],
   "source": [
    "# задаем итоговый конвейер\n",
    "ml_pipe = Pipeline([('tr', transformer), \n",
    "                    ('lr', LogisticRegression(solver='lbfgs', max_iter=200))])"
   ]
  },
  {
   "cell_type": "code",
   "execution_count": 10,
   "metadata": {},
   "outputs": [],
   "source": [
    "# задаем сетку гиперпараметров\n",
    "param_grid = {\n",
    "    'tr__num__imp__strategy': ['mean', 'median', 'constant'],\n",
    "    'tr__num_bin__bi__n_bins': [2, 3],\n",
    "    'tr__cat__imp__strategy': ['most_frequent', 'constant'],\n",
    "    'lr__C': [.001, .01, .1]\n",
    "}"
   ]
  },
  {
   "cell_type": "code",
   "execution_count": 11,
   "metadata": {
    "scrolled": true
   },
   "outputs": [
    {
     "name": "stdout",
     "output_type": "stream",
     "text": [
      "Наилучшие значения гиперпараметров: {'lr__C': 0.1, 'tr__cat__imp__strategy': 'most_frequent', 'tr__num__imp__strategy': 'constant', 'tr__num_bin__bi__n_bins': 3}\n",
      "Наилучшее значение правильности: 0.764\n",
      "Значение правильности на тестовой выборке: 0.760\n"
     ]
    }
   ],
   "source": [
    "# создаем экземпляр класса GridSearchCV, передав конвейер,\n",
    "# сетку гиперпараметров и указав количество\n",
    "# блоков перекрестной проверки, отключив запись метрик \n",
    "# для обучающих блоков перекрестной проверки в атрибут cv_results_\n",
    "gs = GridSearchCV(ml_pipe, param_grid, cv=5, return_train_score=False)\n",
    "# выполняем решетчатый поиск\n",
    "gs.fit(X_train, y_train)\n",
    "# смотрим наилучшие значения гиперпараметров\n",
    "print('Наилучшие значения гиперпараметров: {}'.format(\n",
    "    gs.best_params_))\n",
    "# смотрим наилучшее значение правильности\n",
    "print('Наилучшее значение правильности: {:.3f}'.format(\n",
    "    gs.best_score_))\n",
    "# смотрим значение правильности на тестовой выборке\n",
    "print('Значение правильности на тестовой выборке: {:.3f}'.format(\n",
    "    gs.score(X_test, y_test)))"
   ]
  },
  {
   "cell_type": "code",
   "execution_count": 12,
   "metadata": {},
   "outputs": [
    {
     "name": "stdout",
     "output_type": "stream",
     "text": [
      "                                                                                                     mean_test_score\n",
      "param_lr__C param_tr__cat__imp__strategy param_tr__num__imp__strategy param_tr__num_bin__bi__n_bins                 \n",
      "0.100       most_frequent                constant                     3                                     0.764286\n",
      "            constant                     constant                     3                                     0.761429\n",
      "                                                                      2                                     0.755714\n",
      "            most_frequent                constant                     2                                     0.755714\n",
      "            constant                     median                       2                                     0.754286\n",
      "                                         mean                         3                                     0.752857\n",
      "                                                                      2                                     0.752857\n",
      "                                         median                       3                                     0.752857\n",
      "            most_frequent                median                       3                                     0.751429\n",
      "                                         mean                         3                                     0.751429\n",
      "                                         median                       2                                     0.751429\n",
      "                                         mean                         2                                     0.750000\n",
      "0.010       constant                     constant                     2                                     0.740000\n",
      "            most_frequent                median                       3                                     0.740000\n",
      "            constant                     mean                         3                                     0.740000\n",
      "            most_frequent                mean                         3                                     0.740000\n",
      "            constant                     median                       3                                     0.740000\n",
      "            most_frequent                constant                     3                                     0.738571\n",
      "                                                                      2                                     0.738571\n",
      "            constant                     mean                         2                                     0.737143\n",
      "                                         constant                     3                                     0.737143\n",
      "                                         median                       2                                     0.735714\n",
      "            most_frequent                median                       2                                     0.735714\n",
      "                                         mean                         2                                     0.735714\n",
      "0.001       constant                     constant                     3                                     0.725714\n",
      "            most_frequent                constant                     2                                     0.725714\n",
      "            constant                     mean                         2                                     0.725714\n",
      "                                                                      3                                     0.725714\n",
      "                                         median                       2                                     0.725714\n",
      "                                                                      3                                     0.725714\n",
      "            most_frequent                mean                         3                                     0.725714\n",
      "                                         constant                     3                                     0.725714\n",
      "                                         mean                         2                                     0.725714\n",
      "                                         median                       2                                     0.725714\n",
      "                                                                      3                                     0.725714\n",
      "            constant                     constant                     2                                     0.725714\n"
     ]
    }
   ],
   "source": [
    "# запишем результаты перекрестной \n",
    "# проверки в DataFrame\n",
    "results = pd.DataFrame(gs.cv_results_)\n",
    "# превращаем в сводную таблицу\n",
    "table = results.pivot_table(values=['mean_test_score'],    \n",
    "                            index=['param_lr__C',\n",
    "                                   'param_tr__cat__imp__strategy',\n",
    "                                   'param_tr__num__imp__strategy',\n",
    "                                   'param_tr__num_bin__bi__n_bins'])\n",
    "# сортируем по убыванию правильности\n",
    "table = table.sort_values(by='mean_test_score', ascending=False)\n",
    "print(table)"
   ]
  },
  {
   "cell_type": "code",
   "execution_count": null,
   "metadata": {},
   "outputs": [],
   "source": []
  }
 ],
 "metadata": {
  "kernelspec": {
   "display_name": "Python 3",
   "language": "python",
   "name": "python3"
  },
  "language_info": {
   "codemirror_mode": {
    "name": "ipython",
    "version": 3
   },
   "file_extension": ".py",
   "mimetype": "text/x-python",
   "name": "python",
   "nbconvert_exporter": "python",
   "pygments_lexer": "ipython3",
   "version": "3.7.1"
  }
 },
 "nbformat": 4,
 "nbformat_minor": 2
}
