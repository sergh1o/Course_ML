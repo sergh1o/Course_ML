{
 "cells": [
  {
   "cell_type": "code",
   "execution_count": 1,
   "metadata": {},
   "outputs": [],
   "source": [
    "# импортируем библиотеки pandas и numpy\n",
    "import pandas as pd\n",
    "import numpy as np\n",
    "# импортируем функции kurtosis() и skew()\n",
    "# для вычисления скоса и эксцесса\n",
    "from scipy.stats import kurtosis\n",
    "from scipy.stats import skew"
   ]
  },
  {
   "cell_type": "code",
   "execution_count": 2,
   "metadata": {},
   "outputs": [
    {
     "data": {
      "text/html": [
       "<div>\n",
       "<style scoped>\n",
       "    .dataframe tbody tr th:only-of-type {\n",
       "        vertical-align: middle;\n",
       "    }\n",
       "\n",
       "    .dataframe tbody tr th {\n",
       "        vertical-align: top;\n",
       "    }\n",
       "\n",
       "    .dataframe thead th {\n",
       "        text-align: right;\n",
       "    }\n",
       "</style>\n",
       "<table border=\"1\" class=\"dataframe\">\n",
       "  <thead>\n",
       "    <tr style=\"text-align: right;\">\n",
       "      <th></th>\n",
       "      <th>Customer Lifetime Value</th>\n",
       "      <th>Income</th>\n",
       "      <th>Monthly Premium Auto</th>\n",
       "      <th>Months Since Last Claim</th>\n",
       "      <th>Months Since Policy Inception</th>\n",
       "      <th>Number of Open Complaints</th>\n",
       "      <th>Number of Policies</th>\n",
       "      <th>Response</th>\n",
       "    </tr>\n",
       "  </thead>\n",
       "  <tbody>\n",
       "    <tr>\n",
       "      <th>0</th>\n",
       "      <td>18975.456110</td>\n",
       "      <td>65999</td>\n",
       "      <td>237</td>\n",
       "      <td>1</td>\n",
       "      <td>14</td>\n",
       "      <td>0</td>\n",
       "      <td>6</td>\n",
       "      <td>0</td>\n",
       "    </tr>\n",
       "    <tr>\n",
       "      <th>1</th>\n",
       "      <td>4715.321344</td>\n",
       "      <td>0</td>\n",
       "      <td>65</td>\n",
       "      <td>19</td>\n",
       "      <td>56</td>\n",
       "      <td>0</td>\n",
       "      <td>3</td>\n",
       "      <td>0</td>\n",
       "    </tr>\n",
       "    <tr>\n",
       "      <th>2</th>\n",
       "      <td>5018.885233</td>\n",
       "      <td>54500</td>\n",
       "      <td>63</td>\n",
       "      <td>28</td>\n",
       "      <td>17</td>\n",
       "      <td>0</td>\n",
       "      <td>6</td>\n",
       "      <td>0</td>\n",
       "    </tr>\n",
       "  </tbody>\n",
       "</table>\n",
       "</div>"
      ],
      "text/plain": [
       "   Customer Lifetime Value  Income  Monthly Premium Auto  \\\n",
       "0             18975.456110   65999                   237   \n",
       "1              4715.321344       0                    65   \n",
       "2              5018.885233   54500                    63   \n",
       "\n",
       "   Months Since Last Claim  Months Since Policy Inception  \\\n",
       "0                        1                             14   \n",
       "1                       19                             56   \n",
       "2                       28                             17   \n",
       "\n",
       "   Number of Open Complaints  Number of Policies  Response  \n",
       "0                          0                   6         0  \n",
       "1                          0                   3         0  \n",
       "2                          0                   6         0  "
      ]
     },
     "execution_count": 2,
     "metadata": {},
     "output_type": "execute_result"
    }
   ],
   "source": [
    "# записываем CSV-файл в объект DataFrame\n",
    "data = pd.read_csv('Data/StateFarm.csv', sep=';')\n",
    "data.head(3)"
   ]
  },
  {
   "cell_type": "code",
   "execution_count": 3,
   "metadata": {},
   "outputs": [],
   "source": [
    "# импортируем функцию train_test_split(), с помощью\n",
    "# которой разбиваем данные на обучающие и тестовые\n",
    "from sklearn.model_selection import train_test_split\n",
    "# разбиваем данные на обучающие и тестовые: получаем обучающий\n",
    "# массив признаков, тестовый массив признаков, обучающий массив\n",
    "# меток, тестовый массив меток\n",
    "X_train, X_test, y_train, y_test = train_test_split(data.drop('Response', axis=1), \n",
    "                                                    data['Response'], \n",
    "                                                    test_size=0.3,\n",
    "                                                    stratify=data['Response'],\n",
    "                                                    random_state=42)"
   ]
  },
  {
   "cell_type": "code",
   "execution_count": 4,
   "metadata": {},
   "outputs": [],
   "source": [
    "X_train.iloc[0, 2] = 9999999\n",
    "X_train.iloc[1, 2] = 9999999\n",
    "X_train.iloc[2, 2] = 9999999\n",
    "X_train.iloc[3, 2] = 9999999"
   ]
  },
  {
   "cell_type": "code",
   "execution_count": 5,
   "metadata": {},
   "outputs": [
    {
     "data": {
      "text/html": [
       "<div>\n",
       "<style scoped>\n",
       "    .dataframe tbody tr th:only-of-type {\n",
       "        vertical-align: middle;\n",
       "    }\n",
       "\n",
       "    .dataframe tbody tr th {\n",
       "        vertical-align: top;\n",
       "    }\n",
       "\n",
       "    .dataframe thead th {\n",
       "        text-align: right;\n",
       "    }\n",
       "</style>\n",
       "<table border=\"1\" class=\"dataframe\">\n",
       "  <thead>\n",
       "    <tr style=\"text-align: right;\">\n",
       "      <th></th>\n",
       "      <th>Customer Lifetime Value</th>\n",
       "      <th>Income</th>\n",
       "      <th>Monthly Premium Auto</th>\n",
       "      <th>Months Since Last Claim</th>\n",
       "      <th>Months Since Policy Inception</th>\n",
       "      <th>Number of Open Complaints</th>\n",
       "      <th>Number of Policies</th>\n",
       "    </tr>\n",
       "  </thead>\n",
       "  <tbody>\n",
       "    <tr>\n",
       "      <th>6764</th>\n",
       "      <td>12200.785370</td>\n",
       "      <td>60282</td>\n",
       "      <td>9999999</td>\n",
       "      <td>23</td>\n",
       "      <td>87</td>\n",
       "      <td>0</td>\n",
       "      <td>2</td>\n",
       "    </tr>\n",
       "    <tr>\n",
       "      <th>6435</th>\n",
       "      <td>5330.593183</td>\n",
       "      <td>84240</td>\n",
       "      <td>9999999</td>\n",
       "      <td>10</td>\n",
       "      <td>51</td>\n",
       "      <td>0</td>\n",
       "      <td>1</td>\n",
       "    </tr>\n",
       "    <tr>\n",
       "      <th>4763</th>\n",
       "      <td>10426.085510</td>\n",
       "      <td>52342</td>\n",
       "      <td>9999999</td>\n",
       "      <td>28</td>\n",
       "      <td>28</td>\n",
       "      <td>3</td>\n",
       "      <td>2</td>\n",
       "    </tr>\n",
       "    <tr>\n",
       "      <th>1543</th>\n",
       "      <td>3744.577726</td>\n",
       "      <td>0</td>\n",
       "      <td>9999999</td>\n",
       "      <td>3</td>\n",
       "      <td>32</td>\n",
       "      <td>0</td>\n",
       "      <td>1</td>\n",
       "    </tr>\n",
       "    <tr>\n",
       "      <th>7863</th>\n",
       "      <td>2866.779811</td>\n",
       "      <td>81763</td>\n",
       "      <td>72</td>\n",
       "      <td>22</td>\n",
       "      <td>12</td>\n",
       "      <td>1</td>\n",
       "      <td>1</td>\n",
       "    </tr>\n",
       "  </tbody>\n",
       "</table>\n",
       "</div>"
      ],
      "text/plain": [
       "      Customer Lifetime Value  Income  Monthly Premium Auto  \\\n",
       "6764             12200.785370   60282               9999999   \n",
       "6435              5330.593183   84240               9999999   \n",
       "4763             10426.085510   52342               9999999   \n",
       "1543              3744.577726       0               9999999   \n",
       "7863              2866.779811   81763                    72   \n",
       "\n",
       "      Months Since Last Claim  Months Since Policy Inception  \\\n",
       "6764                       23                             87   \n",
       "6435                       10                             51   \n",
       "4763                       28                             28   \n",
       "1543                        3                             32   \n",
       "7863                       22                             12   \n",
       "\n",
       "      Number of Open Complaints  Number of Policies  \n",
       "6764                          0                   2  \n",
       "6435                          0                   1  \n",
       "4763                          3                   2  \n",
       "1543                          0                   1  \n",
       "7863                          1                   1  "
      ]
     },
     "execution_count": 5,
     "metadata": {},
     "output_type": "execute_result"
    }
   ],
   "source": [
    "X_train.head()"
   ]
  },
  {
   "cell_type": "code",
   "execution_count": 6,
   "metadata": {},
   "outputs": [],
   "source": [
    "# импортируем класс StandardScaler, выполняющий стандартизацию\n",
    "from sklearn.preprocessing import StandardScaler\n",
    "# создаем модель стандартизации – экземпляр класса StandardScaler\n",
    "standardscaler = StandardScaler()"
   ]
  },
  {
   "cell_type": "code",
   "execution_count": 7,
   "metadata": {},
   "outputs": [
    {
     "name": "stderr",
     "output_type": "stream",
     "text": [
      "/anaconda3/lib/python3.7/site-packages/sklearn/preprocessing/data.py:645: DataConversionWarning: Data with input dtype int64, float64 were all converted to float64 by StandardScaler.\n",
      "  return self.partial_fit(X, y)\n"
     ]
    },
    {
     "data": {
      "text/plain": [
       "StandardScaler(copy=True, with_mean=True, with_std=True)"
      ]
     },
     "execution_count": 7,
     "metadata": {},
     "output_type": "execute_result"
    }
   ],
   "source": [
    "# обучаем модель стандартизации, т.е. по каждому признаку \n",
    "# в обучающем массиве признаков вычисляем\n",
    "# среднее значение признака и стандартное \n",
    "# отклонение признака для трансформации\n",
    "standardscaler.fit(X_train)"
   ]
  },
  {
   "cell_type": "code",
   "execution_count": 8,
   "metadata": {},
   "outputs": [
    {
     "name": "stderr",
     "output_type": "stream",
     "text": [
      "/anaconda3/lib/python3.7/site-packages/ipykernel_launcher.py:5: DataConversionWarning: Data with input dtype int64, float64 were all converted to float64 by StandardScaler.\n",
      "  \"\"\"\n",
      "/anaconda3/lib/python3.7/site-packages/ipykernel_launcher.py:11: DataConversionWarning: Data with input dtype int64, float64 were all converted to float64 by StandardScaler.\n",
      "  # This is added back by InteractiveShellApp.init_path()\n"
     ]
    }
   ],
   "source": [
    "# применяем модель стандартизации к обучающему массиву признаков: из исходного \n",
    "# значения признака вычитаем среднее значение признака, вычисленное \n",
    "# по ОБУЧАЮЩЕМУ массиву признаков, и результат делим на стандартное \n",
    "#отклонение признака, вычисленное по ОБУЧАЮЩЕМУ массиву признаков \n",
    "X_train_standardscaled = standardscaler.transform(X_train)\n",
    "\n",
    "# применяем модель стандартизации к тестовому массиву признаков: из исходного \n",
    "# значения признака вычитаем среднее значение признака, вычисленное \n",
    "# по ОБУЧАЮЩЕМУ массиву признаков, и результат делим на стандартное \n",
    "# отклонение признака, вычисленное по ОБУЧАЮЩЕМУ массиву признаков \n",
    "X_test_standardscaled = standardscaler.transform(X_test)"
   ]
  },
  {
   "cell_type": "code",
   "execution_count": 9,
   "metadata": {
    "scrolled": false
   },
   "outputs": [
    {
     "name": "stdout",
     "output_type": "stream",
     "text": [
      "min значение признака после масштабирования:\n",
      " [-0.87255522 -1.23461135 -0.02643121 -1.49705364 -1.73671359 -0.42181925\n",
      " -0.81640104]\n",
      "max значение признака после масштабирования:\n",
      " [10.70896627  2.02740427 38.00986682  1.96699975  1.83506722  5.0673363\n",
      "  2.56195116]\n",
      "mean значение признака после масштабирования:\n",
      " [-2.94881993e-17 -8.47785730e-17 -2.45734994e-18 -9.15362853e-17\n",
      " -7.86351981e-17 -2.45734994e-18 -7.98638731e-18]\n",
      "std значение признака после масштабирования:\n",
      " [1. 1. 1. 1. 1. 1. 1.]\n"
     ]
    }
   ],
   "source": [
    "print('min значение признака после масштабирования:\\n {}'.format(\n",
    "    X_train_standardscaled.min(axis=0)))\n",
    "print('max значение признака после масштабирования:\\n {}'.format(\n",
    "    X_train_standardscaled.max(axis=0)))\n",
    "print('mean значение признака после масштабирования:\\n {}'.format(\n",
    "    X_train_standardscaled.mean(axis=0)))\n",
    "print('std значение признака после масштабирования:\\n {}'.format(\n",
    "    X_train_standardscaled.std(axis=0)))"
   ]
  },
  {
   "cell_type": "code",
   "execution_count": 10,
   "metadata": {},
   "outputs": [
    {
     "name": "stdout",
     "output_type": "stream",
     "text": [
      "скос признака до масштабирования:\n",
      " [ 3.19225751  0.28112472 37.98355721  0.27930269  0.04841951  2.75635549\n",
      "  1.27032665]\n",
      "скос признака после масштабирования:\n",
      " [ 3.19225751  0.28112472 37.98355721  0.27930269  0.04841951  2.75635549\n",
      "  1.27032665]\n",
      "эксцесс признака до масштабирования:\n",
      " [ 1.55711115e+01 -1.11676035e+00  1.44075064e+03 -1.07210527e+00\n",
      " -1.13514369e+00  7.54169688e+00  4.19060117e-01]\n",
      "эксцесс признака после масштабирования:\n",
      " [ 1.55711115e+01 -1.11676035e+00  1.44075064e+03 -1.07210527e+00\n",
      " -1.13514369e+00  7.54169688e+00  4.19060117e-01]\n"
     ]
    }
   ],
   "source": [
    "print('скос признака до масштабирования:\\n {}'.format(\n",
    "    skew(X_train, axis=0)))\n",
    "print('скос признака после масштабирования:\\n {}'.format(\n",
    "    skew(X_train_standardscaled, axis=0)))\n",
    "print('эксцесс признака до масштабирования:\\n {}'.format(\n",
    "    kurtosis(X_train, axis=0)))\n",
    "print('эксцесс признака после масштабирования:\\n {}'.format(\n",
    "    kurtosis(X_train_standardscaled, axis=0)))"
   ]
  },
  {
   "cell_type": "code",
   "execution_count": 11,
   "metadata": {},
   "outputs": [],
   "source": [
    "# импортируем класс MinMaxScaler, выполняющий стандартизацию\n",
    "from sklearn.preprocessing import MinMaxScaler\n",
    "# создаем модель стандартизации – экземпляр класса StandardScaler\n",
    "minmaxscaler = MinMaxScaler()"
   ]
  },
  {
   "cell_type": "code",
   "execution_count": 12,
   "metadata": {},
   "outputs": [
    {
     "name": "stderr",
     "output_type": "stream",
     "text": [
      "/anaconda3/lib/python3.7/site-packages/sklearn/preprocessing/data.py:334: DataConversionWarning: Data with input dtype int64, float64 were all converted to float64 by MinMaxScaler.\n",
      "  return self.partial_fit(X, y)\n"
     ]
    }
   ],
   "source": [
    "# обучаем модель стандартизации, т.е. по каждому признаку \n",
    "# в обучающем массиве признаков вычисляем\n",
    "# минимальное значение и диапазон признака\n",
    "minmaxscaler.fit(X_train)\n",
    "\n",
    "# применяем модель стандартизации к обучающему массиву признаков: из исходного \n",
    "# значения признака вычитаем минимальное значение признака, вычисленное \n",
    "# по ОБУЧАЮЩЕМУ массиву признаков, и результат делим на диапазон \n",
    "# признака, вычисленный по ОБУЧАЮЩЕМУ массиву признаков \n",
    "X_train_minmaxscaled = minmaxscaler.transform(X_train)\n",
    "\n",
    "# применяем модель стандартизации к тестовому массиву признаков: из исходного \n",
    "# значения признака вычитаем минимальное значение признака, вычисленное \n",
    "# по ОБУЧАЮЩЕМУ массиву признаков, и результат делим на диапазон \n",
    "# признака, вычисленный по ОБУЧАЮЩЕМУ массиву признаков \n",
    "X_test_minmaxscaled = minmaxscaler.transform(X_test)"
   ]
  },
  {
   "cell_type": "code",
   "execution_count": 13,
   "metadata": {},
   "outputs": [
    {
     "name": "stdout",
     "output_type": "stream",
     "text": [
      "минимальное значение признака после масштабирования:\n",
      " [0. 0. 0. 0. 0. 0. 0.]\n",
      "максимальное значение признака после масштабирования:\n",
      " [1. 1. 1. 1. 1. 1. 1.]\n",
      "среднее значение признака после масштабирования:\n",
      " [0.07534029 0.37848113 0.00069489 0.43216818 0.48623185 0.07684593\n",
      " 0.24165658]\n",
      "стандартное отклонение признака после масштабирования:\n",
      " [0.08634444 0.30655892 0.02629068 0.28867915 0.27997239 0.18217738\n",
      " 0.29600229]\n"
     ]
    }
   ],
   "source": [
    "print('минимальное значение признака после масштабирования:\\n {}'.format(\n",
    "    X_train_minmaxscaled.min(axis=0)))\n",
    "print('максимальное значение признака после масштабирования:\\n {}'.format(\n",
    "    X_train_minmaxscaled.max(axis=0)))\n",
    "print('среднее значение признака после масштабирования:\\n {}'.format(\n",
    "    X_train_minmaxscaled.mean(axis=0)))\n",
    "print('стандартное отклонение признака после масштабирования:\\n {}'.format(\n",
    "    X_train_minmaxscaled.std(axis=0)))"
   ]
  },
  {
   "cell_type": "code",
   "execution_count": 14,
   "metadata": {},
   "outputs": [],
   "source": [
    "# импортируем класс RobustScaler, выполняющий стандартизацию\n",
    "from sklearn.preprocessing import RobustScaler\n",
    "# создаем модель стандартизации – экземпляр класса RobustScaler\n",
    "robustscaler = RobustScaler()"
   ]
  },
  {
   "cell_type": "code",
   "execution_count": 15,
   "metadata": {},
   "outputs": [],
   "source": [
    "# обучаем модель стандартизации, т.е. по каждому признаку \n",
    "# в обучающем массиве признаков вычисляем\n",
    "# минимальное значение и диапазон признака\n",
    "robustscaler.fit(X_train)\n",
    "\n",
    "# применяем модель стандартизации к обучающему массиву признаков: из исходного \n",
    "# значения признака вычитаем первый квартиль признака, вычисленный \n",
    "# по ОБУЧАЮЩЕМУ массиву признаков, и результат делим на межквартильный\n",
    "# размах признака, вычисленный по ОБУЧАЮЩЕМУ массиву признаков \n",
    "X_train_robustscaled = robustscaler.transform(X_train)\n",
    "\n",
    "# применяем модель стандартизации к тестовому массиву признаков: из исходного \n",
    "# значения признака вычитаем первый квартиль признака, вычисленный\n",
    "# по ОБУЧАЮЩЕМУ массиву признаков, и результат делим на межквартильный \n",
    "# размах признака, вычисленный по ОБУЧАЮЩЕМУ массиву признаков \n",
    "X_test_robustscaled = robustscaler.transform(X_test)"
   ]
  },
  {
   "cell_type": "code",
   "execution_count": 16,
   "metadata": {},
   "outputs": [
    {
     "name": "stdout",
     "output_type": "stream",
     "text": [
      "min значение признака после масштабирования:\n",
      " [-0.77007865 -0.53878018 -0.53658537 -0.82352941 -1.04347826  0.\n",
      " -0.33333333]\n",
      "max значение признака после масштабирования:\n",
      " [1.53303007e+01 1.05108410e+00 2.43900390e+05 1.23529412e+00\n",
      " 1.10869565e+00 5.00000000e+00 2.33333333e+00]\n",
      "mean значение признака после масштабирования:\n",
      " [4.42928651e-01 6.29534426e-02 1.68948811e+02 6.62286011e-02\n",
      " 2.97724214e-03 3.84229639e-01 3.11084212e-01]\n",
      "std значение признака после масштабирования:\n",
      " [1.39017826e+00 4.87387083e-01 6.41232032e+03 5.94339434e-01\n",
      " 6.02549267e-01 9.10886921e-01 7.89339449e-01]\n"
     ]
    }
   ],
   "source": [
    "print('min значение признака после масштабирования:\\n {}'.format(\n",
    "    X_train_robustscaled.min(axis=0)))\n",
    "print('max значение признака после масштабирования:\\n {}'.format(\n",
    "    X_train_robustscaled.max(axis=0)))\n",
    "print('mean значение признака после масштабирования:\\n {}'.format(\n",
    "    X_train_robustscaled.mean(axis=0)))\n",
    "print('std значение признака после масштабирования:\\n {}'.format(\n",
    "    X_train_robustscaled.std(axis=0)))"
   ]
  }
 ],
 "metadata": {
  "kernelspec": {
   "display_name": "Python 3",
   "language": "python",
   "name": "python3"
  },
  "language_info": {
   "codemirror_mode": {
    "name": "ipython",
    "version": 3
   },
   "file_extension": ".py",
   "mimetype": "text/x-python",
   "name": "python",
   "nbconvert_exporter": "python",
   "pygments_lexer": "ipython3",
   "version": "3.7.1"
  }
 },
 "nbformat": 4,
 "nbformat_minor": 2
}
