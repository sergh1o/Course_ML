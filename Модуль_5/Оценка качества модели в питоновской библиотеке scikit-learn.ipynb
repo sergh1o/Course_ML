{
 "cells": [
  {
   "cell_type": "code",
   "execution_count": 1,
   "metadata": {},
   "outputs": [],
   "source": [
    "# импортируем необходимые библиотеки\n",
    "import numpy as np\n",
    "import pandas as pd"
   ]
  },
  {
   "cell_type": "code",
   "execution_count": 2,
   "metadata": {},
   "outputs": [
    {
     "data": {
      "text/html": [
       "<div>\n",
       "<style scoped>\n",
       "    .dataframe tbody tr th:only-of-type {\n",
       "        vertical-align: middle;\n",
       "    }\n",
       "\n",
       "    .dataframe tbody tr th {\n",
       "        vertical-align: top;\n",
       "    }\n",
       "\n",
       "    .dataframe thead th {\n",
       "        text-align: right;\n",
       "    }\n",
       "</style>\n",
       "<table border=\"1\" class=\"dataframe\">\n",
       "  <thead>\n",
       "    <tr style=\"text-align: right;\">\n",
       "      <th></th>\n",
       "      <th>age</th>\n",
       "      <th>gender</th>\n",
       "      <th>default</th>\n",
       "    </tr>\n",
       "  </thead>\n",
       "  <tbody>\n",
       "    <tr>\n",
       "      <th>0</th>\n",
       "      <td>70</td>\n",
       "      <td>Мужской</td>\n",
       "      <td>Да</td>\n",
       "    </tr>\n",
       "    <tr>\n",
       "      <th>1</th>\n",
       "      <td>64</td>\n",
       "      <td>Мужской</td>\n",
       "      <td>Нет</td>\n",
       "    </tr>\n",
       "    <tr>\n",
       "      <th>2</th>\n",
       "      <td>69</td>\n",
       "      <td>Женский</td>\n",
       "      <td>Да</td>\n",
       "    </tr>\n",
       "    <tr>\n",
       "      <th>3</th>\n",
       "      <td>68</td>\n",
       "      <td>Мужской</td>\n",
       "      <td>Нет</td>\n",
       "    </tr>\n",
       "    <tr>\n",
       "      <th>4</th>\n",
       "      <td>65</td>\n",
       "      <td>Женский</td>\n",
       "      <td>Нет</td>\n",
       "    </tr>\n",
       "  </tbody>\n",
       "</table>\n",
       "</div>"
      ],
      "text/plain": [
       "   age   gender default\n",
       "0   70  Мужской      Да\n",
       "1   64  Мужской     Нет\n",
       "2   69  Женский      Да\n",
       "3   68  Мужской     Нет\n",
       "4   65  Женский     Нет"
      ]
     },
     "execution_count": 2,
     "metadata": {},
     "output_type": "execute_result"
    }
   ],
   "source": [
    "# записываем CSV-файл в объект DataFrame\n",
    "data = pd.read_csv('Data/RF_classification.csv', encoding='cp1251', sep=';')\n",
    "# смотрим данные\n",
    "data"
   ]
  },
  {
   "cell_type": "code",
   "execution_count": 3,
   "metadata": {},
   "outputs": [],
   "source": [
    "# создаем массив меток\n",
    "y = data.pop('default')\n",
    "# создаем массив признаков\n",
    "X = pd.get_dummies(data)"
   ]
  },
  {
   "cell_type": "code",
   "execution_count": 4,
   "metadata": {},
   "outputs": [
    {
     "name": "stdout",
     "output_type": "stream",
     "text": [
      "Правильность по методу OOB: 0.40\n"
     ]
    }
   ],
   "source": [
    "# импортируем класс RandomForestClassifier\n",
    "from sklearn.ensemble import RandomForestClassifier\n",
    "# создаем экземпляр класса RandomForestClassifier\n",
    "forest = RandomForestClassifier(n_estimators=10, random_state=152, \n",
    "                                oob_score=True, n_jobs=-1)\n",
    "# подгоняем модель\n",
    "forest.fit(X, y)\n",
    "# вычисляем правильность по методу OOB\n",
    "print('Правильность по методу OOB: {:.2f}'.format(forest.oob_score_))"
   ]
  },
  {
   "cell_type": "code",
   "execution_count": 5,
   "metadata": {},
   "outputs": [
    {
     "data": {
      "text/html": [
       "<div>\n",
       "<style scoped>\n",
       "    .dataframe tbody tr th:only-of-type {\n",
       "        vertical-align: middle;\n",
       "    }\n",
       "\n",
       "    .dataframe tbody tr th {\n",
       "        vertical-align: top;\n",
       "    }\n",
       "\n",
       "    .dataframe thead th {\n",
       "        text-align: right;\n",
       "    }\n",
       "</style>\n",
       "<table border=\"1\" class=\"dataframe\">\n",
       "  <thead>\n",
       "    <tr style=\"text-align: right;\">\n",
       "      <th></th>\n",
       "      <th>age</th>\n",
       "      <th>gender_Женский</th>\n",
       "      <th>gender_Мужской</th>\n",
       "      <th>default</th>\n",
       "      <th>OOB_Predictions</th>\n",
       "    </tr>\n",
       "  </thead>\n",
       "  <tbody>\n",
       "    <tr>\n",
       "      <th>0</th>\n",
       "      <td>70</td>\n",
       "      <td>0</td>\n",
       "      <td>1</td>\n",
       "      <td>Да</td>\n",
       "      <td>1</td>\n",
       "    </tr>\n",
       "    <tr>\n",
       "      <th>1</th>\n",
       "      <td>64</td>\n",
       "      <td>0</td>\n",
       "      <td>1</td>\n",
       "      <td>Нет</td>\n",
       "      <td>1</td>\n",
       "    </tr>\n",
       "    <tr>\n",
       "      <th>2</th>\n",
       "      <td>69</td>\n",
       "      <td>1</td>\n",
       "      <td>0</td>\n",
       "      <td>Да</td>\n",
       "      <td>1</td>\n",
       "    </tr>\n",
       "    <tr>\n",
       "      <th>3</th>\n",
       "      <td>68</td>\n",
       "      <td>0</td>\n",
       "      <td>1</td>\n",
       "      <td>Нет</td>\n",
       "      <td>0</td>\n",
       "    </tr>\n",
       "    <tr>\n",
       "      <th>4</th>\n",
       "      <td>65</td>\n",
       "      <td>1</td>\n",
       "      <td>0</td>\n",
       "      <td>Нет</td>\n",
       "      <td>1</td>\n",
       "    </tr>\n",
       "  </tbody>\n",
       "</table>\n",
       "</div>"
      ],
      "text/plain": [
       "   age  gender_Женский  gender_Мужской default  OOB_Predictions\n",
       "0   70               0               1      Да                1\n",
       "1   64               0               1     Нет                1\n",
       "2   69               1               0      Да                1\n",
       "3   68               0               1     Нет                0\n",
       "4   65               1               0     Нет                1"
      ]
     },
     "execution_count": 5,
     "metadata": {},
     "output_type": "execute_result"
    }
   ],
   "source": [
    "# прогнозируем классы зависимой переменной по методу OOB\n",
    "oob_predictions = np.argmax(forest.oob_decision_function_, axis=1)\n",
    "# преобразуем прогнозы в объект DataFrame\n",
    "oob_predictions = pd.DataFrame(oob_predictions, index=data.index, columns=['OOB_Predictions'])\n",
    "# конкатенируем массив признаков, массив меток и OOB прогнозы\n",
    "oob_results = pd.concat([X, y, oob_predictions], axis=1)\n",
    "oob_results"
   ]
  },
  {
   "cell_type": "code",
   "execution_count": 6,
   "metadata": {},
   "outputs": [
    {
     "name": "stdout",
     "output_type": "stream",
     "text": [
      "Вероятности, спрогнозированные по методу OOB:\n",
      "[[0.2        0.8       ]\n",
      " [0.         1.        ]\n",
      " [0.2        0.8       ]\n",
      " [1.         0.        ]\n",
      " [0.33333333 0.66666667]]\n"
     ]
    }
   ],
   "source": [
    "# прогнозируем вероятности классов по методу OOB\n",
    "print('Вероятности, спрогнозированные по методу OOB:\\n{}'.format(\n",
    "    forest.oob_decision_function_))"
   ]
  },
  {
   "cell_type": "code",
   "execution_count": 7,
   "metadata": {},
   "outputs": [
    {
     "name": "stdout",
     "output_type": "stream",
     "text": [
      "Правильность по обычному методу: 1.000\n"
     ]
    }
   ],
   "source": [
    "# вычисляем правильность по обычному методу\n",
    "print('Правильность по обычному методу: {:.3f}'.format(forest.score(X, y)))"
   ]
  },
  {
   "cell_type": "code",
   "execution_count": 8,
   "metadata": {},
   "outputs": [
    {
     "data": {
      "text/html": [
       "<div>\n",
       "<style scoped>\n",
       "    .dataframe tbody tr th:only-of-type {\n",
       "        vertical-align: middle;\n",
       "    }\n",
       "\n",
       "    .dataframe tbody tr th {\n",
       "        vertical-align: top;\n",
       "    }\n",
       "\n",
       "    .dataframe thead th {\n",
       "        text-align: right;\n",
       "    }\n",
       "</style>\n",
       "<table border=\"1\" class=\"dataframe\">\n",
       "  <thead>\n",
       "    <tr style=\"text-align: right;\">\n",
       "      <th></th>\n",
       "      <th>age</th>\n",
       "      <th>gender_Женский</th>\n",
       "      <th>gender_Мужской</th>\n",
       "      <th>default</th>\n",
       "      <th>Predictions</th>\n",
       "    </tr>\n",
       "  </thead>\n",
       "  <tbody>\n",
       "    <tr>\n",
       "      <th>0</th>\n",
       "      <td>70</td>\n",
       "      <td>0</td>\n",
       "      <td>1</td>\n",
       "      <td>Да</td>\n",
       "      <td>Да</td>\n",
       "    </tr>\n",
       "    <tr>\n",
       "      <th>1</th>\n",
       "      <td>64</td>\n",
       "      <td>0</td>\n",
       "      <td>1</td>\n",
       "      <td>Нет</td>\n",
       "      <td>Нет</td>\n",
       "    </tr>\n",
       "    <tr>\n",
       "      <th>2</th>\n",
       "      <td>69</td>\n",
       "      <td>1</td>\n",
       "      <td>0</td>\n",
       "      <td>Да</td>\n",
       "      <td>Да</td>\n",
       "    </tr>\n",
       "    <tr>\n",
       "      <th>3</th>\n",
       "      <td>68</td>\n",
       "      <td>0</td>\n",
       "      <td>1</td>\n",
       "      <td>Нет</td>\n",
       "      <td>Нет</td>\n",
       "    </tr>\n",
       "    <tr>\n",
       "      <th>4</th>\n",
       "      <td>65</td>\n",
       "      <td>1</td>\n",
       "      <td>0</td>\n",
       "      <td>Нет</td>\n",
       "      <td>Нет</td>\n",
       "    </tr>\n",
       "  </tbody>\n",
       "</table>\n",
       "</div>"
      ],
      "text/plain": [
       "   age  gender_Женский  gender_Мужской default Predictions\n",
       "0   70               0               1      Да          Да\n",
       "1   64               0               1     Нет         Нет\n",
       "2   69               1               0      Да          Да\n",
       "3   68               0               1     Нет         Нет\n",
       "4   65               1               0     Нет         Нет"
      ]
     },
     "execution_count": 8,
     "metadata": {},
     "output_type": "execute_result"
    }
   ],
   "source": [
    "# прогнозируем классы зависимой переменной по обычному методу\n",
    "predictions = forest.predict(X)\n",
    "# преобразуем прогнозы в объект DataFrame\n",
    "predictions = pd.DataFrame(predictions, index=data.index, columns=['Predictions'])\n",
    "# конкатенируем массив признаков, массив меток и прогнозы\n",
    "results = pd.concat([X, y, predictions], axis=1)\n",
    "results"
   ]
  },
  {
   "cell_type": "code",
   "execution_count": 9,
   "metadata": {},
   "outputs": [
    {
     "name": "stdout",
     "output_type": "stream",
     "text": [
      "Вероятности, спрогнозированные по обычному методу:\n",
      "[[0.6 0.4]\n",
      " [0.  1. ]\n",
      " [0.6 0.4]\n",
      " [0.3 0.7]\n",
      " [0.1 0.9]]\n"
     ]
    }
   ],
   "source": [
    "# прогнозируем вероятности классов по обычному методу\n",
    "print('Вероятности, спрогнозированные по обычному методу:\\n{}'.format(\n",
    "    forest.predict_proba(X)))"
   ]
  },
  {
   "cell_type": "code",
   "execution_count": 10,
   "metadata": {},
   "outputs": [
    {
     "name": "stdout",
     "output_type": "stream",
     "text": [
      "[0. 1.]\n",
      "[1. 0.]\n",
      "[0. 1.]\n",
      "[1. 0.]\n",
      "[1. 0.]\n",
      "[1. 0.]\n",
      "[0. 1.]\n",
      "[1. 0.]\n",
      "[1. 0.]\n",
      "[0. 1.]\n"
     ]
    }
   ],
   "source": [
    "# вычисляем листовые вероятности каждого дерева для первого наблюдения \n",
    "for tree_in_forest in forest.estimators_:    \n",
    "    print(tree_in_forest.predict_proba(X)[0])"
   ]
  },
  {
   "cell_type": "code",
   "execution_count": 11,
   "metadata": {},
   "outputs": [
    {
     "data": {
      "text/html": [
       "<div>\n",
       "<style scoped>\n",
       "    .dataframe tbody tr th:only-of-type {\n",
       "        vertical-align: middle;\n",
       "    }\n",
       "\n",
       "    .dataframe tbody tr th {\n",
       "        vertical-align: top;\n",
       "    }\n",
       "\n",
       "    .dataframe thead th {\n",
       "        text-align: right;\n",
       "    }\n",
       "</style>\n",
       "<table border=\"1\" class=\"dataframe\">\n",
       "  <thead>\n",
       "    <tr style=\"text-align: right;\">\n",
       "      <th></th>\n",
       "      <th>age</th>\n",
       "      <th>gender</th>\n",
       "      <th>days_of_delinquency</th>\n",
       "    </tr>\n",
       "  </thead>\n",
       "  <tbody>\n",
       "    <tr>\n",
       "      <th>0</th>\n",
       "      <td>70</td>\n",
       "      <td>Мужской</td>\n",
       "      <td>18</td>\n",
       "    </tr>\n",
       "    <tr>\n",
       "      <th>1</th>\n",
       "      <td>64</td>\n",
       "      <td>Мужской</td>\n",
       "      <td>15</td>\n",
       "    </tr>\n",
       "    <tr>\n",
       "      <th>2</th>\n",
       "      <td>69</td>\n",
       "      <td>Женский</td>\n",
       "      <td>17</td>\n",
       "    </tr>\n",
       "    <tr>\n",
       "      <th>3</th>\n",
       "      <td>68</td>\n",
       "      <td>Мужской</td>\n",
       "      <td>19</td>\n",
       "    </tr>\n",
       "    <tr>\n",
       "      <th>4</th>\n",
       "      <td>65</td>\n",
       "      <td>Женский</td>\n",
       "      <td>15</td>\n",
       "    </tr>\n",
       "    <tr>\n",
       "      <th>5</th>\n",
       "      <td>63</td>\n",
       "      <td>Мужской</td>\n",
       "      <td>16</td>\n",
       "    </tr>\n",
       "    <tr>\n",
       "      <th>6</th>\n",
       "      <td>55</td>\n",
       "      <td>Женский</td>\n",
       "      <td>13</td>\n",
       "    </tr>\n",
       "    <tr>\n",
       "      <th>7</th>\n",
       "      <td>60</td>\n",
       "      <td>Мужской</td>\n",
       "      <td>14</td>\n",
       "    </tr>\n",
       "    <tr>\n",
       "      <th>8</th>\n",
       "      <td>67</td>\n",
       "      <td>Мужской</td>\n",
       "      <td>16</td>\n",
       "    </tr>\n",
       "    <tr>\n",
       "      <th>9</th>\n",
       "      <td>68</td>\n",
       "      <td>Женский</td>\n",
       "      <td>14</td>\n",
       "    </tr>\n",
       "  </tbody>\n",
       "</table>\n",
       "</div>"
      ],
      "text/plain": [
       "   age   gender  days_of_delinquency\n",
       "0   70  Мужской                   18\n",
       "1   64  Мужской                   15\n",
       "2   69  Женский                   17\n",
       "3   68  Мужской                   19\n",
       "4   65  Женский                   15\n",
       "5   63  Мужской                   16\n",
       "6   55  Женский                   13\n",
       "7   60  Мужской                   14\n",
       "8   67  Мужской                   16\n",
       "9   68  Женский                   14"
      ]
     },
     "execution_count": 11,
     "metadata": {},
     "output_type": "execute_result"
    }
   ],
   "source": [
    "# записываем CSV-файл в объект DataFrame\n",
    "data = pd.read_csv('Data/RF_regression.csv', encoding='cp1251', sep=';')\n",
    "# смотрим данные\n",
    "data"
   ]
  },
  {
   "cell_type": "code",
   "execution_count": 12,
   "metadata": {},
   "outputs": [],
   "source": [
    "# создаем массив меток\n",
    "y = data.pop('days_of_delinquency')\n",
    "# создаем массив признаков\n",
    "X = pd.get_dummies(data)"
   ]
  },
  {
   "cell_type": "code",
   "execution_count": 13,
   "metadata": {},
   "outputs": [
    {
     "name": "stdout",
     "output_type": "stream",
     "text": [
      "R-квадрат по методу OOB: -0.36\n"
     ]
    }
   ],
   "source": [
    "# импортируем класс RandomForestRegressor\n",
    "from sklearn.ensemble import RandomForestRegressor\n",
    "# создаем экземпляр класса RandomForestRegressor\n",
    "forest = RandomForestRegressor(n_estimators=10, random_state=152, \n",
    "                               oob_score=True, n_jobs=-1)\n",
    "# подгоняем модель\n",
    "forest.fit(X, y)\n",
    "# вычисляем R-квадрат по методу OOB\n",
    "print('R-квадрат по методу OOB: {:.2f}'.format(forest.oob_score_))"
   ]
  },
  {
   "cell_type": "code",
   "execution_count": 14,
   "metadata": {},
   "outputs": [
    {
     "data": {
      "text/html": [
       "<div>\n",
       "<style scoped>\n",
       "    .dataframe tbody tr th:only-of-type {\n",
       "        vertical-align: middle;\n",
       "    }\n",
       "\n",
       "    .dataframe tbody tr th {\n",
       "        vertical-align: top;\n",
       "    }\n",
       "\n",
       "    .dataframe thead th {\n",
       "        text-align: right;\n",
       "    }\n",
       "</style>\n",
       "<table border=\"1\" class=\"dataframe\">\n",
       "  <thead>\n",
       "    <tr style=\"text-align: right;\">\n",
       "      <th></th>\n",
       "      <th>age</th>\n",
       "      <th>gender_Женский</th>\n",
       "      <th>gender_Мужской</th>\n",
       "      <th>days_of_delinquency</th>\n",
       "      <th>OOB_Predictions</th>\n",
       "    </tr>\n",
       "  </thead>\n",
       "  <tbody>\n",
       "    <tr>\n",
       "      <th>0</th>\n",
       "      <td>70</td>\n",
       "      <td>0</td>\n",
       "      <td>1</td>\n",
       "      <td>18</td>\n",
       "      <td>17.800000</td>\n",
       "    </tr>\n",
       "    <tr>\n",
       "      <th>1</th>\n",
       "      <td>64</td>\n",
       "      <td>0</td>\n",
       "      <td>1</td>\n",
       "      <td>15</td>\n",
       "      <td>16.000000</td>\n",
       "    </tr>\n",
       "    <tr>\n",
       "      <th>2</th>\n",
       "      <td>69</td>\n",
       "      <td>1</td>\n",
       "      <td>0</td>\n",
       "      <td>17</td>\n",
       "      <td>16.000000</td>\n",
       "    </tr>\n",
       "    <tr>\n",
       "      <th>3</th>\n",
       "      <td>68</td>\n",
       "      <td>0</td>\n",
       "      <td>1</td>\n",
       "      <td>19</td>\n",
       "      <td>14.666667</td>\n",
       "    </tr>\n",
       "    <tr>\n",
       "      <th>4</th>\n",
       "      <td>65</td>\n",
       "      <td>1</td>\n",
       "      <td>0</td>\n",
       "      <td>15</td>\n",
       "      <td>14.600000</td>\n",
       "    </tr>\n",
       "    <tr>\n",
       "      <th>5</th>\n",
       "      <td>63</td>\n",
       "      <td>0</td>\n",
       "      <td>1</td>\n",
       "      <td>16</td>\n",
       "      <td>15.000000</td>\n",
       "    </tr>\n",
       "    <tr>\n",
       "      <th>6</th>\n",
       "      <td>55</td>\n",
       "      <td>1</td>\n",
       "      <td>0</td>\n",
       "      <td>13</td>\n",
       "      <td>14.333333</td>\n",
       "    </tr>\n",
       "    <tr>\n",
       "      <th>7</th>\n",
       "      <td>60</td>\n",
       "      <td>0</td>\n",
       "      <td>1</td>\n",
       "      <td>14</td>\n",
       "      <td>15.800000</td>\n",
       "    </tr>\n",
       "    <tr>\n",
       "      <th>8</th>\n",
       "      <td>67</td>\n",
       "      <td>0</td>\n",
       "      <td>1</td>\n",
       "      <td>16</td>\n",
       "      <td>17.750000</td>\n",
       "    </tr>\n",
       "    <tr>\n",
       "      <th>9</th>\n",
       "      <td>68</td>\n",
       "      <td>1</td>\n",
       "      <td>0</td>\n",
       "      <td>14</td>\n",
       "      <td>17.666667</td>\n",
       "    </tr>\n",
       "  </tbody>\n",
       "</table>\n",
       "</div>"
      ],
      "text/plain": [
       "   age  gender_Женский  gender_Мужской  days_of_delinquency  OOB_Predictions\n",
       "0   70               0               1                   18        17.800000\n",
       "1   64               0               1                   15        16.000000\n",
       "2   69               1               0                   17        16.000000\n",
       "3   68               0               1                   19        14.666667\n",
       "4   65               1               0                   15        14.600000\n",
       "5   63               0               1                   16        15.000000\n",
       "6   55               1               0                   13        14.333333\n",
       "7   60               0               1                   14        15.800000\n",
       "8   67               0               1                   16        17.750000\n",
       "9   68               1               0                   14        17.666667"
      ]
     },
     "execution_count": 14,
     "metadata": {},
     "output_type": "execute_result"
    }
   ],
   "source": [
    "# прогнозируем значения зависимой переменной по методу OOB\n",
    "oob_predictions = forest.oob_prediction_\n",
    "# преобразуем прогнозы в объект DataFrame\n",
    "oob_predictions = pd.DataFrame(oob_predictions, index=data.index, columns=['OOB_Predictions'])\n",
    "# конкатенируем массив признаков, массив значений \n",
    "# зависимой переменной и OOB прогнозы\n",
    "oob_results = pd.concat([X, y, oob_predictions], axis=1)\n",
    "oob_results"
   ]
  },
  {
   "cell_type": "code",
   "execution_count": 15,
   "metadata": {},
   "outputs": [
    {
     "name": "stdout",
     "output_type": "stream",
     "text": [
      "R-квадрат по методу OOB, вычисленный вручную: -0.36\n"
     ]
    }
   ],
   "source": [
    "# вычисляем сумму квадратов отклонений фактических значений\n",
    "# зависимой переменной от ее среднего значения\n",
    "TSS = ((oob_results['days_of_delinquency'] - \n",
    "        oob_results['days_of_delinquency'].mean()) ** 2).sum()\n",
    "# вычисляем сумму квадратов отклонений фактических значений \n",
    "# зависимой переменной от спрогнозированных, при этом каждое \n",
    "# спрогнозированное значение – результат усреднения средних\n",
    "# значений, вычисленных деревьями по OOB выборкам \n",
    "RSS = ((oob_results['days_of_delinquency'] - \n",
    "        oob_results['OOB_Predictions']) ** 2).sum()\n",
    "# вычисляем R-квадрат по методу OOB\n",
    "print('R-квадрат по методу OOB, вычисленный вручную: {:.2f}'.format(1 - (RSS / TSS)))"
   ]
  },
  {
   "cell_type": "code",
   "execution_count": 16,
   "metadata": {},
   "outputs": [
    {
     "name": "stdout",
     "output_type": "stream",
     "text": [
      "R-квадрат по обычному методу: 0.85\n"
     ]
    }
   ],
   "source": [
    "# вычисляем R-квадрат по обычному методу\n",
    "print('R-квадрат по обычному методу: {:.2f}'.format(\n",
    "    forest.score(X, y)))"
   ]
  },
  {
   "cell_type": "code",
   "execution_count": 17,
   "metadata": {},
   "outputs": [
    {
     "data": {
      "text/html": [
       "<div>\n",
       "<style scoped>\n",
       "    .dataframe tbody tr th:only-of-type {\n",
       "        vertical-align: middle;\n",
       "    }\n",
       "\n",
       "    .dataframe tbody tr th {\n",
       "        vertical-align: top;\n",
       "    }\n",
       "\n",
       "    .dataframe thead th {\n",
       "        text-align: right;\n",
       "    }\n",
       "</style>\n",
       "<table border=\"1\" class=\"dataframe\">\n",
       "  <thead>\n",
       "    <tr style=\"text-align: right;\">\n",
       "      <th></th>\n",
       "      <th>age</th>\n",
       "      <th>gender_Женский</th>\n",
       "      <th>gender_Мужской</th>\n",
       "      <th>days_of_delinquency</th>\n",
       "      <th>Predictions</th>\n",
       "    </tr>\n",
       "  </thead>\n",
       "  <tbody>\n",
       "    <tr>\n",
       "      <th>0</th>\n",
       "      <td>70</td>\n",
       "      <td>0</td>\n",
       "      <td>1</td>\n",
       "      <td>18</td>\n",
       "      <td>17.9</td>\n",
       "    </tr>\n",
       "    <tr>\n",
       "      <th>1</th>\n",
       "      <td>64</td>\n",
       "      <td>0</td>\n",
       "      <td>1</td>\n",
       "      <td>15</td>\n",
       "      <td>15.3</td>\n",
       "    </tr>\n",
       "    <tr>\n",
       "      <th>2</th>\n",
       "      <td>69</td>\n",
       "      <td>1</td>\n",
       "      <td>0</td>\n",
       "      <td>17</td>\n",
       "      <td>16.5</td>\n",
       "    </tr>\n",
       "    <tr>\n",
       "      <th>3</th>\n",
       "      <td>68</td>\n",
       "      <td>0</td>\n",
       "      <td>1</td>\n",
       "      <td>19</td>\n",
       "      <td>17.7</td>\n",
       "    </tr>\n",
       "    <tr>\n",
       "      <th>4</th>\n",
       "      <td>65</td>\n",
       "      <td>1</td>\n",
       "      <td>0</td>\n",
       "      <td>15</td>\n",
       "      <td>14.8</td>\n",
       "    </tr>\n",
       "    <tr>\n",
       "      <th>5</th>\n",
       "      <td>63</td>\n",
       "      <td>0</td>\n",
       "      <td>1</td>\n",
       "      <td>16</td>\n",
       "      <td>15.9</td>\n",
       "    </tr>\n",
       "    <tr>\n",
       "      <th>6</th>\n",
       "      <td>55</td>\n",
       "      <td>1</td>\n",
       "      <td>0</td>\n",
       "      <td>13</td>\n",
       "      <td>13.4</td>\n",
       "    </tr>\n",
       "    <tr>\n",
       "      <th>7</th>\n",
       "      <td>60</td>\n",
       "      <td>0</td>\n",
       "      <td>1</td>\n",
       "      <td>14</td>\n",
       "      <td>14.9</td>\n",
       "    </tr>\n",
       "    <tr>\n",
       "      <th>8</th>\n",
       "      <td>67</td>\n",
       "      <td>0</td>\n",
       "      <td>1</td>\n",
       "      <td>16</td>\n",
       "      <td>16.7</td>\n",
       "    </tr>\n",
       "    <tr>\n",
       "      <th>9</th>\n",
       "      <td>68</td>\n",
       "      <td>1</td>\n",
       "      <td>0</td>\n",
       "      <td>14</td>\n",
       "      <td>15.1</td>\n",
       "    </tr>\n",
       "  </tbody>\n",
       "</table>\n",
       "</div>"
      ],
      "text/plain": [
       "   age  gender_Женский  gender_Мужской  days_of_delinquency  Predictions\n",
       "0   70               0               1                   18         17.9\n",
       "1   64               0               1                   15         15.3\n",
       "2   69               1               0                   17         16.5\n",
       "3   68               0               1                   19         17.7\n",
       "4   65               1               0                   15         14.8\n",
       "5   63               0               1                   16         15.9\n",
       "6   55               1               0                   13         13.4\n",
       "7   60               0               1                   14         14.9\n",
       "8   67               0               1                   16         16.7\n",
       "9   68               1               0                   14         15.1"
      ]
     },
     "execution_count": 17,
     "metadata": {},
     "output_type": "execute_result"
    }
   ],
   "source": [
    "# прогнозируем значения зависимой переменной по обычному методу\n",
    "predictions = forest.predict(X)\n",
    "# преобразуем прогнозы в объект DataFrame\n",
    "predictions = pd.DataFrame(predictions, index=data.index, columns=['Predictions'])\n",
    "# конкатенируем массив признаков, массив значений\n",
    "# зависимой переменной и прогнозы\n",
    "results = pd.concat([X, y, predictions], axis=1)\n",
    "results"
   ]
  },
  {
   "cell_type": "code",
   "execution_count": 18,
   "metadata": {},
   "outputs": [
    {
     "name": "stdout",
     "output_type": "stream",
     "text": [
      "R-квадрат по обычному методу, вычисленный вручную: 0.85\n"
     ]
    }
   ],
   "source": [
    "# вычисляем сумму квадратов отклонений фактических значений\n",
    "# зависимой переменной от ее среднего значения\n",
    "TSS = ((results['days_of_delinquency'] -\n",
    "        results['days_of_delinquency'].mean()) ** 2).sum()\n",
    "# вычисляем сумму квадратов отклонений фактических значений \n",
    "# зависимой переменной от спрогнозированных, при этом каждое \n",
    "# спрогнозированное значение – результат усреднения средних\n",
    "# значений, вычисленных деревьями по всем бутстреп-выборкам \n",
    "RSS = ((results['days_of_delinquency'] - \n",
    "        results['Predictions']) ** 2).sum()\n",
    "# вычисляем R-квадрат по обычному методу\n",
    "print('R-квадрат по обычному методу, вычисленный вручную: {:.2f}'.format(1 - (RSS / TSS)))"
   ]
  },
  {
   "cell_type": "code",
   "execution_count": null,
   "metadata": {},
   "outputs": [],
   "source": []
  }
 ],
 "metadata": {
  "kernelspec": {
   "display_name": "Python 3",
   "language": "python",
   "name": "python3"
  },
  "language_info": {
   "codemirror_mode": {
    "name": "ipython",
    "version": 3
   },
   "file_extension": ".py",
   "mimetype": "text/x-python",
   "name": "python",
   "nbconvert_exporter": "python",
   "pygments_lexer": "ipython3",
   "version": "3.7.1"
  }
 },
 "nbformat": 4,
 "nbformat_minor": 2
}
