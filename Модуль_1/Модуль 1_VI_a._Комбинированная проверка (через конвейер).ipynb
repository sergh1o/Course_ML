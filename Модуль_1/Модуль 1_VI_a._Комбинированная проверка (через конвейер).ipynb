{
 "cells": [
  {
   "cell_type": "code",
   "execution_count": 1,
   "metadata": {},
   "outputs": [],
   "source": [
    "# импортируем библиотеки numpy и pandas\n",
    "import numpy as np\n",
    "import pandas as pd\n",
    "# импортируем функцию train_test_split(), с помощью\n",
    "# которой разбиваем данные на обучающие и тестовые\n",
    "from sklearn.model_selection import train_test_split\n",
    "# импортируем класс TransformerMixin, позволяющий\n",
    "# написать собственные классы\n",
    "from sklearn.base import TransformerMixin\n",
    "# импортируем класс ColumnTransformer, позволяющий выполнять\n",
    "# преобразования для отдельных типов столбцов\n",
    "from sklearn.compose import ColumnTransformer\n",
    "# импортируем класс Pipeline, позволяющий создавать конвейеры\n",
    "from sklearn.pipeline import Pipeline\n",
    "# импортируем класс GridSearchCV, позволяющий \n",
    "# выполнить решетчатый поиск\n",
    "from sklearn.model_selection import GridSearchCV\n",
    "# импортируем класс SimpleImputer, позволяющий\n",
    "# выполнить импутацию пропусков\n",
    "from sklearn.impute import SimpleImputer\n",
    "# импортируем класс PowerTransformer, позволяющий выполнить \n",
    "# преобразование Бокса-Кокса/Йео-Джонсона и стандартизацию\n",
    "from sklearn.preprocessing import PowerTransformer\n",
    "# импортируем класс OneHotEncoder, позволяющий\n",
    "# выполнить дамми-кодирование\n",
    "from sklearn.preprocessing import OneHotEncoder\n",
    "# импортируем класс KFold и функцию cross_val_score\n",
    "# для выполнения перекрестной проверки\n",
    "from sklearn.model_selection import KFold, cross_val_score\n",
    "# импортируем класс LogisticRegression для построения\n",
    "# логистической регрессии\n",
    "from sklearn.linear_model import LogisticRegression"
   ]
  },
  {
   "cell_type": "code",
   "execution_count": 2,
   "metadata": {},
   "outputs": [],
   "source": [
    "# записываем CSV-файл в объект DataFrame\n",
    "data = pd.read_csv('Data/Verizon_miss_dubl.csv', sep=';')"
   ]
  },
  {
   "cell_type": "code",
   "execution_count": 3,
   "metadata": {},
   "outputs": [
    {
     "data": {
      "text/html": [
       "<div>\n",
       "<style scoped>\n",
       "    .dataframe tbody tr th:only-of-type {\n",
       "        vertical-align: middle;\n",
       "    }\n",
       "\n",
       "    .dataframe tbody tr th {\n",
       "        vertical-align: top;\n",
       "    }\n",
       "\n",
       "    .dataframe thead th {\n",
       "        text-align: right;\n",
       "    }\n",
       "</style>\n",
       "<table border=\"1\" class=\"dataframe\">\n",
       "  <thead>\n",
       "    <tr style=\"text-align: right;\">\n",
       "      <th></th>\n",
       "      <th>longdist</th>\n",
       "      <th>internat</th>\n",
       "      <th>local</th>\n",
       "      <th>int_disc</th>\n",
       "      <th>billtype</th>\n",
       "      <th>pay</th>\n",
       "      <th>age</th>\n",
       "      <th>gender</th>\n",
       "      <th>marital</th>\n",
       "      <th>children</th>\n",
       "      <th>income</th>\n",
       "      <th>churn</th>\n",
       "    </tr>\n",
       "  </thead>\n",
       "  <tbody>\n",
       "    <tr>\n",
       "      <th>0</th>\n",
       "      <td>27,09</td>\n",
       "      <td>0</td>\n",
       "      <td>39,74</td>\n",
       "      <td>Нет</td>\n",
       "      <td>Бюджетный</td>\n",
       "      <td>CC</td>\n",
       "      <td>35.0</td>\n",
       "      <td>Женский</td>\n",
       "      <td>Женат</td>\n",
       "      <td>0.0</td>\n",
       "      <td>77680</td>\n",
       "      <td>0</td>\n",
       "    </tr>\n",
       "    <tr>\n",
       "      <th>1</th>\n",
       "      <td>NaN</td>\n",
       "      <td>0</td>\n",
       "      <td>46,31</td>\n",
       "      <td>Нет</td>\n",
       "      <td>NaN</td>\n",
       "      <td>NaN</td>\n",
       "      <td>53.0</td>\n",
       "      <td>Мужской</td>\n",
       "      <td>Одинокий</td>\n",
       "      <td>1.0</td>\n",
       "      <td>37111,5</td>\n",
       "      <td>0</td>\n",
       "    </tr>\n",
       "    <tr>\n",
       "      <th>2</th>\n",
       "      <td>23,76</td>\n",
       "      <td>0</td>\n",
       "      <td>NaN</td>\n",
       "      <td>NaN</td>\n",
       "      <td>Бюджетный</td>\n",
       "      <td>Auto</td>\n",
       "      <td>NaN</td>\n",
       "      <td>Женский</td>\n",
       "      <td>NaN</td>\n",
       "      <td>1.0</td>\n",
       "      <td>37079,4</td>\n",
       "      <td>0</td>\n",
       "    </tr>\n",
       "    <tr>\n",
       "      <th>3</th>\n",
       "      <td>9,4</td>\n",
       "      <td>NaN</td>\n",
       "      <td>13,9</td>\n",
       "      <td>Нет</td>\n",
       "      <td>NaN</td>\n",
       "      <td>CH</td>\n",
       "      <td>NaN</td>\n",
       "      <td>Мужской</td>\n",
       "      <td>Одинокий</td>\n",
       "      <td>NaN</td>\n",
       "      <td>81997</td>\n",
       "      <td>0</td>\n",
       "    </tr>\n",
       "    <tr>\n",
       "      <th>4</th>\n",
       "      <td>14,15</td>\n",
       "      <td>0</td>\n",
       "      <td>108,43</td>\n",
       "      <td>Да</td>\n",
       "      <td>Бесплатный</td>\n",
       "      <td>Auto</td>\n",
       "      <td>39.0</td>\n",
       "      <td>Женский</td>\n",
       "      <td>Одинокий</td>\n",
       "      <td>0.0</td>\n",
       "      <td>16829,6</td>\n",
       "      <td>0</td>\n",
       "    </tr>\n",
       "  </tbody>\n",
       "</table>\n",
       "</div>"
      ],
      "text/plain": [
       "  longdist internat   local int_disc    billtype   pay   age   gender  \\\n",
       "0    27,09        0   39,74      Нет   Бюджетный    CC  35.0  Женский   \n",
       "1      NaN        0   46,31      Нет         NaN   NaN  53.0  Мужской   \n",
       "2    23,76        0     NaN      NaN   Бюджетный  Auto   NaN  Женский   \n",
       "3      9,4      NaN    13,9      Нет         NaN    CH   NaN  Мужской   \n",
       "4    14,15        0  108,43       Да  Бесплатный  Auto  39.0  Женский   \n",
       "\n",
       "    marital  children   income  churn  \n",
       "0     Женат       0.0    77680      0  \n",
       "1  Одинокий       1.0  37111,5      0  \n",
       "2       NaN       1.0  37079,4      0  \n",
       "3  Одинокий       NaN    81997      0  \n",
       "4  Одинокий       0.0  16829,6      0  "
      ]
     },
     "execution_count": 3,
     "metadata": {},
     "output_type": "execute_result"
    }
   ],
   "source": [
    "# смотрим первые 5 наблюдений\n",
    "data.head()"
   ]
  },
  {
   "cell_type": "code",
   "execution_count": 4,
   "metadata": {},
   "outputs": [
    {
     "name": "stdout",
     "output_type": "stream",
     "text": [
      "<class 'pandas.core.frame.DataFrame'>\n",
      "RangeIndex: 4431 entries, 0 to 4430\n",
      "Data columns (total 12 columns):\n",
      "longdist    4430 non-null object\n",
      "internat    4427 non-null object\n",
      "local       4428 non-null object\n",
      "int_disc    4430 non-null object\n",
      "billtype    4427 non-null object\n",
      "pay         4429 non-null object\n",
      "age         4428 non-null float64\n",
      "gender      4430 non-null object\n",
      "marital     4427 non-null object\n",
      "children    4430 non-null float64\n",
      "income      4430 non-null object\n",
      "churn       4431 non-null int64\n",
      "dtypes: float64(2), int64(1), object(9)\n",
      "memory usage: 415.5+ KB\n"
     ]
    }
   ],
   "source": [
    "# смотрим типы переменных\n",
    "data.info()"
   ]
  },
  {
   "cell_type": "code",
   "execution_count": 5,
   "metadata": {
    "scrolled": false
   },
   "outputs": [],
   "source": [
    "# заменяем запятые на точки и преобразуем в тип float\n",
    "for i in ['longdist', 'internat', 'local', 'income']:\n",
    "    data[i] = data[i].str.replace(',', '.').astype('float')"
   ]
  },
  {
   "cell_type": "code",
   "execution_count": 6,
   "metadata": {},
   "outputs": [
    {
     "name": "stdout",
     "output_type": "stream",
     "text": [
      "int_disc ['Нет' nan 'Да']\n",
      "billtype ['Бюджетный' nan 'Бесплатный']\n",
      "pay ['CC' nan 'Auto' 'CH' 'CD']\n",
      "gender ['Женский' 'Мужской' nan 'Женский&*' 'Мужской&*']\n",
      "marital ['Женат' 'Одинокий' nan '_Одинокий' '_Женат' 'Же&нат']\n"
     ]
    }
   ],
   "source": [
    "# создаем список категориальных переменных\n",
    "cat_cols = data.select_dtypes(include=['object']).columns.tolist()\n",
    "# смотрим уникальные значения этих переменных\n",
    "for i in cat_cols:\n",
    "    print(i, data[i].unique())"
   ]
  },
  {
   "cell_type": "code",
   "execution_count": 7,
   "metadata": {},
   "outputs": [
    {
     "name": "stdout",
     "output_type": "stream",
     "text": [
      "gender ['Женский' 'Мужской' nan]\n",
      "marital ['Женат' 'Одинокий' nan]\n"
     ]
    }
   ],
   "source": [
    "# удаляем лишние символы в категориях переменных\n",
    "# gender и marital\n",
    "for i in ['gender', 'marital']:\n",
    "    data[i] = data[i].str.replace('[*&_]', '')\n",
    "    \n",
    "# проверяем\n",
    "for i in ['gender', 'marital']:\n",
    "    print(i, data[i].unique())"
   ]
  },
  {
   "cell_type": "code",
   "execution_count": 8,
   "metadata": {
    "scrolled": true
   },
   "outputs": [
    {
     "name": "stdout",
     "output_type": "stream",
     "text": [
      "int_disc\n",
      "\n",
      "Нет    3054\n",
      "Да     1376\n",
      "NaN       1\n",
      "Name: int_disc, dtype: int64\n",
      "billtype\n",
      "\n",
      "Бюджетный     2244\n",
      "Бесплатный    2183\n",
      "NaN              4\n",
      "Name: billtype, dtype: int64\n",
      "pay\n",
      "\n",
      "CC      2561\n",
      "CH       977\n",
      "Auto     889\n",
      "CD         2\n",
      "NaN        2\n",
      "Name: pay, dtype: int64\n",
      "gender\n",
      "\n",
      "Женский    2244\n",
      "Мужской    2186\n",
      "NaN           1\n",
      "Name: gender, dtype: int64\n",
      "marital\n",
      "\n",
      "Женат       2625\n",
      "Одинокий    1802\n",
      "NaN            4\n",
      "Name: marital, dtype: int64\n"
     ]
    }
   ],
   "source": [
    "# смотрим частоты по категориальным переменным, \n",
    "# чтобы выявить редкие категории\n",
    "for i in cat_cols:\n",
    "    print(i)\n",
    "    print('')\n",
    "    print(data[i].value_counts(dropna=False))"
   ]
  },
  {
   "cell_type": "code",
   "execution_count": 9,
   "metadata": {},
   "outputs": [],
   "source": [
    "# удаляем дубли на месте, оставляя первое\n",
    "# встретившееся наблюдение в паттерне дубля\n",
    "data.drop_duplicates(subset=None, keep='first', \n",
    "                     inplace=True)"
   ]
  },
  {
   "cell_type": "code",
   "execution_count": 10,
   "metadata": {},
   "outputs": [],
   "source": [
    "# заменяем редкую категорию модой\n",
    "data.at[data['pay'] == 'CD', 'pay'] = 'CC'"
   ]
  },
  {
   "cell_type": "code",
   "execution_count": 11,
   "metadata": {},
   "outputs": [],
   "source": [
    "# создаем переменную - результат конъюнкции\n",
    "data['gender_marital'] = data.apply(\n",
    "    lambda x: f\"{x['gender']} + {x['marital']}\", \n",
    "    axis=1)"
   ]
  },
  {
   "cell_type": "code",
   "execution_count": 12,
   "metadata": {},
   "outputs": [],
   "source": [
    "# поделим возраст на длительность междугородних звонков в минутах\n",
    "data['ratio'] = data['age'] / data['longdist']\n",
    "# заменяем бесконечные значения на 1\n",
    "data['ratio'].replace([np.inf, -np.inf], 1, inplace=True)"
   ]
  },
  {
   "cell_type": "code",
   "execution_count": 13,
   "metadata": {},
   "outputs": [],
   "source": [
    "# поделим длительность междугородних звонков в минутах на\n",
    "# длительность международных звонков в минутах\n",
    "data['ratio2'] = data['longdist'] / data['internat']\n",
    "# заменяем бесконечные значения на 0\n",
    "data['ratio2'].replace([np.inf, -np.inf], 0, inplace=True)"
   ]
  },
  {
   "cell_type": "code",
   "execution_count": 14,
   "metadata": {},
   "outputs": [],
   "source": [
    "# поделим доход на возраст\n",
    "data['ratio3'] = data['income'] / data['age']\n",
    "# заменяем бесконечные значения на 0\n",
    "data['ratio3'].replace([np.inf, -np.inf], 0, inplace=True)"
   ]
  },
  {
   "cell_type": "code",
   "execution_count": 15,
   "metadata": {},
   "outputs": [],
   "source": [
    "# поделим возраст на количество детей\n",
    "data['ratio4'] = data['age'] / data['children']\n",
    "# заменяем бесконечные значения на 0\n",
    "data['ratio4'].replace([np.inf, -np.inf], 0, inplace=True)"
   ]
  },
  {
   "cell_type": "code",
   "execution_count": 16,
   "metadata": {},
   "outputs": [],
   "source": [
    "# разбиваем данные на обучающую и тестовую выборки\n",
    "X_train, X_test, y_train, y_test = train_test_split(data.drop('churn', axis=1), \n",
    "                                                    data['churn'],\n",
    "                                                    test_size=0.3,\n",
    "                                                    stratify=data['churn'],\n",
    "                                                    random_state=42)"
   ]
  },
  {
   "cell_type": "code",
   "execution_count": 17,
   "metadata": {},
   "outputs": [],
   "source": [
    "# создаем список категориальных переменных, список количественных \n",
    "# переменных, не предназначенных для биннинга, список \n",
    "# количественных переменных, предназначенных для биннинга\n",
    "cat_columns = X_train.dtypes[X_train.dtypes == 'object'].index\n",
    "num_columns = X_train.dtypes[X_train.dtypes != 'object'].index\n",
    "num_columns_for_bin = ['age']"
   ]
  },
  {
   "cell_type": "code",
   "execution_count": 18,
   "metadata": {},
   "outputs": [],
   "source": [
    "# создаем собственный класс,\n",
    "# выполняющий биннинг\n",
    "class CustomBinning(TransformerMixin):\n",
    "    def fit(self, X, y=None):\n",
    "        return self\n",
    "    \n",
    "    def transform(self, X):\n",
    "        bins = np.array([-np.inf,  30, 50, np.inf])\n",
    "        X_bin = np.digitize(X, bins)\n",
    "        return X_bin"
   ]
  },
  {
   "cell_type": "code",
   "execution_count": 19,
   "metadata": {},
   "outputs": [],
   "source": [
    "# создаем собственный класс,\n",
    "# заменяющий 0 на 0.5\n",
    "class Replacer(TransformerMixin):\n",
    "    def fit(self, X, y=None):\n",
    "        return self\n",
    "    \n",
    "    def transform(self, X):\n",
    "        X_replaced = np.where(X == 0, 0.5, X) \n",
    "        return X_replaced"
   ]
  },
  {
   "cell_type": "code",
   "execution_count": 20,
   "metadata": {},
   "outputs": [],
   "source": [
    "# создаем конвейер для категориальных переменных\n",
    "cat_pipe = Pipeline([\n",
    "    ('imputer', SimpleImputer(strategy='most_frequent')),\n",
    "    ('ohe', OneHotEncoder(sparse=False, handle_unknown='ignore'))\n",
    "])"
   ]
  },
  {
   "cell_type": "code",
   "execution_count": 21,
   "metadata": {},
   "outputs": [],
   "source": [
    "# создаем конвейер для количественных переменных, \n",
    "# не предназначенных для биннинга\n",
    "num_pipe = Pipeline([\n",
    "    ('imputer', SimpleImputer()),\n",
    "    ('replacer', Replacer()),\n",
    "    ('boxcox', PowerTransformer(method='box-cox', standardize=True))\n",
    "])"
   ]
  },
  {
   "cell_type": "code",
   "execution_count": 22,
   "metadata": {},
   "outputs": [],
   "source": [
    "# создаем конвейер для количественных переменных, \n",
    "# предназначенных для биннинга\n",
    "num_bin_pipe = Pipeline([\n",
    "    ('imputer', SimpleImputer()),\n",
    "    ('bin', CustomBinning()),\n",
    "    ('ohe', OneHotEncoder(sparse=False, handle_unknown='ignore'))\n",
    "])"
   ]
  },
  {
   "cell_type": "code",
   "execution_count": 23,
   "metadata": {},
   "outputs": [],
   "source": [
    "# создаем список трехэлементных кортежей, в котором\n",
    "# первый элемент кортежа - название конвейера с\n",
    "# преобразованиями для определенного типа признаков\n",
    "transformers = [('num', num_pipe, num_columns),\n",
    "                ('num_bin', num_bin_pipe, num_columns_for_bin),\n",
    "                ('cat', cat_pipe, cat_columns)]\n",
    "\n",
    "# передаем список в ColumnTransformer\n",
    "ct = ColumnTransformer(transformers=transformers)\n",
    "\n",
    "# задаем итоговый конвейер\n",
    "ml_pipe = Pipeline([('transform', ct), \n",
    "                    ('logreg', LogisticRegression(solver='liblinear'))])"
   ]
  },
  {
   "cell_type": "code",
   "execution_count": 24,
   "metadata": {},
   "outputs": [
    {
     "name": "stdout",
     "output_type": "stream",
     "text": [
      "Наилучшие значения гиперпараметров: {'logreg__C': 0.5, 'transform__cat__imputer__strategy': 'most_frequent', 'transform__num__imputer__strategy': 'median'}\n",
      "Наилучшее значение правильности: 0.812\n",
      "Значение правильности на тестовой выборке: 0.805\n"
     ]
    }
   ],
   "source": [
    "# задаем сетку гиперпараметров\n",
    "param_grid = {\n",
    "    'transform__num__imputer__strategy': ['mean', 'median', 'constant'],    \n",
    "    'transform__cat__imputer__strategy': ['most_frequent', 'constant'],\n",
    "    'logreg__C': [.01, .1, .5, 1, 5, 10, 100]\n",
    "}\n",
    "# создаем экземпляр класса GridSearchCV, передав конвейер,\n",
    "# сетку гиперпараметров и указав количество\n",
    "# блоков перекрестной проверки, отключив запись метрик \n",
    "# для обучающих блоков перекрестной проверки в атрибут cv_results_\n",
    "gs = GridSearchCV(ml_pipe, \n",
    "                  param_grid,\n",
    "                  cv=5, \n",
    "                  return_train_score=False)\n",
    "# выполняем решетчатый поиск\n",
    "gs.fit(X_train, y_train)\n",
    "# смотрим наилучшие значения гиперпараметров\n",
    "print('Наилучшие значения гиперпараметров: {}'.format(\n",
    "    gs.best_params_))\n",
    "# смотрим наилучшее значение правильности\n",
    "print('Наилучшее значение правильности: {:.3f}'.format(\n",
    "    gs.best_score_))\n",
    "# смотрим правильность на тестовой выборке\n",
    "print('Значение правильности на тестовой выборке: {:.3f}'.format(\n",
    "    gs.score(X_test, y_test)))"
   ]
  },
  {
   "cell_type": "code",
   "execution_count": 25,
   "metadata": {},
   "outputs": [],
   "source": [
    "# записываем CSV-файл в объект DataFrame \n",
    "fulldata = pd.read_csv('Data/Verizon_miss_dubl.csv', sep=';')"
   ]
  },
  {
   "cell_type": "code",
   "execution_count": 26,
   "metadata": {},
   "outputs": [],
   "source": [
    "# пишем функцию, выполняющую предварительную обработку исторических данных\n",
    "def preprocessing(df):\n",
    "    # заменяем запятые на точки и преобразуем в тип float\n",
    "    for i in ['longdist', 'internat', 'local', 'income']:\n",
    "        df[i] = df[i].str.replace(',', '.').astype('float')\n",
    "    # удаляем возможные лишние символы (все символы, не являющиеся \n",
    "    # буквами, символы нижнего подчеркивания и цифры) в категориях \n",
    "    # переменных gender и marital\n",
    "    for i in ['gender', 'marital']:\n",
    "        df[i] = df[i].str.replace('[\\d+\\W_]', '')\n",
    "    # удаляем дубли на месте, оставляя первое\n",
    "    # встретившееся наблюдение в паттерне дубля\n",
    "    df.drop_duplicates(subset=None, keep='first', inplace=True)\n",
    "    # все новые категории переменной pay заменяем модой\n",
    "    lst = ['CC', 'Auto', 'CH', np.NaN]\n",
    "    replace_new_values = lambda x: 'CC' if x not in lst else x\n",
    "    df['pay'] = df['pay'].map(replace_new_values)\n",
    "    # создаем переменную - результат конъюнкции\n",
    "    df['gender_marital'] = df.apply(\n",
    "        lambda x: f\"{x['gender']} + {x['marital']}\", \n",
    "        axis=1)                    \n",
    "    # поделим возраст на длительность междугородних звонков в минутах\n",
    "    df['ratio'] = df['age'] / df['longdist']\n",
    "    # заменяем бесконечные значения на 1\n",
    "    df['ratio'].replace([np.inf, -np.inf], 1, inplace=True)\n",
    "    # поделим длительность междугородних звонков в минутах на\n",
    "    # длительность международных звонков в минутах\n",
    "    df['ratio2'] = df['longdist'] / df['internat']\n",
    "    # заменяем бесконечные значения на 0\n",
    "    df['ratio2'].replace([np.inf, -np.inf], 0, inplace=True)\n",
    "    # поделим доход на возраст\n",
    "    df['ratio3'] = df['income'] / df['age']\n",
    "    # заменяем бесконечные значения на 0\n",
    "    df['ratio3'].replace([np.inf, -np.inf], 0, inplace=True)\n",
    "    # поделим возраст на количество детей\n",
    "    df['ratio4'] = df['age'] / df['children']\n",
    "    # заменяем бесконечные значения на 0\n",
    "    df['ratio4'].replace([np.inf, -np.inf], 0, inplace=True)"
   ]
  },
  {
   "cell_type": "code",
   "execution_count": 27,
   "metadata": {},
   "outputs": [],
   "source": [
    "# применяем функцию предварительной обработки \n",
    "# ко всем историческим данным\n",
    "preprocessing(fulldata)"
   ]
  },
  {
   "cell_type": "code",
   "execution_count": 28,
   "metadata": {},
   "outputs": [],
   "source": [
    "# создаем массив меток и массив признаков\n",
    "y_fulldata = fulldata.pop('churn').values"
   ]
  },
  {
   "cell_type": "code",
   "execution_count": 29,
   "metadata": {},
   "outputs": [],
   "source": [
    "# модифицируем конвейеры с учетом найденных \n",
    "# оптимальных значений гиперпараметров\n",
    "cat_pipe_upd = Pipeline([\n",
    "    ('imputer', SimpleImputer(strategy='most_frequent')),\n",
    "    ('ohe', OneHotEncoder(sparse=False, handle_unknown='ignore'))\n",
    "])\n",
    "\n",
    "num_pipe_upd = Pipeline([\n",
    "    ('imputer', SimpleImputer(strategy='median')),\n",
    "    ('replacer', Replacer()),\n",
    "    ('boxcox', PowerTransformer(method='box-cox', standardize=True))\n",
    "])"
   ]
  },
  {
   "cell_type": "code",
   "execution_count": 30,
   "metadata": {},
   "outputs": [],
   "source": [
    "# создаем список трансформеров\n",
    "transformers_full = [('num', num_pipe_upd, num_columns),\n",
    "                     ('num_bin', num_bin_pipe, num_columns_for_bin),\n",
    "                     ('cat', cat_pipe_upd, cat_columns)]\n",
    "\n",
    "# передаем список в ColumnTransformer\n",
    "ct_full = ColumnTransformer(transformers=transformers_full)\n",
    "\n",
    "# обучаем трансформеры с оптимальными значениями гиперпараметров\n",
    "# на всех исторических данных и выполняем преобразования\n",
    "fulldata = ct_full.fit_transform(fulldata)"
   ]
  },
  {
   "cell_type": "code",
   "execution_count": 31,
   "metadata": {},
   "outputs": [
    {
     "data": {
      "text/plain": [
       "(1487, 31)"
      ]
     },
     "execution_count": 31,
     "metadata": {},
     "output_type": "execute_result"
    }
   ],
   "source": [
    "# проверяем размерность\n",
    "fulldata.shape"
   ]
  },
  {
   "cell_type": "code",
   "execution_count": 32,
   "metadata": {},
   "outputs": [
    {
     "name": "stdout",
     "output_type": "stream",
     "text": [
      "Правильность на всей исторической выборке: 0.807\n"
     ]
    }
   ],
   "source": [
    "# обучаем модель логистической регрессии с оптимальными значениями\n",
    "# гиперпараметров (C=0.5) на всех исторических данных\n",
    "logreg_full = LogisticRegression(solver='liblinear', C=0.5, max_iter=200).fit(fulldata, y_fulldata)\n",
    "# печатаем значение правильности\n",
    "print('Правильность на всей исторической выборке: {:.3f}'.format(\n",
    "    logreg_full.score(fulldata, y_fulldata)))"
   ]
  },
  {
   "cell_type": "code",
   "execution_count": 33,
   "metadata": {},
   "outputs": [],
   "source": [
    "# записываем CSV-файл, содержащий новые данные,\n",
    "# в объект DataFrame\n",
    "newdata = pd.read_csv('Data/Verizon_new.csv', \n",
    "                      encoding='utf-8', sep=';')"
   ]
  },
  {
   "cell_type": "code",
   "execution_count": 34,
   "metadata": {},
   "outputs": [],
   "source": [
    "# применяем функцию предварительной обработки \n",
    "# к новым данным\n",
    "preprocessing(newdata)"
   ]
  },
  {
   "cell_type": "code",
   "execution_count": 35,
   "metadata": {},
   "outputs": [],
   "source": [
    "# применяем трансформеры с оптимальными значениями гиперпараметров, \n",
    "# обученные на всех исторических данных, к новым данным\n",
    "newdata = ct_full.transform(newdata)"
   ]
  },
  {
   "cell_type": "code",
   "execution_count": 36,
   "metadata": {},
   "outputs": [
    {
     "data": {
      "text/plain": [
       "(100, 31)"
      ]
     },
     "execution_count": 36,
     "metadata": {},
     "output_type": "execute_result"
    }
   ],
   "source": [
    "# проверяем размерность\n",
    "newdata.shape"
   ]
  },
  {
   "cell_type": "code",
   "execution_count": 37,
   "metadata": {},
   "outputs": [
    {
     "data": {
      "text/plain": [
       "array([[0.01697295, 0.98302705],\n",
       "       [0.08082034, 0.91917966],\n",
       "       [0.9626282 , 0.0373718 ],\n",
       "       [0.96233072, 0.03766928],\n",
       "       [0.09299023, 0.90700977]])"
      ]
     },
     "execution_count": 37,
     "metadata": {},
     "output_type": "execute_result"
    }
   ],
   "source": [
    "# вычисляем при помощи логистической регрессии с оптимальными значениями \n",
    "# гиперпараметров, обученной на всех исторических данных,\n",
    "# вероятности классов для новых данных\n",
    "prob = logreg_full.predict_proba(newdata)\n",
    "# выведем вероятности для первых 5 наблюдений\n",
    "prob[:5]"
   ]
  },
  {
   "cell_type": "code",
   "execution_count": null,
   "metadata": {},
   "outputs": [],
   "source": []
  }
 ],
 "metadata": {
  "kernelspec": {
   "display_name": "Python 3",
   "language": "python",
   "name": "python3"
  },
  "language_info": {
   "codemirror_mode": {
    "name": "ipython",
    "version": 3
   },
   "file_extension": ".py",
   "mimetype": "text/x-python",
   "name": "python",
   "nbconvert_exporter": "python",
   "pygments_lexer": "ipython3",
   "version": "3.7.1"
  }
 },
 "nbformat": 4,
 "nbformat_minor": 2
}
