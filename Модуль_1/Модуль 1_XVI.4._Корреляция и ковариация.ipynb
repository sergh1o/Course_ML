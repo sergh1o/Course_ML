{
 "cells": [
  {
   "cell_type": "code",
   "execution_count": 1,
   "metadata": {},
   "outputs": [],
   "source": [
    "# импортируем необходимые библиотеки\n",
    "import pandas as pd\n",
    "import numpy as np\n",
    "from scipy import stats"
   ]
  },
  {
   "cell_type": "code",
   "execution_count": 2,
   "metadata": {},
   "outputs": [
    {
     "data": {
      "text/html": [
       "<div>\n",
       "<style scoped>\n",
       "    .dataframe tbody tr th:only-of-type {\n",
       "        vertical-align: middle;\n",
       "    }\n",
       "\n",
       "    .dataframe tbody tr th {\n",
       "        vertical-align: top;\n",
       "    }\n",
       "\n",
       "    .dataframe thead th {\n",
       "        text-align: right;\n",
       "    }\n",
       "</style>\n",
       "<table border=\"1\" class=\"dataframe\">\n",
       "  <thead>\n",
       "    <tr style=\"text-align: right;\">\n",
       "      <th></th>\n",
       "      <th>Вес</th>\n",
       "      <th>Рост</th>\n",
       "      <th>Наличие_медалей</th>\n",
       "    </tr>\n",
       "  </thead>\n",
       "  <tbody>\n",
       "    <tr>\n",
       "      <th>Дима</th>\n",
       "      <td>72</td>\n",
       "      <td>160</td>\n",
       "      <td>1</td>\n",
       "    </tr>\n",
       "    <tr>\n",
       "      <th>Гриша</th>\n",
       "      <td>66</td>\n",
       "      <td>144</td>\n",
       "      <td>0</td>\n",
       "    </tr>\n",
       "    <tr>\n",
       "      <th>Миша</th>\n",
       "      <td>68</td>\n",
       "      <td>154</td>\n",
       "      <td>0</td>\n",
       "    </tr>\n",
       "    <tr>\n",
       "      <th>Коля</th>\n",
       "      <td>74</td>\n",
       "      <td>210</td>\n",
       "      <td>1</td>\n",
       "    </tr>\n",
       "    <tr>\n",
       "      <th>Федя</th>\n",
       "      <td>68</td>\n",
       "      <td>182</td>\n",
       "      <td>1</td>\n",
       "    </tr>\n",
       "    <tr>\n",
       "      <th>Рома</th>\n",
       "      <td>64</td>\n",
       "      <td>159</td>\n",
       "      <td>0</td>\n",
       "    </tr>\n",
       "  </tbody>\n",
       "</table>\n",
       "</div>"
      ],
      "text/plain": [
       "       Вес  Рост  Наличие_медалей\n",
       "Дима    72   160                1\n",
       "Гриша   66   144                0\n",
       "Миша    68   154                0\n",
       "Коля    74   210                1\n",
       "Федя    68   182                1\n",
       "Рома    64   159                0"
      ]
     },
     "execution_count": 2,
     "metadata": {},
     "output_type": "execute_result"
    }
   ],
   "source": [
    "# загружаем данные\n",
    "data = pd.read_csv('Data/Corr.csv', sep=';', index_col=0)\n",
    "# выводим наблюдения датафрейма\n",
    "data"
   ]
  },
  {
   "cell_type": "code",
   "execution_count": 3,
   "metadata": {},
   "outputs": [
    {
     "data": {
      "text/plain": [
       "0.6791907247260153"
      ]
     },
     "execution_count": 3,
     "metadata": {},
     "output_type": "execute_result"
    }
   ],
   "source": [
    "# вычисляем коэффициент корреляции Пирсона\n",
    "# с помощью метода .corr() библиотеки pandas\n",
    "data['Вес'].corr(data['Рост'])"
   ]
  },
  {
   "cell_type": "code",
   "execution_count": 4,
   "metadata": {},
   "outputs": [
    {
     "data": {
      "text/plain": [
       "0.6791907247260153"
      ]
     },
     "execution_count": 4,
     "metadata": {},
     "output_type": "execute_result"
    }
   ],
   "source": [
    "# вычисляем коэффициент корреляции Пирсона вручную\n",
    "data['Вес'].cov(data['Рост']) / (data['Вес'].std() * data['Рост'].std())"
   ]
  },
  {
   "cell_type": "code",
   "execution_count": 5,
   "metadata": {},
   "outputs": [
    {
     "data": {
      "text/plain": [
       "0.6791907247260152"
      ]
     },
     "execution_count": 5,
     "metadata": {},
     "output_type": "execute_result"
    }
   ],
   "source": [
    "# еще можно вычислить корреляции Пирсона так\n",
    "X = (data['Вес'] - data['Вес'].mean()) / data['Вес'].std()\n",
    "Y = (data['Рост'] - data['Рост'].mean()) / data['Рост'].std()\n",
    "r_XY = sum(X * Y) / 5\n",
    "r_XY"
   ]
  },
  {
   "cell_type": "code",
   "execution_count": 6,
   "metadata": {},
   "outputs": [
    {
     "data": {
      "text/plain": [
       "(0.6791907247260152, 0.13786926734093197)"
      ]
     },
     "execution_count": 6,
     "metadata": {},
     "output_type": "execute_result"
    }
   ],
   "source": [
    "# теперь вычислим коэффициент корреляции Пирсона и p-значение\n",
    "# с помощью функции pearsonr() библиотеки scipy\n",
    "weight = np.array(data['Вес'])\n",
    "height = np.array(data['Рост'])\n",
    "stats.pearsonr(weight, height)"
   ]
  },
  {
   "cell_type": "code",
   "execution_count": 7,
   "metadata": {},
   "outputs": [
    {
     "data": {
      "text/plain": [
       "PointbiserialrResult(correlation=0.7230871254698281, pvalue=0.10440416804243928)"
      ]
     },
     "execution_count": 7,
     "metadata": {},
     "output_type": "execute_result"
    }
   ],
   "source": [
    "# вычисляем точечный бисериальный коэффициент\n",
    "medals = np.array(data['Наличие_медалей'])\n",
    "stats.pointbiserialr(height, medals)"
   ]
  },
  {
   "cell_type": "code",
   "execution_count": 8,
   "metadata": {},
   "outputs": [
    {
     "data": {
      "text/plain": [
       "0.7230871254698279"
      ]
     },
     "execution_count": 8,
     "metadata": {},
     "output_type": "execute_result"
    }
   ],
   "source": [
    "# теперь вычислим его вручную\n",
    "y_mean_0 = data[data['Наличие_медалей'] == 0].mean()['Рост']\n",
    "y_mean_1 = data[data['Наличие_медалей'] == 1].mean()['Рост']\n",
    "std = data['Рост'].std()\n",
    "n0 = data[data['Наличие_медалей'] == 0]['Наличие_медалей'].count()\n",
    "n1 = data[data['Наличие_медалей'] == 1]['Наличие_медалей'].count()\n",
    "n = len(data)\n",
    "r_bis = ((y_mean_1 - y_mean_0) / std) * np.sqrt((n1 * n0) / (n * (n - 1)))\n",
    "r_bis"
   ]
  }
 ],
 "metadata": {
  "kernelspec": {
   "display_name": "Python 3",
   "language": "python",
   "name": "python3"
  },
  "language_info": {
   "codemirror_mode": {
    "name": "ipython",
    "version": 3
   },
   "file_extension": ".py",
   "mimetype": "text/x-python",
   "name": "python",
   "nbconvert_exporter": "python",
   "pygments_lexer": "ipython3",
   "version": "3.7.1"
  }
 },
 "nbformat": 4,
 "nbformat_minor": 2
}
